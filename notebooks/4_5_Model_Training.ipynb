{
 "cells": [
  {
   "cell_type": "code",
   "execution_count": 1,
   "metadata": {},
   "outputs": [],
   "source": [
    "%load_ext autoreload\n",
    "%autoreload 2"
   ]
  },
  {
   "attachments": {},
   "cell_type": "markdown",
   "metadata": {},
   "source": [
    "# creacion del modelo de clasificacion"
   ]
  },
  {
   "attachments": {},
   "cell_type": "markdown",
   "metadata": {},
   "source": [
    "4. Entrena uno o varios modelos (usando el/los algoritmo(s) que prefieras) para estimar la probabilidad de atraso de un vuelo.\n",
    "Siéntete libre de generar variables adicionales y/o complementar con variables externas.\n",
    "\n",
    "5. Evalúa tu modelo. ¿Qué performance tiene? ¿Qué métricas usaste para evaluar esa performance y por qué? ¿Por qué\n",
    "elegiste ese algoritmo en particular? ¿Qué variables son las que más influyen en la predicción? ¿Cómo podrías mejorar la\n",
    "performance?\n",
    "\n",
    "### Métricas para evaluación de modelos con datos desbalanceados \n",
    "\n",
    "#### Efecto de datos desbalanceados\n",
    "\n",
    "- El accuracy es engañosa\n",
    "\n",
    "El rendimiento de los algoritmos de aprendizaje automático se evalúa normalmente mediante el accuracy. Sin embargo, esto no es apropiado cuando los datos están desbalanceados y/o los costos de los diferentes errores varían significativamente, dado que se puede obtener un acurracy bastante alto con sólo predecir la clase mayoritaria sin tomar en cuenta la clase minoritaria, que por lo regular suele ser el objetivo por el cuál se está realizando el modelo de clasificación.\n",
    "\n",
    "Por ejemplo, se hace uso de un conjunto de datos que contiene transacciones hechas con tarjetas de credito en Europa en septiembre de 2013. Se está interesado en predecir si una persona incumplirá con el pago de su tarjeta. Se observa que de las 284807 transacciones registradas, sólo 492 corresponden a personas que incumplieron con el pago de su tarjeta (0.2 %), por lo que un modelo que clasifique todas las observaciones como no fraudulentas obtendría un accuracy igual a 99.8 %. Esta precisión sería alta simplemente porque la mayoría de las transacciones no son fraudulentas y no porque el modelo sea bueno.\n",
    "\n",
    "- AUC ROC es demasiado optimista\n",
    "\n",
    "La curva Receiver Operating Characteristics (ROC) y el área bajo la curva ROC (AUROC) se han convertido en la métrica más común para evaluar un modelo de clasificación.\n",
    "\n",
    "El área bajo la curva (AUROC) es una métrica de rendimiento que se puede utilizar para evaluar modelos de clasificación. AUROC permite medir si un modelo puede clasificar correctamente los ejemplos. AUROC es una métrica de rendimiento para la “discriminación”: permite medir la capacidad del modelo para discriminar entre casos (ejemplos positivos) y no casos (ejemplos negativos). Un AUROC de 0.8 significa que el modelo tiene una buena capacidad de discriminación: 80 % de las ocasiones, el modelo asignará correctamente un riesgo absoluto más alto a un paciente seleccionado al azar con un evento que a un paciente seleccionado al azar sin un evento.\n",
    "\n",
    "El peor AUROC es 0.5 y el mejor AUROC es 1.0.\n",
    "\n",
    "Sin embargo, cuando la clase negativa es más frecuente pero hay un valor bajo en las predicciones negativas verdaderas esta metrica no presenta buenos resultados.\n",
    "\n",
    "Por ejemplo, considere el caso de un conjunto de datos que tiene 10 positivos y 100000 negativos. Se dispone de 2 modelos:\n",
    "\n",
    "Modelo A: predice 900 positivos, de los cuales 9 son verdaderos positivos Modelo B: predice 90 positivos, de los cuales 9 son verdaderos positivos\n",
    "\n",
    "Obviamente, el Modelo B tiene un mejor rendimiento. Aunque ambos predicen el mismo número de positivos, el Modelo B no genera tantos falsos positivos. En otras palabras, el Modelo B es más “preciso”. Sin embargo, considere el análisis ROC de los dos modelos, que mide la tasa de verdaderos positivos (TPR) contra la tasa de falsos positivos\n",
    "(FPR):\n",
    "\n",
    "- Modelo A: TPR = 9/10 = 0.9 y FPR = (900–9) / 100,000 = 0.00891 Modelo B: TPR = 9/10 = 0.9 y FPR = (90–9) / 100,000 = 0.00081\n",
    "\n",
    "Como era de esperar, TPR es exactamente el mismo entre ambos modelos. Por otro lado, dado que el número de negativos domina en gran medida al de positivos, la diferencia de FPR entre ambos modelos (0.00891-0.00081 = 0.0081) se pierde en el sentido de que se puede redondear a casi 0.\n",
    "\n",
    "En otras palabras, un gran cambio en el número de falsos positivos resultó en un pequeño cambio en el FPR y, por lo tanto, la curva ROC no puede reflejar el desempeño superior del Modelo B en el contexto de que los verdaderos negativos no son relevantes para el problema.\n",
    "\n",
    "- Precision-Recall\n",
    "\n",
    "En contraste, la curva Precision-Recall (PR) está diseñada específicamente para la detección de eventos raros y es la métrica que debe usarse cuando la clase positiva es de más interés que la negativa.\n",
    "\n",
    "Debido a que la precisión y la recall no consideran verdaderos negativos, la curva PR no se ve afectada por el desequilibrio de datos. Volviendo al ejemplo anterior:\n",
    "Modelo A: Recall = TPR = 0.9 y Precision = 9/900 = 0.01 Modelo B: Recall = TPR = 0.9 y Precision = 9/90 = 0.1\n",
    "\n",
    "Claramente, el análisis de PR es más informativo en comparación con el análisis de la curva ROC.\n",
    "\n",
    "### Entrenamiento o Training del modelo de clasifiacion binario\n",
    "Como sabemos nuestro dataset esta desbalanceado por este motivo recorreremos 3 caminos para seleccionar el mejor modelo\n",
    "- entrenamiento con datos desbalanceados, posblemente tengamos un accuracy alto pero el PR de label 1(atraso) sean bajas\n",
    "- entrenamiento con datos balanceados usando sub-muestreo, osea, igualar los labels eliminando datos de la clase con mas informacion, posiblemente tengamos un accuracy aceptable o bueno y un PR similar entre los labels.\n",
    "- entrenamiento con datos balanceados usando sobre-muestreo, osea, igualar los labels aumentando los datos de la clase con menos informacion, posiblemente tengamos un accuracy aceptable o bueno y un PR similar entre los labels."
   ]
  },
  {
   "attachments": {},
   "cell_type": "markdown",
   "metadata": {},
   "source": [
    "Para saber cuales serian las variables que mas pueden aporatar al modelo podemos hacer un test estadistico, Como la variable objetivo (y) es categórica, en lugar de utilizar un ANOVA para hacer una comparación de medias de las variables independientes, se puede utilizar un test estadístico para comparar la distribución de las variables independientes para cada categoría de la variable objetivo. Una opción popular es el test chi-cuadrado, que se puede calcular utilizando la función scipy.stats.chi2_contingency. Este test permite determinar si existe una asociación significativa entre la variable objetivo y cada una de las variables independientes."
   ]
  },
  {
   "cell_type": "code",
   "execution_count": 49,
   "metadata": {},
   "outputs": [],
   "source": [
    "# Importar las librerías necesarias\n",
    "import latam_airlines.utils.paths as path\n",
    "from latam_airlines.utils.latam_utils import modelPipeline, get_model_performance_test_set, save_simple_metrics_report, update_model\n",
    "\n",
    "import pandas as pd\n",
    "import numpy as np\n",
    "import seaborn as sns\n",
    "import matplotlib.pyplot as plt\n",
    "\n",
    "from sklearn.pipeline import Pipeline\n",
    "from sklearn.compose import ColumnTransformer\n",
    "from sklearn.preprocessing import StandardScaler, OneHotEncoder\n",
    "\n",
    "from sklearn.model_selection import train_test_split, cross_validate, GridSearchCV\n",
    "\n",
    "from sklearn.linear_model import LogisticRegression\n",
    "from sklearn.ensemble import RandomForestClassifier\n",
    "from xgboost import XGBClassifier\n",
    "\n",
    "from sklearn.metrics import classification_report, f1_score,precision_score,recall_score,accuracy_score, confusion_matrix\n",
    "\n",
    "rs = {'random_state': 42}"
   ]
  },
  {
   "cell_type": "code",
   "execution_count": 50,
   "metadata": {},
   "outputs": [
    {
     "data": {
      "text/html": [
       "<div>\n",
       "<style scoped>\n",
       "    .dataframe tbody tr th:only-of-type {\n",
       "        vertical-align: middle;\n",
       "    }\n",
       "\n",
       "    .dataframe tbody tr th {\n",
       "        vertical-align: top;\n",
       "    }\n",
       "\n",
       "    .dataframe thead th {\n",
       "        text-align: right;\n",
       "    }\n",
       "</style>\n",
       "<table border=\"1\" class=\"dataframe\">\n",
       "  <thead>\n",
       "    <tr style=\"text-align: right;\">\n",
       "      <th></th>\n",
       "      <th>DIA</th>\n",
       "      <th>MES</th>\n",
       "      <th>AÑO</th>\n",
       "      <th>HORA</th>\n",
       "      <th>MIN</th>\n",
       "      <th>periodo_dia</th>\n",
       "      <th>DIANOM</th>\n",
       "      <th>MESNOM</th>\n",
       "      <th>Des_I</th>\n",
       "      <th>TIPOVUELO</th>\n",
       "      <th>OPERA</th>\n",
       "      <th>Vlo_change</th>\n",
       "      <th>Emp_change</th>\n",
       "      <th>temporada_alta</th>\n",
       "      <th>atraso_15</th>\n",
       "    </tr>\n",
       "  </thead>\n",
       "  <tbody>\n",
       "    <tr>\n",
       "      <th>14888</th>\n",
       "      <td>19.0</td>\n",
       "      <td>3.0</td>\n",
       "      <td>2017.0</td>\n",
       "      <td>5</td>\n",
       "      <td>0</td>\n",
       "      <td>mañana</td>\n",
       "      <td>Domingo</td>\n",
       "      <td>Mar</td>\n",
       "      <td>SCAR</td>\n",
       "      <td>N</td>\n",
       "      <td>Sky Airline</td>\n",
       "      <td>0</td>\n",
       "      <td>0</td>\n",
       "      <td>0</td>\n",
       "      <td>0</td>\n",
       "    </tr>\n",
       "    <tr>\n",
       "      <th>54521</th>\n",
       "      <td>25.0</td>\n",
       "      <td>10.0</td>\n",
       "      <td>2017.0</td>\n",
       "      <td>14</td>\n",
       "      <td>35</td>\n",
       "      <td>tarde</td>\n",
       "      <td>Miercoles</td>\n",
       "      <td>Oct</td>\n",
       "      <td>SCFA</td>\n",
       "      <td>N</td>\n",
       "      <td>Grupo LATAM</td>\n",
       "      <td>0</td>\n",
       "      <td>0</td>\n",
       "      <td>0</td>\n",
       "      <td>0</td>\n",
       "    </tr>\n",
       "    <tr>\n",
       "      <th>67547</th>\n",
       "      <td>28.0</td>\n",
       "      <td>12.0</td>\n",
       "      <td>2017.0</td>\n",
       "      <td>19</td>\n",
       "      <td>45</td>\n",
       "      <td>noche</td>\n",
       "      <td>Jueves</td>\n",
       "      <td>Dic</td>\n",
       "      <td>SPJC</td>\n",
       "      <td>I</td>\n",
       "      <td>Grupo LATAM</td>\n",
       "      <td>1</td>\n",
       "      <td>1</td>\n",
       "      <td>1</td>\n",
       "      <td>0</td>\n",
       "    </tr>\n",
       "    <tr>\n",
       "      <th>54184</th>\n",
       "      <td>23.0</td>\n",
       "      <td>10.0</td>\n",
       "      <td>2017.0</td>\n",
       "      <td>20</td>\n",
       "      <td>25</td>\n",
       "      <td>noche</td>\n",
       "      <td>Lunes</td>\n",
       "      <td>Oct</td>\n",
       "      <td>SCFA</td>\n",
       "      <td>N</td>\n",
       "      <td>Grupo LATAM</td>\n",
       "      <td>0</td>\n",
       "      <td>1</td>\n",
       "      <td>0</td>\n",
       "      <td>0</td>\n",
       "    </tr>\n",
       "    <tr>\n",
       "      <th>54036</th>\n",
       "      <td>23.0</td>\n",
       "      <td>10.0</td>\n",
       "      <td>2017.0</td>\n",
       "      <td>6</td>\n",
       "      <td>45</td>\n",
       "      <td>mañana</td>\n",
       "      <td>Lunes</td>\n",
       "      <td>Oct</td>\n",
       "      <td>SBGR</td>\n",
       "      <td>I</td>\n",
       "      <td>Grupo LATAM</td>\n",
       "      <td>0</td>\n",
       "      <td>0</td>\n",
       "      <td>0</td>\n",
       "      <td>0</td>\n",
       "    </tr>\n",
       "  </tbody>\n",
       "</table>\n",
       "</div>"
      ],
      "text/plain": [
       "        DIA   MES     AÑO  HORA  MIN periodo_dia     DIANOM MESNOM Des_I  \\\n",
       "14888  19.0   3.0  2017.0     5    0      mañana    Domingo    Mar  SCAR   \n",
       "54521  25.0  10.0  2017.0    14   35       tarde  Miercoles    Oct  SCFA   \n",
       "67547  28.0  12.0  2017.0    19   45       noche     Jueves    Dic  SPJC   \n",
       "54184  23.0  10.0  2017.0    20   25       noche      Lunes    Oct  SCFA   \n",
       "54036  23.0  10.0  2017.0     6   45      mañana      Lunes    Oct  SBGR   \n",
       "\n",
       "      TIPOVUELO        OPERA  Vlo_change  Emp_change  temporada_alta  \\\n",
       "14888         N  Sky Airline           0           0               0   \n",
       "54521         N  Grupo LATAM           0           0               0   \n",
       "67547         I  Grupo LATAM           1           1               1   \n",
       "54184         N  Grupo LATAM           0           1               0   \n",
       "54036         I  Grupo LATAM           0           0               0   \n",
       "\n",
       "       atraso_15  \n",
       "14888          0  \n",
       "54521          0  \n",
       "67547          0  \n",
       "54184          0  \n",
       "54036          0  "
      ]
     },
     "execution_count": 50,
     "metadata": {},
     "output_type": "execute_result"
    }
   ],
   "source": [
    "# leemos el dataset de training\n",
    "data_train = pd.read_csv(path.data_processed_dir('data_train.csv'))\n",
    "data_train.sample(5)"
   ]
  },
  {
   "cell_type": "code",
   "execution_count": 51,
   "metadata": {},
   "outputs": [],
   "source": [
    "cols = data_train.drop('atraso_15', axis=1).columns\n",
    "for col in cols:\n",
    "    if col in ['DIA','MES','AÑO', 'HORA','MIN']:\n",
    "        data_train[col] = data_train[col].astype(int).astype(str)\n",
    "    else:\n",
    "        data_train[col] = data_train[col].astype(str)"
   ]
  },
  {
   "cell_type": "code",
   "execution_count": 52,
   "metadata": {},
   "outputs": [
    {
     "name": "stdout",
     "output_type": "stream",
     "text": [
      "P-value variable DIA: 7.867393993266961e-31\n",
      "P-value variable MES: 2.1517193601842396e-246\n",
      "P-value variable HORA: 3.8935697385017177e-94\n",
      "P-value variable MIN: 2.5598923720983557e-65\n",
      "P-value variable periodo_dia: 6.517629986484475e-37\n",
      "P-value variable DIANOM: 2.5667635629976846e-44\n",
      "P-value variable MESNOM: 2.151719360183995e-246\n",
      "P-value variable Des_I: 0.0\n",
      "P-value variable TIPOVUELO: 7.639241830438933e-139\n",
      "P-value variable OPERA: 0.0\n",
      "P-value variable Vlo_change: 9.710470204938671e-36\n",
      "P-value variable Emp_change: 0.04486985938729138\n",
      "P-value variable temporada_alta: 5.1905227983983924e-08\n"
     ]
    }
   ],
   "source": [
    "from scipy.stats import chi2_contingency\n",
    "\n",
    "p_value = []\n",
    "cols = data_train.drop('atraso_15', axis=1).columns\n",
    "for col in cols:\n",
    "    # Crea las tablas de contingencia para cada variable independiente\n",
    "    contingency_table_1 = pd.crosstab(data_train['atraso_15'], data_train[col])\n",
    "\n",
    "    # Realiza la prueba de chi-cuadrado para cada tabla de contingencia\n",
    "    chi2, p_value_1, dof, expected_values_1 = chi2_contingency(contingency_table_1)\n",
    "    if p_value_1< 0.05:\n",
    "        p_value.append({col:p_value_1})\n",
    "        # Imprime los resultados\n",
    "        print(f'P-value variable {col}: {p_value_1}')"
   ]
  },
  {
   "attachments": {},
   "cell_type": "markdown",
   "metadata": {},
   "source": [
    "Como resultados observamos que las variables escogidas son importante para poder predecir el atraso y nos aportan informacion relevante, a excepcion del anio, que no supero el test"
   ]
  },
  {
   "cell_type": "code",
   "execution_count": 53,
   "metadata": {},
   "outputs": [
    {
     "data": {
      "text/html": [
       "<div>\n",
       "<style scoped>\n",
       "    .dataframe tbody tr th:only-of-type {\n",
       "        vertical-align: middle;\n",
       "    }\n",
       "\n",
       "    .dataframe tbody tr th {\n",
       "        vertical-align: top;\n",
       "    }\n",
       "\n",
       "    .dataframe thead th {\n",
       "        text-align: right;\n",
       "    }\n",
       "</style>\n",
       "<table border=\"1\" class=\"dataframe\">\n",
       "  <thead>\n",
       "    <tr style=\"text-align: right;\">\n",
       "      <th></th>\n",
       "      <th>DIA</th>\n",
       "      <th>MES</th>\n",
       "      <th>HORA</th>\n",
       "      <th>MIN</th>\n",
       "      <th>periodo_dia</th>\n",
       "      <th>DIANOM</th>\n",
       "      <th>MESNOM</th>\n",
       "      <th>Des_I</th>\n",
       "      <th>TIPOVUELO</th>\n",
       "      <th>OPERA</th>\n",
       "      <th>Vlo_change</th>\n",
       "      <th>Emp_change</th>\n",
       "      <th>temporada_alta</th>\n",
       "      <th>atraso_15</th>\n",
       "    </tr>\n",
       "  </thead>\n",
       "  <tbody>\n",
       "    <tr>\n",
       "      <th>0</th>\n",
       "      <td>1</td>\n",
       "      <td>1</td>\n",
       "      <td>0</td>\n",
       "      <td>15</td>\n",
       "      <td>noche</td>\n",
       "      <td>Domingo</td>\n",
       "      <td>Ene</td>\n",
       "      <td>MMMX</td>\n",
       "      <td>I</td>\n",
       "      <td>Aeromexico</td>\n",
       "      <td>0</td>\n",
       "      <td>0</td>\n",
       "      <td>1</td>\n",
       "      <td>0</td>\n",
       "    </tr>\n",
       "    <tr>\n",
       "      <th>1</th>\n",
       "      <td>1</td>\n",
       "      <td>1</td>\n",
       "      <td>1</td>\n",
       "      <td>15</td>\n",
       "      <td>noche</td>\n",
       "      <td>Domingo</td>\n",
       "      <td>Ene</td>\n",
       "      <td>SKBO</td>\n",
       "      <td>I</td>\n",
       "      <td>Grupo LATAM</td>\n",
       "      <td>0</td>\n",
       "      <td>0</td>\n",
       "      <td>1</td>\n",
       "      <td>0</td>\n",
       "    </tr>\n",
       "    <tr>\n",
       "      <th>2</th>\n",
       "      <td>1</td>\n",
       "      <td>1</td>\n",
       "      <td>1</td>\n",
       "      <td>23</td>\n",
       "      <td>noche</td>\n",
       "      <td>Domingo</td>\n",
       "      <td>Ene</td>\n",
       "      <td>MPTO</td>\n",
       "      <td>I</td>\n",
       "      <td>Copa Air</td>\n",
       "      <td>0</td>\n",
       "      <td>0</td>\n",
       "      <td>1</td>\n",
       "      <td>0</td>\n",
       "    </tr>\n",
       "    <tr>\n",
       "      <th>3</th>\n",
       "      <td>1</td>\n",
       "      <td>1</td>\n",
       "      <td>1</td>\n",
       "      <td>33</td>\n",
       "      <td>noche</td>\n",
       "      <td>Domingo</td>\n",
       "      <td>Ene</td>\n",
       "      <td>SKBO</td>\n",
       "      <td>I</td>\n",
       "      <td>Avianca</td>\n",
       "      <td>0</td>\n",
       "      <td>0</td>\n",
       "      <td>1</td>\n",
       "      <td>0</td>\n",
       "    </tr>\n",
       "    <tr>\n",
       "      <th>4</th>\n",
       "      <td>1</td>\n",
       "      <td>1</td>\n",
       "      <td>1</td>\n",
       "      <td>42</td>\n",
       "      <td>noche</td>\n",
       "      <td>Domingo</td>\n",
       "      <td>Ene</td>\n",
       "      <td>MPTO</td>\n",
       "      <td>I</td>\n",
       "      <td>Copa Air</td>\n",
       "      <td>0</td>\n",
       "      <td>0</td>\n",
       "      <td>1</td>\n",
       "      <td>0</td>\n",
       "    </tr>\n",
       "  </tbody>\n",
       "</table>\n",
       "</div>"
      ],
      "text/plain": [
       "  DIA MES HORA MIN periodo_dia   DIANOM MESNOM Des_I TIPOVUELO        OPERA  \\\n",
       "0   1   1    0  15       noche  Domingo    Ene  MMMX         I   Aeromexico   \n",
       "1   1   1    1  15       noche  Domingo    Ene  SKBO         I  Grupo LATAM   \n",
       "2   1   1    1  23       noche  Domingo    Ene  MPTO         I     Copa Air   \n",
       "3   1   1    1  33       noche  Domingo    Ene  SKBO         I      Avianca   \n",
       "4   1   1    1  42       noche  Domingo    Ene  MPTO         I     Copa Air   \n",
       "\n",
       "  Vlo_change Emp_change temporada_alta  atraso_15  \n",
       "0          0          0              1          0  \n",
       "1          0          0              1          0  \n",
       "2          0          0              1          0  \n",
       "3          0          0              1          0  \n",
       "4          0          0              1          0  "
      ]
     },
     "execution_count": 53,
     "metadata": {},
     "output_type": "execute_result"
    }
   ],
   "source": [
    "data_train.drop(columns='AÑO', inplace=True)\n",
    "data_train.head(5)"
   ]
  },
  {
   "cell_type": "code",
   "execution_count": 54,
   "metadata": {},
   "outputs": [
    {
     "name": "stdout",
     "output_type": "stream",
     "text": [
      "<class 'pandas.core.frame.DataFrame'>\n",
      "RangeIndex: 68146 entries, 0 to 68145\n",
      "Data columns (total 14 columns):\n",
      " #   Column          Non-Null Count  Dtype \n",
      "---  ------          --------------  ----- \n",
      " 0   DIA             68146 non-null  object\n",
      " 1   MES             68146 non-null  object\n",
      " 2   HORA            68146 non-null  object\n",
      " 3   MIN             68146 non-null  object\n",
      " 4   periodo_dia     68146 non-null  object\n",
      " 5   DIANOM          68146 non-null  object\n",
      " 6   MESNOM          68146 non-null  object\n",
      " 7   Des_I           68146 non-null  object\n",
      " 8   TIPOVUELO       68146 non-null  object\n",
      " 9   OPERA           68146 non-null  object\n",
      " 10  Vlo_change      68146 non-null  object\n",
      " 11  Emp_change      68146 non-null  object\n",
      " 12  temporada_alta  68146 non-null  object\n",
      " 13  atraso_15       68146 non-null  int64 \n",
      "dtypes: int64(1), object(13)\n",
      "memory usage: 7.3+ MB\n"
     ]
    }
   ],
   "source": [
    "data_train.info()"
   ]
  },
  {
   "cell_type": "code",
   "execution_count": 55,
   "metadata": {},
   "outputs": [],
   "source": [
    "#Seleccionar la columnas importantes\n",
    "col_order = ['DIA', 'MES', 'HORA', 'MIN','Vlo_change', 'Emp_change','temporada_alta','periodo_dia','DIANOM', 'MESNOM','Des_I', 'TIPOVUELO', 'OPERA','atraso_15']\n",
    "data_train = data_train[col_order]\n",
    "# Exportar las columnas adicionales a un archivo .csv\n",
    "data_train.to_csv(path.data_processed_dir('data_train.csv'), index=False)"
   ]
  },
  {
   "attachments": {},
   "cell_type": "markdown",
   "metadata": {},
   "source": [
    "## Camino 1 - sin balancear el dataset"
   ]
  },
  {
   "cell_type": "code",
   "execution_count": 56,
   "metadata": {},
   "outputs": [],
   "source": [
    "# leemos el dataset de training\n",
    "data_train = pd.read_csv(path.data_processed_dir('data_train.csv'))"
   ]
  },
  {
   "cell_type": "code",
   "execution_count": 57,
   "metadata": {},
   "outputs": [
    {
     "data": {
      "image/png": "[encoded data removed]",
      "text/plain": [
       "<Figure size 500x500 with 1 Axes>"
      ]
     },
     "metadata": {},
     "output_type": "display_data"
    }
   ],
   "source": [
    "sns.catplot(\n",
    "    data= data_train,\n",
    "    x='atraso_15',\n",
    "    kind='count',\n",
    ")\n",
    "plt.xlabel('Atraso mayor a 15 min')\n",
    "plt.ylabel('Numero de Vuelos')\n",
    "plt.title('conteo de vuelos atrasados en el 2017')\n",
    "plt.show()"
   ]
  },
  {
   "cell_type": "code",
   "execution_count": 58,
   "metadata": {},
   "outputs": [],
   "source": [
    "# Dividir los datos en variables de entrada y salida\n",
    "X = data_train.drop('atraso_15', axis=1)\n",
    "y = data_train['atraso_15']\n",
    "\n",
    "# Dividir los datos en conjuntos de entrenamiento y prueba\n",
    "X_train, X_test, y_train, y_test = train_test_split(X, y, test_size=0.3, random_state=42)"
   ]
  },
  {
   "cell_type": "code",
   "execution_count": 59,
   "metadata": {},
   "outputs": [
    {
     "name": "stderr",
     "output_type": "stream",
     "text": [
      "/home/frandak2/latam_airlines/latam_airlines/utils/latam_utils.py:122: FutureWarning: The frame.append method is deprecated and will be removed from pandas in a future version. Use pandas.concat instead.\n",
      "  scores_df = scores_df.append({\n",
      "/home/frandak2/latam_airlines/latam_airlines/utils/latam_utils.py:122: FutureWarning: The frame.append method is deprecated and will be removed from pandas in a future version. Use pandas.concat instead.\n",
      "  scores_df = scores_df.append({\n",
      "/home/frandak2/latam_airlines/latam_airlines/utils/latam_utils.py:122: FutureWarning: The frame.append method is deprecated and will be removed from pandas in a future version. Use pandas.concat instead.\n",
      "  scores_df = scores_df.append({\n",
      "/home/frandak2/latam_airlines/latam_airlines/utils/latam_utils.py:122: FutureWarning: The frame.append method is deprecated and will be removed from pandas in a future version. Use pandas.concat instead.\n",
      "  scores_df = scores_df.append({\n",
      "/home/frandak2/latam_airlines/latam_airlines/utils/latam_utils.py:122: FutureWarning: The frame.append method is deprecated and will be removed from pandas in a future version. Use pandas.concat instead.\n",
      "  scores_df = scores_df.append({\n"
     ]
    },
    {
     "data": {
      "text/html": [
       "<div>\n",
       "<style scoped>\n",
       "    .dataframe tbody tr th:only-of-type {\n",
       "        vertical-align: middle;\n",
       "    }\n",
       "\n",
       "    .dataframe tbody tr th {\n",
       "        vertical-align: top;\n",
       "    }\n",
       "\n",
       "    .dataframe thead th {\n",
       "        text-align: right;\n",
       "    }\n",
       "</style>\n",
       "<table border=\"1\" class=\"dataframe\">\n",
       "  <thead>\n",
       "    <tr style=\"text-align: right;\">\n",
       "      <th></th>\n",
       "      <th>Model</th>\n",
       "      <th>F1_Score</th>\n",
       "      <th>Precision</th>\n",
       "      <th>Recall</th>\n",
       "      <th>Accuracy</th>\n",
       "    </tr>\n",
       "  </thead>\n",
       "  <tbody>\n",
       "    <tr>\n",
       "      <th>0</th>\n",
       "      <td>Logistic Regression</td>\n",
       "      <td>0.755422</td>\n",
       "      <td>0.780123</td>\n",
       "      <td>0.822002</td>\n",
       "      <td>0.822002</td>\n",
       "    </tr>\n",
       "    <tr>\n",
       "      <th>1</th>\n",
       "      <td>MLP</td>\n",
       "      <td>0.779200</td>\n",
       "      <td>0.772540</td>\n",
       "      <td>0.787664</td>\n",
       "      <td>0.787664</td>\n",
       "    </tr>\n",
       "    <tr>\n",
       "      <th>2</th>\n",
       "      <td>Decision Tree</td>\n",
       "      <td>0.749352</td>\n",
       "      <td>0.753669</td>\n",
       "      <td>0.745353</td>\n",
       "      <td>0.745353</td>\n",
       "    </tr>\n",
       "    <tr>\n",
       "      <th>3</th>\n",
       "      <td>Random Forest</td>\n",
       "      <td>0.784420</td>\n",
       "      <td>0.775943</td>\n",
       "      <td>0.812512</td>\n",
       "      <td>0.812512</td>\n",
       "    </tr>\n",
       "    <tr>\n",
       "      <th>4</th>\n",
       "      <td>XGBoost</td>\n",
       "      <td>0.789873</td>\n",
       "      <td>0.803723</td>\n",
       "      <td>0.832078</td>\n",
       "      <td>0.832078</td>\n",
       "    </tr>\n",
       "  </tbody>\n",
       "</table>\n",
       "</div>"
      ],
      "text/plain": [
       "                 Model  F1_Score  Precision    Recall  Accuracy\n",
       "0  Logistic Regression  0.755422   0.780123  0.822002  0.822002\n",
       "1                  MLP  0.779200   0.772540  0.787664  0.787664\n",
       "2        Decision Tree  0.749352   0.753669  0.745353  0.745353\n",
       "3        Random Forest  0.784420   0.775943  0.812512  0.812512\n",
       "4              XGBoost  0.789873   0.803723  0.832078  0.832078"
      ]
     },
     "execution_count": 59,
     "metadata": {},
     "output_type": "execute_result"
    }
   ],
   "source": [
    "# entrenamos y evaluamos diferentes modelos\n",
    "pipelines, scores_df = modelPipeline(X_train, X_test, y_train, y_test)\n",
    "scores_df"
   ]
  },
  {
   "attachments": {},
   "cell_type": "markdown",
   "metadata": {},
   "source": [
    "Esta tabla muestra los resultados de 5 modelos diferentes de ML en un problema de clasificación. Las métricas incluyen F1 Score, Precision, Recall y Accuracy. Estas métricas permiten evaluar la capacidad de los modelos para clasificar correctamente las etiquetas de la clase objetivo. \n",
    "- F1 Score es una métrica combinada de Precision y Recall. \n",
    "- Precision mide la cantidad de etiquetas positivas correctas en comparación con las etiquetas positivas totales predichas. osea, la capacidad del modelo de clasificar realmente si un vuelo se atraso \n",
    "- Recall mide la cantidad de etiquetas positivas correctas en comparación con las etiquetas positivas totales reales. osea, el acierto del modelo para clasificar un vuelo con o sin retraso en la realidad\n",
    "- Accuracy mide la proporción de etiquetas clasificadas correctamente. Esta metrica puede ser enganosa, hay que ver muy bien como se comporta la matriz de confusion\n",
    "\n",
    "Para la selelcion del modelo tomaremos el modelo que presente mejore metricas."
   ]
  },
  {
   "cell_type": "code",
   "execution_count": 60,
   "metadata": {},
   "outputs": [],
   "source": [
    "# Crear una pipeline que incluya el ColumnTransformer y el RandomForestClassifier\n",
    "# Crear un objeto ColumnTransformer\n",
    "preprocessor = ColumnTransformer(\n",
    "    transformers=[\n",
    "        ('num', StandardScaler( with_mean=False), ['DIA', 'MES', 'HORA', 'MIN','Vlo_change', 'Emp_change','temporada_alta']),\n",
    "        ('cat-nominal', OneHotEncoder(), ['periodo_dia','DIANOM', 'MESNOM','Des_I', 'TIPOVUELO', 'OPERA'])\n",
    "    ],\n",
    "    )\n",
    "pipe = Pipeline(steps=[\n",
    "    ('preprocessor', preprocessor),\n",
    "    ('model',XGBClassifier(**rs))\n",
    "    ]\n",
    ")"
   ]
  },
  {
   "cell_type": "code",
   "execution_count": 61,
   "metadata": {},
   "outputs": [
    {
     "name": "stdout",
     "output_type": "stream",
     "text": [
      "Dispersion del score en la validacion cruzada\n",
      "Dispersion train score: 0.00012551069914364303\n",
      "Dispersion test score: 0.0010078741350982613\n",
      "media del score en la validacion cruzada\n",
      "media train score: 0.8463062345690371\n",
      "media test score: 0.824242135398436\n",
      "              precision    recall  f1-score   support\n",
      "\n",
      "           0       0.84      0.98      0.91     16759\n",
      "           1       0.63      0.17      0.27      3685\n",
      "\n",
      "    accuracy                           0.83     20444\n",
      "   macro avg       0.73      0.57      0.59     20444\n",
      "weighted avg       0.80      0.83      0.79     20444\n",
      "\n"
     ]
    }
   ],
   "source": [
    "# realizar validacion cruzada\n",
    "final_result = cross_validate(pipe, X_train, y_train, return_train_score=True, cv=5)\n",
    "#observamos la dispersion del score\n",
    "train_score_std = np.std(final_result['train_score'])\n",
    "test_score_std = np.std(final_result['test_score'])\n",
    "print('Dispersion del score en la validacion cruzada')\n",
    "print(f'Dispersion train score: {train_score_std}')\n",
    "print(f'Dispersion test score: {test_score_std}')\n",
    "\n",
    "# Observamos la media del score\n",
    "train_score_mean = np.mean(final_result['train_score'])\n",
    "test_score_mean = np.mean(final_result['test_score'])\n",
    "print('media del score en la validacion cruzada')\n",
    "print(f'media train score: {train_score_mean}')\n",
    "print(f'media test score: {test_score_mean}')\n",
    "\n",
    "# Entrenar modelo\n",
    "pipe.fit(X_train, y_train)\n",
    "# Mostrar los resultados\n",
    "\n",
    "validation_score =pipe.score(X_test, y_test)\n",
    "\n",
    "y_pred = pipe.predict(X_test)\n",
    "\n",
    "# Imprimiendo el reporte de clasificación\n",
    "report = classification_report(y_test, y_pred)\n",
    "print(report)"
   ]
  },
  {
   "attachments": {},
   "cell_type": "markdown",
   "metadata": {},
   "source": [
    "Se puede concluir lo siguiente:\n",
    "\n",
    "- Para la clase 0 (no atraso), el modelo tiene una precision de 0.84, lo que significa que el 84% de los casos clasificados como no atrasados son realmente no atrasados.\n",
    "- Para la clase 0 (no atraso), el modelo tiene un recall de 0.98, lo que significa que el 98% de los casos reales de no atraso son identificados correctamente por el modelo.\n",
    "- Para la clase 0 (no atraso), el modelo tiene un f1-score de 0.91, lo que indica un buen desempeño en la clasificación de la clase 0.\n",
    "- Para la clase 1 (atraso), el modelo tiene una precision de 0.63, lo que significa que solo el 63% de los casos clasificados como atrasados son realmente atrasados.\n",
    "- Para la clase 1 (atraso), el modelo tiene un recall de 0.17, lo que significa que solo el 17% de los casos reales de atraso son identificados correctamente por el modelo.\n",
    "- Para la clase 1 (atraso), el modelo tiene un f1-score de 0.27, lo que indica un mal desempeño en la clasificación de la clase 1.\n",
    "- El accuracy general del modelo es de 0.83, lo que significa que el modelo predice correctamente el 83% de las veces en promedio.\n",
    "\n",
    "Es importante considerar tanto la precision como el recall para la clase minoritaria (atraso), ya que un modelo con una precision alta pero un recall bajo no será útil si se desea detectar todos los casos de atraso. En este caso, se podría considerar la re-calibración del modelo o la utilización de técnicas de balanceo de datos para mejorar su desempeño en la clasificación de la clase minoritaria."
   ]
  },
  {
   "cell_type": "code",
   "execution_count": 62,
   "metadata": {},
   "outputs": [
    {
     "data": {
      "image/png": "[encoded data removed]",
      "text/plain": [
       "<Figure size 1200x800 with 2 Axes>"
      ]
     },
     "metadata": {},
     "output_type": "display_data"
    }
   ],
   "source": [
    "get_model_performance_test_set('cm_unbalanced', y_test, y_pred)"
   ]
  },
  {
   "cell_type": "code",
   "execution_count": 63,
   "metadata": {},
   "outputs": [],
   "source": [
    "save_simple_metrics_report('report_unbalanced', train_score_mean, test_score_mean, validation_score, report, pipe)"
   ]
  },
  {
   "attachments": {},
   "cell_type": "markdown",
   "metadata": {},
   "source": [
    "## Camino 2.0 - balanceando el dataset (sub-muestreo)"
   ]
  },
  {
   "cell_type": "code",
   "execution_count": 64,
   "metadata": {},
   "outputs": [],
   "source": [
    "# leemos el dataset de training\n",
    "data_train = pd.read_csv(path.data_processed_dir('data_train.csv'))"
   ]
  },
  {
   "cell_type": "code",
   "execution_count": 65,
   "metadata": {},
   "outputs": [
    {
     "data": {
      "image/png": "[encoded data removed]",
      "text/plain": [
       "<Figure size 500x500 with 1 Axes>"
      ]
     },
     "metadata": {},
     "output_type": "display_data"
    }
   ],
   "source": [
    "sns.catplot(\n",
    "    data= data_train,\n",
    "    x='atraso_15',\n",
    "    kind='count',\n",
    ")\n",
    "plt.xlabel('Atraso mayor a 15 min')\n",
    "plt.ylabel('Numero de Vuelos')\n",
    "plt.title('conteo de vuelos atrasados en el 2017')\n",
    "plt.show()"
   ]
  },
  {
   "cell_type": "code",
   "execution_count": 66,
   "metadata": {},
   "outputs": [
    {
     "data": {
      "text/plain": [
       "0    55550\n",
       "1    12596\n",
       "Name: atraso_15, dtype: int64"
      ]
     },
     "execution_count": 66,
     "metadata": {},
     "output_type": "execute_result"
    }
   ],
   "source": [
    "data_train['atraso_15'].value_counts()"
   ]
  },
  {
   "cell_type": "code",
   "execution_count": 67,
   "metadata": {},
   "outputs": [],
   "source": [
    "data = pd.concat(\n",
    "    [data_train[data_train['atraso_15']==0].sample(12596),data_train[data_train['atraso_15']==1]]\n",
    ")"
   ]
  },
  {
   "cell_type": "code",
   "execution_count": 68,
   "metadata": {},
   "outputs": [
    {
     "data": {
      "image/png": "[encoded data removed]",
      "text/plain": [
       "<Figure size 500x500 with 1 Axes>"
      ]
     },
     "metadata": {},
     "output_type": "display_data"
    }
   ],
   "source": [
    "sns.catplot(\n",
    "    data= data,\n",
    "    x='atraso_15',\n",
    "    kind='count',\n",
    ")\n",
    "plt.xlabel('Atraso mayor a 15 min')\n",
    "plt.ylabel('Numero de Vuelos')\n",
    "plt.title('conteo de vuelos atrasados en el 2017')\n",
    "plt.show()"
   ]
  },
  {
   "cell_type": "code",
   "execution_count": 69,
   "metadata": {},
   "outputs": [],
   "source": [
    "# Dividir los datos en variables de entrada y salida\n",
    "X = data.drop('atraso_15', axis=1)\n",
    "y = data['atraso_15']\n",
    "\n",
    "# Dividir los datos en conjuntos de entrenamiento y prueba\n",
    "X_train, X_test, y_train, y_test = train_test_split(X, y, test_size=0.3, random_state=42)"
   ]
  },
  {
   "cell_type": "code",
   "execution_count": 70,
   "metadata": {},
   "outputs": [
    {
     "name": "stderr",
     "output_type": "stream",
     "text": [
      "/home/frandak2/latam_airlines/latam_airlines/utils/latam_utils.py:122: FutureWarning: The frame.append method is deprecated and will be removed from pandas in a future version. Use pandas.concat instead.\n",
      "  scores_df = scores_df.append({\n",
      "/home/frandak2/latam_airlines/latam_airlines/utils/latam_utils.py:122: FutureWarning: The frame.append method is deprecated and will be removed from pandas in a future version. Use pandas.concat instead.\n",
      "  scores_df = scores_df.append({\n",
      "/home/frandak2/latam_airlines/latam_airlines/utils/latam_utils.py:122: FutureWarning: The frame.append method is deprecated and will be removed from pandas in a future version. Use pandas.concat instead.\n",
      "  scores_df = scores_df.append({\n",
      "/home/frandak2/latam_airlines/latam_airlines/utils/latam_utils.py:122: FutureWarning: The frame.append method is deprecated and will be removed from pandas in a future version. Use pandas.concat instead.\n",
      "  scores_df = scores_df.append({\n",
      "/home/frandak2/latam_airlines/latam_airlines/utils/latam_utils.py:122: FutureWarning: The frame.append method is deprecated and will be removed from pandas in a future version. Use pandas.concat instead.\n",
      "  scores_df = scores_df.append({\n"
     ]
    },
    {
     "data": {
      "text/html": [
       "<div>\n",
       "<style scoped>\n",
       "    .dataframe tbody tr th:only-of-type {\n",
       "        vertical-align: middle;\n",
       "    }\n",
       "\n",
       "    .dataframe tbody tr th {\n",
       "        vertical-align: top;\n",
       "    }\n",
       "\n",
       "    .dataframe thead th {\n",
       "        text-align: right;\n",
       "    }\n",
       "</style>\n",
       "<table border=\"1\" class=\"dataframe\">\n",
       "  <thead>\n",
       "    <tr style=\"text-align: right;\">\n",
       "      <th></th>\n",
       "      <th>Model</th>\n",
       "      <th>F1_Score</th>\n",
       "      <th>Precision</th>\n",
       "      <th>Recall</th>\n",
       "      <th>Accuracy</th>\n",
       "    </tr>\n",
       "  </thead>\n",
       "  <tbody>\n",
       "    <tr>\n",
       "      <th>0</th>\n",
       "      <td>Logistic Regression</td>\n",
       "      <td>0.633491</td>\n",
       "      <td>0.633488</td>\n",
       "      <td>0.633501</td>\n",
       "      <td>0.633501</td>\n",
       "    </tr>\n",
       "    <tr>\n",
       "      <th>1</th>\n",
       "      <td>MLP</td>\n",
       "      <td>0.622058</td>\n",
       "      <td>0.622832</td>\n",
       "      <td>0.622255</td>\n",
       "      <td>0.622255</td>\n",
       "    </tr>\n",
       "    <tr>\n",
       "      <th>2</th>\n",
       "      <td>Decision Tree</td>\n",
       "      <td>0.616783</td>\n",
       "      <td>0.617078</td>\n",
       "      <td>0.616830</td>\n",
       "      <td>0.616830</td>\n",
       "    </tr>\n",
       "    <tr>\n",
       "      <th>3</th>\n",
       "      <td>Random Forest</td>\n",
       "      <td>0.646731</td>\n",
       "      <td>0.646730</td>\n",
       "      <td>0.646732</td>\n",
       "      <td>0.646732</td>\n",
       "    </tr>\n",
       "    <tr>\n",
       "      <th>4</th>\n",
       "      <td>XGBoost</td>\n",
       "      <td>0.663013</td>\n",
       "      <td>0.663049</td>\n",
       "      <td>0.663006</td>\n",
       "      <td>0.663006</td>\n",
       "    </tr>\n",
       "  </tbody>\n",
       "</table>\n",
       "</div>"
      ],
      "text/plain": [
       "                 Model  F1_Score  Precision    Recall  Accuracy\n",
       "0  Logistic Regression  0.633491   0.633488  0.633501  0.633501\n",
       "1                  MLP  0.622058   0.622832  0.622255  0.622255\n",
       "2        Decision Tree  0.616783   0.617078  0.616830  0.616830\n",
       "3        Random Forest  0.646731   0.646730  0.646732  0.646732\n",
       "4              XGBoost  0.663013   0.663049  0.663006  0.663006"
      ]
     },
     "execution_count": 70,
     "metadata": {},
     "output_type": "execute_result"
    }
   ],
   "source": [
    "# entrenamos y evaluamos diferentes modelos\n",
    "pipelines, scores_df = modelPipeline(X_train, X_test, y_train, y_test)\n",
    "scores_df"
   ]
  },
  {
   "cell_type": "code",
   "execution_count": 71,
   "metadata": {},
   "outputs": [
    {
     "name": "stdout",
     "output_type": "stream",
     "text": [
      "Dispersion del score en la validacion cruzada\n",
      "Dispersion train score: 0.0016393191920711148\n",
      "Dispersion test score: 0.007233352935463822\n",
      "media del score en la validacion cruzada\n",
      "media train score: 0.7873851343017337\n",
      "media test score: 0.6634340291352617\n",
      "              precision    recall  f1-score   support\n",
      "\n",
      "           0       0.67      0.66      0.66      3814\n",
      "           1       0.66      0.66      0.66      3744\n",
      "\n",
      "    accuracy                           0.66      7558\n",
      "   macro avg       0.66      0.66      0.66      7558\n",
      "weighted avg       0.66      0.66      0.66      7558\n",
      "\n"
     ]
    }
   ],
   "source": [
    "# Crear una pipeline que incluya el ColumnTransformer y el XGBClassifier\n",
    "# Crear un objeto ColumnTransformer\n",
    "preprocessor = ColumnTransformer(\n",
    "    transformers=[\n",
    "        ('num', StandardScaler( with_mean=False), ['DIA', 'MES', 'HORA', 'MIN','Vlo_change', 'Emp_change','temporada_alta']),\n",
    "        ('cat-nominal', OneHotEncoder(), ['periodo_dia','DIANOM', 'MESNOM','Des_I', 'TIPOVUELO', 'OPERA'])\n",
    "    ],\n",
    "    )\n",
    "pipe = Pipeline(steps=[\n",
    "    ('preprocessor', preprocessor),\n",
    "    ('model',XGBClassifier(**rs))\n",
    "    ]\n",
    ")\n",
    "\n",
    "# realizar validacion cruzada\n",
    "final_result = cross_validate(pipe, X_train, y_train, return_train_score=True, cv=5)\n",
    "#observamos la dispersion del score\n",
    "train_score_std = np.std(final_result['train_score'])\n",
    "test_score_std = np.std(final_result['test_score'])\n",
    "print('Dispersion del score en la validacion cruzada')\n",
    "print(f'Dispersion train score: {train_score_std}')\n",
    "print(f'Dispersion test score: {test_score_std}')\n",
    "\n",
    "# Observamos la media del score\n",
    "train_score_mean = np.mean(final_result['train_score'])\n",
    "test_score_mean = np.mean(final_result['test_score'])\n",
    "print('media del score en la validacion cruzada')\n",
    "print(f'media train score: {train_score_mean}')\n",
    "print(f'media test score: {test_score_mean}')\n",
    "\n",
    "# Entrenar modelo\n",
    "pipe.fit(X_train, y_train)\n",
    "# Mostrar los resultados\n",
    "\n",
    "validation_score =pipe.score(X_test, y_test)\n",
    "\n",
    "y_pred = pipe.predict(X_test)\n",
    "\n",
    "# Imprimiendo el reporte de clasificación\n",
    "report = classification_report(y_test, y_pred)\n",
    "print(report)"
   ]
  },
  {
   "attachments": {},
   "cell_type": "markdown",
   "metadata": {},
   "source": [
    "Se puede concluir lo siguiente:\n",
    "\n",
    "- Para la clase 0 (no atraso), el 67% de los casos clasificados como no atrasados son realmente no atrasados.\n",
    "- Para la clase 0 (no atraso), el 66% de los casos reales de no atraso son identificados correctamente por el modelo.\n",
    "- Para la clase 1 (atraso), el 66% de los casos clasificados como atrasados son realmente atrasados.\n",
    "- Para la clase 1 (atraso), el 67% de los casos reales de atraso son identificados correctamente por el modelo.\n",
    "- El accuracy general del modelo es de 0.67, lo que significa que el modelo predice correctamente el 67% de las veces en promedio.\n",
    "\n",
    "En este caso, se podría considerar hacer un over-sampling del modelo para mejorar su desempeño en la clasificación de las clases."
   ]
  },
  {
   "cell_type": "code",
   "execution_count": 72,
   "metadata": {},
   "outputs": [
    {
     "data": {
      "image/png": "[encoded data removed]",
      "text/plain": [
       "<Figure size 1200x800 with 2 Axes>"
      ]
     },
     "metadata": {},
     "output_type": "display_data"
    }
   ],
   "source": [
    "get_model_performance_test_set('cm_balanced_sub', y_test, y_pred)"
   ]
  },
  {
   "cell_type": "code",
   "execution_count": 73,
   "metadata": {},
   "outputs": [],
   "source": [
    "save_simple_metrics_report('report_balanced_sub', train_score_mean, test_score_mean, validation_score, report, pipe)\n",
    "update_model('model_balanced_sub',pipe)"
   ]
  },
  {
   "attachments": {},
   "cell_type": "markdown",
   "metadata": {},
   "source": [
    "## Camino 2.1 - balanceando el dataset (sobre-muestreo)\n",
    "### Creacion de Data aumentation"
   ]
  },
  {
   "cell_type": "code",
   "execution_count": 74,
   "metadata": {},
   "outputs": [],
   "source": [
    "# Importar las librerías necesarias\n",
    "import latam_airlines.utils.paths as path\n",
    "from latam_airlines.utils.latam_utils import check_quality\n",
    "\n",
    "import pandas as pd\n",
    "import numpy as np\n",
    "import seaborn as sns\n",
    "import matplotlib.pyplot as plt\n",
    "\n",
    "from imblearn.over_sampling import SMOTE\n",
    "\n",
    "from sklearn.compose import ColumnTransformer\n",
    "from sklearn.preprocessing import StandardScaler, OneHotEncoder"
   ]
  },
  {
   "cell_type": "code",
   "execution_count": 75,
   "metadata": {},
   "outputs": [],
   "source": [
    "# leemos el dataset de training\n",
    "data_train = pd.read_csv(path.data_processed_dir('data_train.csv'))\n",
    "# Obtiene las características y la variable objetivo\n",
    "X = data_train.drop(\"atraso_15\", axis=1)\n",
    "y = data_train[\"atraso_15\"]\n",
    "\n",
    "# Crear una pipeline que incluya el ColumnTransformer\n",
    "# Crear un objeto ColumnTransformer\n",
    "preprocessor = ColumnTransformer(\n",
    "    transformers=[\n",
    "        ('num', StandardScaler( with_mean=False), ['DIA', 'MES', 'HORA', 'MIN','Vlo_change', 'Emp_change','temporada_alta']),\n",
    "        ('cat-nominal', OneHotEncoder(), ['periodo_dia','DIANOM', 'MESNOM','Des_I', 'TIPOVUELO', 'OPERA'])\n",
    "    ],\n",
    "    )\n",
    "\n",
    "#transformar datos\n",
    "X_transform = preprocessor.fit_transform(X)\n",
    "\n",
    "# Aplica SMOTE para generar datos sintéticos\n",
    "smote = SMOTE(sampling_strategy='minority',random_state=42)\n",
    "X_resampled, y_resampled = smote.fit_resample(X_transform, y)\n",
    "\n",
    "# Inversión de la transformación de escalamiento\n",
    "scaler = preprocessor.named_transformers_['num']\n",
    "X_scaled = scaler.inverse_transform(X_resampled[:, :7])\n",
    "\n",
    "# Inversión de la transformación One-hot\n",
    "onehot = preprocessor.named_transformers_['cat-nominal']\n",
    "X_onehot = X_resampled[:, 7:]\n",
    "X_original = onehot.inverse_transform(X_onehot)\n",
    "\n",
    "# Concatena los valores originales y convierte el resultado en un DataFrame\n",
    "X_recovered = np.concatenate([X_scaled.toarray().astype(int), X_original], axis=1)"
   ]
  },
  {
   "cell_type": "code",
   "execution_count": 76,
   "metadata": {},
   "outputs": [],
   "source": [
    "data_train_balanced = pd.DataFrame(X_recovered, columns=X.columns)\n",
    "data_train_balanced[\"atraso_15\"] = y_resampled"
   ]
  },
  {
   "cell_type": "code",
   "execution_count": 77,
   "metadata": {},
   "outputs": [
    {
     "data": {
      "image/png": "[encoded data removed]",
      "text/plain": [
       "<Figure size 500x500 with 1 Axes>"
      ]
     },
     "metadata": {},
     "output_type": "display_data"
    }
   ],
   "source": [
    "sns.catplot(\n",
    "    data= data_train_balanced,\n",
    "    x='atraso_15',\n",
    "    kind='count',\n",
    ")\n",
    "plt.xlabel('Atraso mayor a 15 min')\n",
    "plt.ylabel('Numero de Vuelos')\n",
    "plt.title('conteo de vuelos atrasados en el 2017')\n",
    "plt.show()"
   ]
  },
  {
   "cell_type": "code",
   "execution_count": 78,
   "metadata": {},
   "outputs": [
    {
     "name": "stdout",
     "output_type": "stream",
     "text": [
      "Valores NA por columna:\n",
      "DIA               0\n",
      "MES               0\n",
      "HORA              0\n",
      "MIN               0\n",
      "Vlo_change        0\n",
      "Emp_change        0\n",
      "temporada_alta    0\n",
      "periodo_dia       0\n",
      "DIANOM            0\n",
      "MESNOM            0\n",
      "Des_I             0\n",
      "TIPOVUELO         0\n",
      "OPERA             0\n",
      "atraso_15         0\n",
      "dtype: int64\n",
      "\n",
      "Cantidad de datos duplicados:\n",
      "13134\n",
      "\n",
      "Valores únicos por columna:\n",
      "DIA               31\n",
      "MES               12\n",
      "HORA              24\n",
      "MIN               60\n",
      "Vlo_change         2\n",
      "Emp_change         2\n",
      "temporada_alta     2\n",
      "periodo_dia        3\n",
      "DIANOM             7\n",
      "MESNOM            12\n",
      "Des_I             52\n",
      "TIPOVUELO          2\n",
      "OPERA             23\n",
      "atraso_15          2\n",
      "dtype: int64\n"
     ]
    }
   ],
   "source": [
    "check_quality(data_train_balanced)"
   ]
  },
  {
   "cell_type": "code",
   "execution_count": 79,
   "metadata": {},
   "outputs": [],
   "source": [
    "data_train_balanced.drop_duplicates(inplace=True)"
   ]
  },
  {
   "cell_type": "code",
   "execution_count": 80,
   "metadata": {},
   "outputs": [],
   "source": [
    "# Guarda el dataset balanceado en un archivo\n",
    "data_train_balanced.to_csv(path.data_processed_dir('data_train_balanced.csv'), index=False)"
   ]
  },
  {
   "cell_type": "code",
   "execution_count": 81,
   "metadata": {},
   "outputs": [],
   "source": [
    "data_train_balanced = pd.read_csv(path.data_processed_dir('data_train_balanced.csv'))"
   ]
  },
  {
   "cell_type": "code",
   "execution_count": 82,
   "metadata": {},
   "outputs": [
    {
     "data": {
      "image/png": "[encoded data removed]",
      "text/plain": [
       "<Figure size 500x500 with 1 Axes>"
      ]
     },
     "metadata": {},
     "output_type": "display_data"
    }
   ],
   "source": [
    "sns.catplot(\n",
    "    data= data_train_balanced,\n",
    "    x='atraso_15',\n",
    "    kind='count',\n",
    ")\n",
    "plt.xlabel('Atraso mayor a 15 min')\n",
    "plt.ylabel('Numero de Vuelos')\n",
    "plt.title('conteo de vuelos atrasados en el 2017')\n",
    "plt.show()"
   ]
  },
  {
   "cell_type": "code",
   "execution_count": 83,
   "metadata": {},
   "outputs": [],
   "source": [
    "# Dividir los datos en variables de entrada y salida\n",
    "X = data_train_balanced.drop('atraso_15', axis=1)\n",
    "y = data_train_balanced['atraso_15']\n",
    "\n",
    "# Dividir los datos en conjuntos de entrenamiento y prueba\n",
    "X_train, X_test, y_train, y_test = train_test_split(X, y, test_size=0.3, random_state=42)"
   ]
  },
  {
   "cell_type": "code",
   "execution_count": 84,
   "metadata": {},
   "outputs": [
    {
     "name": "stderr",
     "output_type": "stream",
     "text": [
      "/home/frandak2/latam_airlines/latam_airlines/utils/latam_utils.py:122: FutureWarning: The frame.append method is deprecated and will be removed from pandas in a future version. Use pandas.concat instead.\n",
      "  scores_df = scores_df.append({\n",
      "/home/frandak2/latam_airlines/latam_airlines/utils/latam_utils.py:122: FutureWarning: The frame.append method is deprecated and will be removed from pandas in a future version. Use pandas.concat instead.\n",
      "  scores_df = scores_df.append({\n",
      "/home/frandak2/latam_airlines/latam_airlines/utils/latam_utils.py:122: FutureWarning: The frame.append method is deprecated and will be removed from pandas in a future version. Use pandas.concat instead.\n",
      "  scores_df = scores_df.append({\n",
      "/home/frandak2/latam_airlines/latam_airlines/utils/latam_utils.py:122: FutureWarning: The frame.append method is deprecated and will be removed from pandas in a future version. Use pandas.concat instead.\n",
      "  scores_df = scores_df.append({\n",
      "/home/frandak2/latam_airlines/latam_airlines/utils/latam_utils.py:122: FutureWarning: The frame.append method is deprecated and will be removed from pandas in a future version. Use pandas.concat instead.\n",
      "  scores_df = scores_df.append({\n"
     ]
    },
    {
     "data": {
      "text/html": [
       "<div>\n",
       "<style scoped>\n",
       "    .dataframe tbody tr th:only-of-type {\n",
       "        vertical-align: middle;\n",
       "    }\n",
       "\n",
       "    .dataframe tbody tr th {\n",
       "        vertical-align: top;\n",
       "    }\n",
       "\n",
       "    .dataframe thead th {\n",
       "        text-align: right;\n",
       "    }\n",
       "</style>\n",
       "<table border=\"1\" class=\"dataframe\">\n",
       "  <thead>\n",
       "    <tr style=\"text-align: right;\">\n",
       "      <th></th>\n",
       "      <th>Model</th>\n",
       "      <th>F1_Score</th>\n",
       "      <th>Precision</th>\n",
       "      <th>Recall</th>\n",
       "      <th>Accuracy</th>\n",
       "    </tr>\n",
       "  </thead>\n",
       "  <tbody>\n",
       "    <tr>\n",
       "      <th>0</th>\n",
       "      <td>Logistic Regression</td>\n",
       "      <td>0.636317</td>\n",
       "      <td>0.644494</td>\n",
       "      <td>0.647873</td>\n",
       "      <td>0.647873</td>\n",
       "    </tr>\n",
       "    <tr>\n",
       "      <th>1</th>\n",
       "      <td>MLP</td>\n",
       "      <td>0.741863</td>\n",
       "      <td>0.741842</td>\n",
       "      <td>0.741885</td>\n",
       "      <td>0.741885</td>\n",
       "    </tr>\n",
       "    <tr>\n",
       "      <th>2</th>\n",
       "      <td>Decision Tree</td>\n",
       "      <td>0.787859</td>\n",
       "      <td>0.790259</td>\n",
       "      <td>0.787138</td>\n",
       "      <td>0.787138</td>\n",
       "    </tr>\n",
       "    <tr>\n",
       "      <th>3</th>\n",
       "      <td>Random Forest</td>\n",
       "      <td>0.863202</td>\n",
       "      <td>0.864746</td>\n",
       "      <td>0.862810</td>\n",
       "      <td>0.862810</td>\n",
       "    </tr>\n",
       "    <tr>\n",
       "      <th>4</th>\n",
       "      <td>XGBoost</td>\n",
       "      <td>0.776932</td>\n",
       "      <td>0.782733</td>\n",
       "      <td>0.780606</td>\n",
       "      <td>0.780606</td>\n",
       "    </tr>\n",
       "  </tbody>\n",
       "</table>\n",
       "</div>"
      ],
      "text/plain": [
       "                 Model  F1_Score  Precision    Recall  Accuracy\n",
       "0  Logistic Regression  0.636317   0.644494  0.647873  0.647873\n",
       "1                  MLP  0.741863   0.741842  0.741885  0.741885\n",
       "2        Decision Tree  0.787859   0.790259  0.787138  0.787138\n",
       "3        Random Forest  0.863202   0.864746  0.862810  0.862810\n",
       "4              XGBoost  0.776932   0.782733  0.780606  0.780606"
      ]
     },
     "execution_count": 84,
     "metadata": {},
     "output_type": "execute_result"
    }
   ],
   "source": [
    "pipelines, scores_df = modelPipeline(X_train, X_test, y_train, y_test)\n",
    "scores_df"
   ]
  },
  {
   "attachments": {},
   "cell_type": "markdown",
   "metadata": {},
   "source": [
    "Como lo mencione anteriormente se escoge el modelo que mejor metricas tienen, aca demebmos tomar en cuenta que el modelo de RandomForestClassifier es algo pesado si lo consideramos para el paso a produccion."
   ]
  },
  {
   "cell_type": "code",
   "execution_count": 85,
   "metadata": {},
   "outputs": [
    {
     "name": "stdout",
     "output_type": "stream",
     "text": [
      "Dispersion del score en la validacion cruzada\n",
      "Dispersion train score: 5.07795314292615e-05\n",
      "Dispersion test score: 0.0011902642810193858\n",
      "media del score en la validacion cruzada\n",
      "media train score: 0.9991651596764388\n",
      "media test score: 0.8428167300268654\n",
      "              precision    recall  f1-score   support\n",
      "\n",
      "           0       0.90      0.86      0.88     16682\n",
      "           1       0.82      0.87      0.85     12708\n",
      "\n",
      "    accuracy                           0.86     29390\n",
      "   macro avg       0.86      0.86      0.86     29390\n",
      "weighted avg       0.86      0.86      0.86     29390\n",
      "\n"
     ]
    }
   ],
   "source": [
    "# Crear una pipeline que incluya el ColumnTransformer y el RandomForestClassifier\n",
    "# Crear un objeto ColumnTransformer\n",
    "preprocessor = ColumnTransformer(\n",
    "    transformers=[\n",
    "        ('num', StandardScaler( with_mean=False), ['DIA', 'MES', 'HORA', 'MIN','Vlo_change', 'Emp_change','temporada_alta']),\n",
    "        ('cat-nominal', OneHotEncoder(), ['periodo_dia','DIANOM', 'MESNOM','Des_I', 'TIPOVUELO', 'OPERA'])\n",
    "    ],\n",
    "    )\n",
    "pipe = Pipeline(steps=[\n",
    "    ('preprocessor', preprocessor),\n",
    "    ('model',RandomForestClassifier(**rs))\n",
    "    ]\n",
    ")\n",
    "\n",
    "# realizar validacion cruzada\n",
    "final_result = cross_validate(pipe, X_train, y_train, return_train_score=True, cv=5)\n",
    "#observamos la dispersion del score\n",
    "train_score_std = np.std(final_result['train_score'])\n",
    "test_score_std = np.std(final_result['test_score'])\n",
    "print('Dispersion del score en la validacion cruzada')\n",
    "print(f'Dispersion train score: {train_score_std}')\n",
    "print(f'Dispersion test score: {test_score_std}')\n",
    "\n",
    "# Observamos la media del score\n",
    "train_score_mean = np.mean(final_result['train_score'])\n",
    "test_score_mean = np.mean(final_result['test_score'])\n",
    "print('media del score en la validacion cruzada')\n",
    "print(f'media train score: {train_score_mean}')\n",
    "print(f'media test score: {test_score_mean}')\n",
    "\n",
    "\n",
    "# Entrenar modelo\n",
    "pipe.fit(X_train, y_train)\n",
    "\n",
    "# Mostrar los resultados\n",
    "validation_score =pipe.score(X_test, y_test)\n",
    "y_pred = pipe.predict(X_test)\n",
    "\n",
    "# Imprimiendo el reporte de clasificación\n",
    "report = classification_report(y_test, y_pred)\n",
    "print(report)"
   ]
  },
  {
   "attachments": {},
   "cell_type": "markdown",
   "metadata": {},
   "source": [
    "Se puede concluir lo siguiente:\n",
    "\n",
    "- Para la clase 0 (no atraso), el 89% de los casos clasificados como no atrasados son realmente no atrasados.\n",
    "- Para la clase 0 (no atraso), el 86% de los casos reales de no atraso son identificados correctamente por el modelo.\n",
    "- Para la clase 1 (atraso), el 82% de los casos clasificados como atrasados son realmente atrasados.\n",
    "- Para la clase 1 (atraso), el 86% de los casos reales de atraso son identificados correctamente por el modelo.\n",
    "- El accuracy general del modelo es de 0.86, lo que significa que el modelo predice correctamente el 86% de las veces en promedio.\n",
    "\n",
    "Podriamos hacer tuning de los hiperparametros de RandomForest, pero este resultado es satisfactorio.\n",
    "\n",
    "Procedemos a guardar nuestro modelo y sus metricas"
   ]
  },
  {
   "cell_type": "code",
   "execution_count": 86,
   "metadata": {},
   "outputs": [
    {
     "data": {
      "image/png": "[encoded data removed]",
      "text/plain": [
       "<Figure size 1200x800 with 2 Axes>"
      ]
     },
     "metadata": {},
     "output_type": "display_data"
    }
   ],
   "source": [
    "get_model_performance_test_set('cm_balanced_over', y_test, y_pred)"
   ]
  },
  {
   "cell_type": "code",
   "execution_count": 87,
   "metadata": {},
   "outputs": [],
   "source": [
    "save_simple_metrics_report('report_balanced_over', train_score_mean, test_score_mean, validation_score, report, pipe)\n",
    "update_model('model_balanced_over',pipe)"
   ]
  },
  {
   "attachments": {},
   "cell_type": "markdown",
   "metadata": {},
   "source": [
    "### Validaremos con los datos reales usando las mismas metricas"
   ]
  },
  {
   "cell_type": "code",
   "execution_count": 89,
   "metadata": {},
   "outputs": [],
   "source": [
    "# leemos el dataset de training\n",
    "data_train = pd.read_csv(path.data_processed_dir('data_train.csv'))"
   ]
  },
  {
   "cell_type": "code",
   "execution_count": 90,
   "metadata": {},
   "outputs": [],
   "source": [
    "# Dividir los datos en variables de entrada y salida\n",
    "X = data_train.drop('atraso_15', axis=1)\n",
    "y = data_train['atraso_15']"
   ]
  },
  {
   "cell_type": "code",
   "execution_count": 91,
   "metadata": {},
   "outputs": [],
   "source": [
    "from latam_airlines.utils.latam_utils import get_model"
   ]
  },
  {
   "cell_type": "code",
   "execution_count": 92,
   "metadata": {},
   "outputs": [
    {
     "name": "stdout",
     "output_type": "stream",
     "text": [
      "              precision    recall  f1-score   support\n",
      "\n",
      "           0       0.92      0.68      0.78     55550\n",
      "           1       0.34      0.74      0.47     12596\n",
      "\n",
      "    accuracy                           0.69     68146\n",
      "   macro avg       0.63      0.71      0.62     68146\n",
      "weighted avg       0.81      0.69      0.72     68146\n",
      "\n"
     ]
    }
   ],
   "source": [
    "pipe = get_model('model_balanced_sub.pkl')\n",
    "y_pred = pipe.predict(X)\n",
    "\n",
    "# Imprimiendo el reporte de clasificación\n",
    "report = classification_report(y, y_pred)\n",
    "print(report)"
   ]
  },
  {
   "attachments": {},
   "cell_type": "markdown",
   "metadata": {},
   "source": [
    "A pesar de que el modelo entrenado con sub-muestreo tiene un desempenio aceptable vemos que la precision a la hora de predecir el retraso de un vuelo no es eficiente"
   ]
  },
  {
   "cell_type": "code",
   "execution_count": 93,
   "metadata": {},
   "outputs": [
    {
     "name": "stdout",
     "output_type": "stream",
     "text": [
      "              precision    recall  f1-score   support\n",
      "\n",
      "           0       0.98      0.95      0.97     55550\n",
      "           1       0.82      0.92      0.87     12596\n",
      "\n",
      "    accuracy                           0.95     68146\n",
      "   macro avg       0.90      0.94      0.92     68146\n",
      "weighted avg       0.95      0.95      0.95     68146\n",
      "\n"
     ]
    }
   ],
   "source": [
    "pipe = get_model('model_balanced_over.pkl')\n",
    "y_pred = pipe.predict(X)\n",
    "\n",
    "# Imprimiendo el reporte de clasificación\n",
    "report = classification_report(y, y_pred)\n",
    "print(report)"
   ]
  },
  {
   "attachments": {},
   "cell_type": "markdown",
   "metadata": {},
   "source": [
    "### Concluimos\n",
    "- El modelo entrenado con sobre-muestreo o creacion de datos sinteticos tiene el mejor desempenio\n",
    "- La precision y el recall estan balanceadas y altas\n",
    "- Un buen PR significa que el modelo tiene una buena precision y exactitud con datos no visto en su entrenamiento, osea es eficiente a la hora de predecir el retraso de un vuelo.\n",
    "- Por ultim como deseamos obtener las probabilidades usamos la funcion .predict_proba la cual regresa la probabilidad de atraso o no de un vuelo"
   ]
  },
  {
   "attachments": {},
   "cell_type": "markdown",
   "metadata": {},
   "source": [
    "Como se comportaria el modelo solo con datos del operador LATAM?"
   ]
  },
  {
   "cell_type": "code",
   "execution_count": 94,
   "metadata": {},
   "outputs": [],
   "source": [
    "data_LATAM = data_train[data_train['OPERA']=='Grupo LATAM']"
   ]
  },
  {
   "cell_type": "code",
   "execution_count": 95,
   "metadata": {},
   "outputs": [],
   "source": [
    "# Dividir los datos en variables de entrada y salida\n",
    "X = data_LATAM.drop('atraso_15', axis=1)\n",
    "y = data_LATAM['atraso_15']"
   ]
  },
  {
   "cell_type": "code",
   "execution_count": 96,
   "metadata": {},
   "outputs": [
    {
     "name": "stdout",
     "output_type": "stream",
     "text": [
      "              precision    recall  f1-score   support\n",
      "\n",
      "           0       0.98      0.95      0.97     33551\n",
      "           1       0.81      0.92      0.86      7289\n",
      "\n",
      "    accuracy                           0.95     40840\n",
      "   macro avg       0.90      0.94      0.92     40840\n",
      "weighted avg       0.95      0.95      0.95     40840\n",
      "\n"
     ]
    }
   ],
   "source": [
    "pipe = get_model('model_balanced_over.pkl')\n",
    "y_pred = pipe.predict(X)\n",
    "\n",
    "# Imprimiendo el reporte de clasificación\n",
    "report = classification_report(y, y_pred)\n",
    "print(report)"
   ]
  },
  {
   "cell_type": "markdown",
   "metadata": {},
   "source": [
    "Se puede concluir lo siguiente  para el operador LATAM:\n",
    "\n",
    "- El modelo clasifica el 98% de los casos como no atrasados y son realmente no atrasados.\n",
    "- El modelo clasifica correctamente el 86% de los casos reales de no atraso.\n",
    "- El modelo clasifica el 82% de los casos clasificados como atrasados y son realmente atrasados.\n",
    "- El modelo clasifica correctamente el 86% de los casos reales de atraso.\n",
    "- El accuracy general del modelo es de 0.86, lo que significa que el modelo predice correctamente el 86% de las veces en promedio.\n",
    "\n",
    "En otras palabras, el modelo hubiese podido alertar el 82% de los atrasos del grupo LATAM en el aeropuerto SCL del 2017."
   ]
  },
  {
   "attachments": {},
   "cell_type": "markdown",
   "metadata": {},
   "source": [
    "### Importancia de las Features en el modelo"
   ]
  },
  {
   "cell_type": "code",
   "execution_count": 97,
   "metadata": {},
   "outputs": [],
   "source": [
    "import pandas as pd\n",
    "import seaborn as sns\n",
    "import matplotlib.pyplot as plt\n",
    "import numpy as np\n",
    "from latam_airlines.utils.latam_utils import get_model\n",
    "import latam_airlines.utils.paths as path"
   ]
  },
  {
   "cell_type": "code",
   "execution_count": 98,
   "metadata": {},
   "outputs": [],
   "source": [
    "pipe = get_model('model_balanced_over.pkl')"
   ]
  },
  {
   "cell_type": "code",
   "execution_count": 99,
   "metadata": {},
   "outputs": [
    {
     "data": {
      "image/png": "[encoded data removed]",
      "text/plain": [
       "<Figure size 1000x600 with 1 Axes>"
      ]
     },
     "metadata": {},
     "output_type": "display_data"
    }
   ],
   "source": [
    "feature_names = pipe['preprocessor'].get_feature_names_out()\n",
    "feature_names = list(map(lambda x: x.split('__'), feature_names))\n",
    "feature_names = [elem[1] for elem in feature_names]\n",
    "\n",
    "# create a DataFrame with feature names and importances\n",
    "feature_importances = pd.DataFrame(zip(feature_names, pipe['model'].feature_importances_), columns=['feature', 'importance'])\n",
    "\n",
    "# sort features by importance in descending order\n",
    "feature_importances = feature_importances.sort_values('importance', ascending=False)\n",
    "\n",
    "# plot feature importances using a horizontal bar plot\n",
    "plt.figure(figsize=(10, 6))\n",
    "sns.barplot(x='importance', y='feature', data=feature_importances.head(20), color='red')\n",
    "plt.xlabel('Importance')\n",
    "plt.ylabel('Feature')\n",
    "plt.title('Feature Importances')\n",
    "plt.show()"
   ]
  },
  {
   "cell_type": "code",
   "execution_count": 100,
   "metadata": {},
   "outputs": [
    {
     "data": {
      "text/plain": [
       "0.5431227439376968"
      ]
     },
     "execution_count": 100,
     "metadata": {},
     "output_type": "execute_result"
    }
   ],
   "source": [
    "feature_importances['importance'].head(5).sum()"
   ]
  },
  {
   "attachments": {},
   "cell_type": "markdown",
   "metadata": {},
   "source": [
    "# Concluimos\n",
    "el top 5 de las caracteristicas de mayor peso reune el 55% de la explicacion del modelo el top 5 son el dia, minuto, hora, mes y nombre del dia(lunes), esto significando que la fecha hasta el minuto tien un gran peso en el modelo dando luces de que se puede afrontar el modelo como series de tiempo. "
   ]
  }
 ],
 "metadata": {
  "kernelspec": {
   "display_name": "latam_airlines",
   "language": "python",
   "name": "python3"
  },
  "language_info": {
   "codemirror_mode": {
    "name": "ipython",
    "version": 3
   },
   "file_extension": ".py",
   "mimetype": "text/x-python",
   "name": "python",
   "nbconvert_exporter": "python",
   "pygments_lexer": "ipython3",
   "version": "3.10.9"
  },
  "orig_nbformat": 4,
  "vscode": {
   "interpreter": {
    "hash": "fce30770c70df1231e58a4ba7ac7c20698e43e2829a791ca48f11e1d9cd05121"
   }
  }
 },
 "nbformat": 4,
 "nbformat_minor": 2
}
