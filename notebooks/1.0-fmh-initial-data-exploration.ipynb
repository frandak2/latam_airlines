{
 "cells": [
  {
   "cell_type": "code",
   "execution_count": null,
   "metadata": {},
   "outputs": [],
   "source": [
    "%load_ext autoreload\n",
    "%autoreload 2"
   ]
  },
  {
   "attachments": {},
   "cell_type": "markdown",
   "metadata": {},
   "source": [
    "### Promblema \n",
    "El problema onsiste en predecir la probabilidad de atraso de los vuelos que aterrizan o despegan del aeropuerto de Santiago de Chile (SCL). Para eso les entregamos un dataset usando datos públicos y reales donde cada fila corresponde a un vuelo que aterrizó o despegó de SCL.\n",
    "\n",
    "1. ¿Cómo se distribuyen los datos? ¿Qué te llama la atención o cuál es tu conclusión sobre esto?\n",
    "\n",
    "### acercamiento:\n",
    "para resolver est punto iniciaremos leyendo los datos, viendo la calidad y el tipo de informacion dentro del dataset. haremos la limpieza necesaria y observaremos que mas podemos hacer con la informacion disponible"
   ]
  },
  {
   "cell_type": "code",
   "execution_count": null,
   "metadata": {},
   "outputs": [],
   "source": [
    "# importar librerias\n",
    "##generacion de path\n",
    "import latam_airlines.utils.paths as path\n",
    "## funciones propias\n",
    "from latam_airlines.utils.latam_utils import check_quality, categorized_days_periods\n",
    "## manipulacion de datos\n",
    "import pandas as pd\n",
    "import numpy as np\n",
    "## Visualización de los datos\n",
    "import matplotlib.pyplot as plt\n",
    "import seaborn as sns"
   ]
  },
  {
   "attachments": {},
   "cell_type": "markdown",
   "metadata": {},
   "source": [
    "### Lectura y calidad de datos"
   ]
  },
  {
   "cell_type": "code",
   "execution_count": null,
   "metadata": {},
   "outputs": [],
   "source": [
    "# Lectura del archivo dataset_SCL.csv\n",
    "dataset_SCL = pd.read_csv(path.data_raw_dir('dataset_SCL.csv'), low_memory=False)\n",
    "dataset_SCL.info()"
   ]
  },
  {
   "attachments": {},
   "cell_type": "markdown",
   "metadata": {},
   "source": [
    "observamos que:\n",
    "- En total hay 68206 datos(ojo la fila 0 cuenta como dato)\n",
    "- Hay columnas que no tiene todas las filas, indicando la existencia de valores faltantes\n",
    "- Es necesario transformar las columnas de fecha a formato fecha\n",
    "- Vemos que no consume mucha uso de memoria, por esta razon crearemos una copia para prevenir futuros problemas al cometer algun error.\n",
    "- No existe nuestr variable target u objetivo, lo que se traduce en featuring data para crear el target"
   ]
  },
  {
   "cell_type": "code",
   "execution_count": null,
   "metadata": {},
   "outputs": [],
   "source": [
    "dataset_SCL_copy = dataset_SCL.copy()\n",
    "dataset_SCL.sample(10)"
   ]
  },
  {
   "attachments": {},
   "cell_type": "markdown",
   "metadata": {},
   "source": [
    "### Verificacion de calidad de datos"
   ]
  },
  {
   "cell_type": "code",
   "execution_count": null,
   "metadata": {},
   "outputs": [],
   "source": [
    "check_quality(dataset_SCL)"
   ]
  },
  {
   "attachments": {},
   "cell_type": "markdown",
   "metadata": {},
   "source": [
    "Verificando la calidad de los datos podemos observar:\n",
    "- Existen 39 filas con dainformacion NAN que se pueden iliminar.\n",
    "- las columnas Ori-I,Ori-O,SIGLAORI solo tienen un valor unico asique no aportan informacion, las eliminaremos.\n",
    "- No hay datos duplicados.\n",
    "- Exiten un valor unico mas en Des-I que en Des-O, y un valor unico menos en SIGLADES puede ser un error de escritura\n",
    "- Debemos corregir los errores de escritura para futuras comparaciones.\n",
    "- Es necesario hacer el cambio de variables string a catgoricas aun.\n",
    "- Cambiar la columnas fecha a objeto fecha."
   ]
  },
  {
   "cell_type": "code",
   "execution_count": null,
   "metadata": {},
   "outputs": [],
   "source": [
    "# Eliminamos valores NA\n",
    "dataset_SCL.dropna(inplace=True)\n",
    "# Eliminamos columnas que no aportan informacion\n",
    "dataset_SCL.drop(columns=['Ori-I','Ori-O','SIGLAORI'], inplace=True)"
   ]
  },
  {
   "cell_type": "code",
   "execution_count": null,
   "metadata": {},
   "outputs": [],
   "source": [
    "# Valores unicos y ordenados por columna\n",
    "dict_DesO = set(dataset_SCL['Des-O'])\n",
    "dict_DesI = set(dataset_SCL['Des-I'])\n",
    "\n",
    "# Extraemos las diferencias entre las 2 columnas\n",
    "only_in_DesO = dict_DesO - dict_DesI\n",
    "only_in_DesI = dict_DesI - dict_DesO\n",
    "\n",
    "# Extraemos solo lo qu ecomparten entre las 2 columnas\n",
    "both = dict_DesO & dict_DesI\n",
    "\n",
    "# mostramos que hay de diferente\n",
    "print(f\"Elements only in DesO: {only_in_DesO}\")\n",
    "print(f\"Elements only in DesI: {only_in_DesI}\")\n",
    "print(f\"Len elements both: {len(both)}\")"
   ]
  },
  {
   "cell_type": "code",
   "execution_count": null,
   "metadata": {},
   "outputs": [],
   "source": [
    "# Vemos cuantas columnas son para saber si fue un error de typing\n",
    "dataset_SCL[dataset_SCL['Des-O']==list(only_in_DesO)[0]]\n"
   ]
  },
  {
   "cell_type": "code",
   "execution_count": null,
   "metadata": {},
   "outputs": [],
   "source": [
    "# Vemos la qie tan diferentes es entre los demas registros\n",
    "dataset_SCL[dataset_SCL['SIGLADES']=='Cataratas Iguacu']"
   ]
  },
  {
   "cell_type": "code",
   "execution_count": null,
   "metadata": {},
   "outputs": [],
   "source": [
    "# Cambiamos por el valor correspondiente\n",
    "dataset_SCL.loc[dataset_SCL['Des-I']==list(only_in_DesI)[1],'Des-I'] = 'SBFI'"
   ]
  },
  {
   "attachments": {},
   "cell_type": "markdown",
   "metadata": {},
   "source": [
    "Como se realizaron modificaciones manuales se crea un archivo con las correciones hechas."
   ]
  },
  {
   "cell_type": "code",
   "execution_count": null,
   "metadata": {},
   "outputs": [],
   "source": [
    "# Crea dataset .csv\n",
    "# dataset_SCL.to_csv(path.data_interim_dir('modify_data.csv'), index=False)\n",
    "\n",
    "# Lee dataset corregido\n",
    "dataset_SCL = pd.read_csv(path.data_interim_dir('modify_data.csv'), low_memory=False)\n",
    "dataset_SCL.info()"
   ]
  },
  {
   "cell_type": "code",
   "execution_count": null,
   "metadata": {},
   "outputs": [],
   "source": [
    "# Validación para ver si lo programado es igual a lo operado\n",
    "dataset_SCL['Vlo_change'] = dataset_SCL.apply(lambda x: '0' if x['Vlo-I']==x['Vlo-O'] else '1', axis=1)\n",
    "dataset_SCL['Des_change'] = dataset_SCL.apply(lambda x: '0' if x['Des-I']==x['Des-O'] else '1', axis=1)\n",
    "dataset_SCL['Emp_change'] = dataset_SCL.apply(lambda x:'0' if x['Emp-I']==x['Emp-O'] else '1', axis=1)"
   ]
  },
  {
   "cell_type": "code",
   "execution_count": null,
   "metadata": {},
   "outputs": [],
   "source": [
    "cols = ['Vlo_change','Des_change','Emp_change']\n",
    "\n",
    "for col in cols:\n",
    "    print(col)\n",
    "    print(dataset_SCL[col].value_counts())\n",
    "    print('='*20)\n",
    "    print(col+' Porcentaje')\n",
    "    print(dataset_SCL[col].value_counts(normalize=True)*100)\n",
    "    print('='*20)"
   ]
  },
  {
   "attachments": {},
   "cell_type": "markdown",
   "metadata": {},
   "source": [
    "Observamso que:\n",
    "- El numero de vuelo cambio en la operación en un 6.6% con respecto a todos los vuelos programados.\n",
    "- La ciudad destino cambio en la operación en un 0.04% con respecto a todos los vuelos programados.\n",
    "- El codigo de la aerolínea cambio en su ejecución en un 27.37% con respecto a todos los vuelos programados.\n",
    "- Las nuevas variables Vlo_change y Emp_change tienen la posibilidad de ser empleadas en el proceso de entrenamiento.\n",
    "- La variables Des_change no serán usadas debido a la baja varianza."
   ]
  },
  {
   "cell_type": "code",
   "execution_count": null,
   "metadata": {},
   "outputs": [],
   "source": [
    "# Eliminamos columna con baja varianza\n",
    "dataset_SCL.drop(columns= 'Des_change', inplace=True)"
   ]
  },
  {
   "cell_type": "code",
   "execution_count": null,
   "metadata": {},
   "outputs": [],
   "source": [
    "dataset_SCL.sample(5)"
   ]
  },
  {
   "cell_type": "code",
   "execution_count": null,
   "metadata": {},
   "outputs": [],
   "source": [
    "#Cambiamos el formato a fecha\n",
    "cols_date = ['Fecha-I','Fecha-O']\n",
    "for col in cols_date:\n",
    "    dataset_SCL[col] = pd.to_datetime(dataset_SCL[col], format='%Y-%m-%d %H:%M:%S')"
   ]
  },
  {
   "cell_type": "code",
   "execution_count": null,
   "metadata": {},
   "outputs": [],
   "source": [
    "dataset_SCL.describe(datetime_is_numeric=True)"
   ]
  },
  {
   "attachments": {},
   "cell_type": "markdown",
   "metadata": {},
   "source": [
    "observamos que:\n",
    "- La resolucion temporal es de un anio de datos, puntualmente el anio 2017.\n",
    "- No podemos obtener conclusiones o analizar datos con los dias, meses o anios en formato numero, por que son variables categoricas ordinales,esto al poseer un orden natural.\n",
    "- Debemos crear o reemplazar las columnas de dia, mes y anio(no tan relevante) con sus respectivo datos categoricos.\n",
    "- Vemos que las demas variables son string y veremos si es necesario cambiarlas a categorias."
   ]
  },
  {
   "cell_type": "code",
   "execution_count": null,
   "metadata": {},
   "outputs": [],
   "source": [
    "dataset_SCL.columns"
   ]
  },
  {
   "cell_type": "code",
   "execution_count": null,
   "metadata": {},
   "outputs": [],
   "source": [
    "# creamos variables para ayudarnos a hacer el analisis\n",
    "days = ['Lunes', 'Martes', 'Miercoles', 'Jueves', 'Viernes', 'Sabado', 'Domingo']\n",
    "months = ['Ene','Feb','Mar','Abr','May','Jun','Jul','Ago','Sep','Oct','Nov','Dic']\n",
    "d = dict(zip(np.arange(1, 13),months))\n",
    "dataset_SCL['MESNOM'] = dataset_SCL['MES'].astype(int).replace(d, regex=True)\n",
    "\n",
    "#cambiamos las demas variables a formato\n",
    "cols = ['Vlo-I', 'Des-I', 'Emp-I', 'Vlo-O', 'Des-O','Emp-O', 'DIA', 'MES', 'AÑO', 'DIANOM', 'TIPOVUELO', 'OPERA','SIGLADES', 'Vlo_change','Emp_change']\n",
    "for col in cols:\n",
    "    if col == 'DIANOM':\n",
    "        dataset_SCL[col] = pd.Categorical(dataset_SCL[col],ordered=True, categories=days)\n",
    "    else:\n",
    "        dataset_SCL[col] = dataset_SCL[col].astype('category')\n",
    "\n",
    "dataset_SCL.sort_values('Fecha-I', inplace=True)"
   ]
  },
  {
   "cell_type": "code",
   "execution_count": null,
   "metadata": {},
   "outputs": [],
   "source": [
    "dataset_SCL.head(5)"
   ]
  },
  {
   "attachments": {},
   "cell_type": "markdown",
   "metadata": {},
   "source": [
    "Con la transformacion de las variables al formato correspondiente iniciamos el analisis de la informacion. Sin embargo, como el objetivo principal es predecir el retraso en los vuelos del aeropuerto es fundamenta crear nuestra variable objetivo o target y otras variables auxiliares, esto nos ayuda a no divagar en los datos u obtener metricas que no estan alineadas a responder nuestro objetivo principal(probabilidad de retraso). Aqui abordaremos el segundo punto del desafio."
   ]
  },
  {
   "attachments": {},
   "cell_type": "markdown",
   "metadata": {},
   "source": [
    "### Problema:\n",
    "2. Genera las columnas adicionales y luego expórtelas en un archivo synthetic_features.csv :\n",
    "- temporada_alta : 1 si Fecha-I está entre 15-Dic y 3-Mar, o 15-Jul y 31-Jul, o 11-Sep y 30-Sep, 0 si no.\n",
    "- dif_min : diferencia en minutos entre Fecha-O y Fecha-I.\n",
    "- atraso_15 : 1 si dif_min > 15, 0 si no.\n",
    "- periodo_dia : mañana (entre 5:00 y 11:59), tarde (entre 12:00 y 18:59) y noche (entre 19:00 y 4:59), en base a\n",
    "Fecha-I .\n",
    "\n",
    "### Acercamiento:\n",
    "- Usaremos diversas funciones de pandas y numpy para crear estas nuevas columnas\n",
    "- En términos de velocidad, \"np.where\" suele ser más rápido que \"map\" y \"apply\". Esto se debe a que \"np.where\" es una función vectorizada que procesa los datos directamente en una matriz numpy, mientras que \"map\" y \"apply\" son funciones de pandas que procesan los datos uno por uno. para efecto practicos intentaremos usar cada una.\n",
    "- Como no hemos hecho un EDA, aprovecharemos la creacion de la variable objetivo para hacer analisis univariados, bivariados y multivariados\n",
    "- \n"
   ]
  },
  {
   "attachments": {},
   "cell_type": "markdown",
   "metadata": {},
   "source": [
    "### Creacion de la varaible objetivo 'atraso_15'.\n",
    "\n",
    "En la creacion de la varaible objetivo 'atraso_15'.\n",
    "- usamos una resta de fechas entre Fecha-O y Fecha-I.\n",
    "- obtenemos el total en segundos.\n",
    "- dividir entre 60 seg para obtener los minutos.\n",
    "- usamos map para obtener 1 si es mayor a 15 min y si no, 0\n",
    "\n",
    "Validacion y analisis de datos\n",
    "- cual es la distribucion del atraso? que nos indica?\n",
    "- Que porcentaje de vuelos tienen un atraso mayor a 15 min?\n",
    "- Cuales aerolineas presentan mayor atraso?\n",
    "- que dia y mes de la semana tiene mayor atraso?"
   ]
  },
  {
   "cell_type": "code",
   "execution_count": null,
   "metadata": {},
   "outputs": [],
   "source": [
    "# Crear la columna 'dif_min'\n",
    "dataset_SCL['dif_min'] = (dataset_SCL['Fecha-O'] - dataset_SCL['Fecha-I']).dt.total_seconds() / 60# numero de segundos en un minuto\n",
    "\n",
    "# Crear la columna 'atraso_15'\n",
    "dataset_SCL['atraso_15'] =dataset_SCL['dif_min'].map(lambda x: '1' if x>15 else '0')"
   ]
  },
  {
   "cell_type": "code",
   "execution_count": null,
   "metadata": {},
   "outputs": [],
   "source": [
    "# verificamos la existencia de diferencias negativas en los minutos\n",
    "print(dataset_SCL[dataset_SCL['dif_min']<0].shape)\n",
    "(dataset_SCL[dataset_SCL['dif_min']<0].shape[0] / dataset_SCL.shape[0])*100\n"
   ]
  },
  {
   "attachments": {},
   "cell_type": "markdown",
   "metadata": {},
   "source": [
    "- Verificamos la existencia de diferencias negativas en los minutos, indicando el adelanto del los vuelos.\n",
    "- En el anio 2017, 17904 vuelos fueron adelantados representando un 26.3% de los vuelos anuales.\n",
    "- Nuestro principal objetivo es predecir el atraso, entonces podriamos eliminar estos vuelos, pero la decision la tomaremos ams adelante.\n"
   ]
  },
  {
   "cell_type": "code",
   "execution_count": null,
   "metadata": {},
   "outputs": [],
   "source": [
    "# vuelos atrasados\n",
    "print(dataset_SCL['atraso_15'].value_counts())\n",
    "dataset_SCL['atraso_15'].value_counts(normalize = True)*100"
   ]
  },
  {
   "cell_type": "code",
   "execution_count": null,
   "metadata": {},
   "outputs": [],
   "source": [
    "sns.catplot(\n",
    "    data= dataset_SCL,\n",
    "    x='atraso_15',\n",
    "    kind='count',\n",
    ")\n",
    "plt.xlabel('Atraso mayor a 15 min')\n",
    "plt.ylabel('Numero de Vuelos')\n",
    "plt.title('conteo de vuelos atrasados en el 2017')\n",
    "plt.show()"
   ]
  },
  {
   "attachments": {},
   "cell_type": "markdown",
   "metadata": {},
   "source": [
    "- Podemos observar que 12606 vuelos correspondiendo al 18.5% del 2017 presentaron retraso un retraso de minimo 15 minutos."
   ]
  },
  {
   "cell_type": "code",
   "execution_count": null,
   "metadata": {},
   "outputs": [],
   "source": [
    "# porcentaje de dias con retraso\n",
    "dataset_SCL.loc[dataset_SCL['atraso_15']=='1','Fecha-I'].dt.date.nunique()/dataset_SCL['Fecha-I'].dt.date.nunique()*100"
   ]
  },
  {
   "attachments": {},
   "cell_type": "markdown",
   "metadata": {},
   "source": [
    "Vemos que todos los dias se presento al menos un atraso de 15 minutos\n",
    "\n",
    "Creamos una tabla de contingencia la cual nos entrega el numero de vuelos con atraso o no para cada Aerolinea, esto con  el fin de ver si hay aerolineas que tienden a presentar atraso o no."
   ]
  },
  {
   "cell_type": "code",
   "execution_count": null,
   "metadata": {},
   "outputs": [],
   "source": [
    "# Crear tabla de contingencia\n",
    "top_opera_atraso = pd.crosstab(dataset_SCL['OPERA'], dataset_SCL['atraso_15']).reset_index()\n",
    "\n",
    "# Calcualo del total de vuelos por operador(Aerolinea)\n",
    "top_opera_atraso['total'] = top_opera_atraso['0'] + top_opera_atraso['1']\n",
    "top_opera_atraso['Porcentaje_anual'] =  top_opera_atraso['total'] / top_opera_atraso['total'].sum() *100\n",
    "\n",
    "# Porcentaje de atraso o no por Aerolinea \n",
    "top_opera_atraso['Porcentaje_0'] = top_opera_atraso['0'] / top_opera_atraso['total']*100\n",
    "top_opera_atraso['Porcentaje_1'] = top_opera_atraso['1'] / top_opera_atraso['total']*100\n",
    "\n",
    "# top 10 de operador con tasa de atraso mayor a 15 min en la operacion anual\n",
    "top_opera_atraso.sort_values('1', ascending=False).head(10)"
   ]
  },
  {
   "attachments": {},
   "cell_type": "markdown",
   "metadata": {},
   "source": [
    "- Obtenemos el top 10 de los operdores que presentan atrasos superiores a 15 minutos, sin embargo esta medida debe ser contrastada con la cantidad de vuelos anuales y tambien por operador"
   ]
  },
  {
   "cell_type": "code",
   "execution_count": null,
   "metadata": {},
   "outputs": [],
   "source": [
    "# top 10 de operador con tasa de atraso mayor a 15 min en su operacion\n",
    "top_opera_atraso.sort_values(['Porcentaje_1','Porcentaje_anual'],ascending=False).head(10)"
   ]
  },
  {
   "attachments": {},
   "cell_type": "markdown",
   "metadata": {},
   "source": [
    "Continuamos con el analisis por operador, cambio en nuemero de vuelo, cambio en el codigo de la aerolinea en funcion del atraso"
   ]
  },
  {
   "cell_type": "code",
   "execution_count": null,
   "metadata": {},
   "outputs": [],
   "source": [
    "cols = ['OPERA', 'Vlo_change', 'Emp_change', 'atraso_15']\n",
    "\n",
    "dataset_SCL_melt= dataset_SCL[cols].melt(id_vars='atraso_15', var_name='cols')\n",
    "g = sns.displot(\n",
    "    data=dataset_SCL_melt,\n",
    "    x='value',\n",
    "    col='cols',\n",
    "    hue='atraso_15',\n",
    "    multiple='fill',\n",
    "    stat='proportion',\n",
    "    col_wrap=3,\n",
    "    facet_kws={'sharey': False, 'sharex': False}\n",
    ")\n",
    "\n",
    "for ax in g.axes:\n",
    "    plt.setp(ax.get_xticklabels(), rotation=90)\n",
    "    ax.axhline(y=0.5, color='red', linestyle='--')"
   ]
  },
  {
   "attachments": {},
   "cell_type": "markdown",
   "metadata": {},
   "source": [
    "Analisis por tipo de vuelo, mes del anio y dia de la semana en funcion del atraso"
   ]
  },
  {
   "cell_type": "code",
   "execution_count": null,
   "metadata": {},
   "outputs": [],
   "source": [
    "cols = ['TIPOVUELO', 'MESNOM', 'DIANOM','atraso_15']\n",
    "\n",
    "dataset_SCL_melt= dataset_SCL[cols].melt(id_vars='atraso_15', var_name='cols')\n",
    "g = sns.displot(\n",
    "    data=dataset_SCL_melt,\n",
    "    x='value',\n",
    "    col='cols',\n",
    "    hue='atraso_15',\n",
    "    multiple='fill',\n",
    "    stat='proportion',\n",
    "    col_wrap=3,\n",
    "    facet_kws={'sharey': False, 'sharex': False}\n",
    ")\n",
    "\n",
    "for ax in g.axes:\n",
    "    plt.setp(ax.get_xticklabels(), rotation=90)\n",
    "    ax.axhline(y=0.5, color='red', linestyle='--')"
   ]
  },
  {
   "attachments": {},
   "cell_type": "markdown",
   "metadata": {},
   "source": [
    "Con esta tabla observamos:\n",
    "- El Grupo Latam tiene una tasa del 60% en vuelos con atraso mayores a 15 min para el 2017 en la operacion total de vuelos, seguido por Sky Airlines con un 21% y Latin American Wings con 2.5%\n",
    "- El Grupo Latam tiene una tasa de atraso del 18% dentro de su operacion en el aeropuerto SCL, Plus Ultra Lineas Aereas con tasa de operacion 61% esta en el primer puesto,  seguido por Qantas Airways con 58%\n",
    "- Se observa que los vuelo que presentan cambio en su numero de vuelo tiene mas vuelos atrasados\n",
    "- No hay una diferencia clara entre los vuelos que cambia de Código aerolínea y el atraso\n",
    "- Los vuelos internacionales son los que mayor tasa de atraso presentan\n",
    "- Los meses de Julio, Octubre y Diciembre son los meses con mayor tasa de atraso\n",
    "- Los Lunes, Jueves y Viernes son los dias con mayor tasa de atraso"
   ]
  },
  {
   "attachments": {},
   "cell_type": "markdown",
   "metadata": {},
   "source": [
    "### Creacion de nueva columna Temporada alta\n",
    "En general, \"loc\" es más adecuado para seleccionar y manipular filas y columnas específicas en un DataFrame, mientras que \"np.where\" es más adecuado para aplicar operaciones matemáticas y lógicas complejas a los datos.\n",
    "\n",
    "En la creacion de la nueva feature 'temporada_alta' usamos una mascara con las condicionales necesarias y nos aprovechamos del conocimiento previo de solo tener un anio(2017).\n",
    "- Como solo tenemos un anio no es necesario hacer una automatizacion de selecion de fechas o algo por el estilo.\n",
    "- Como nuestra fecha tiene el formato fechas y hora debemos ser precavidos, porque al momento de elegir una fecha menor o igual(<=) el escogera hata las 00 horas de la fecha indicada, asi que debemos agregar un dia mas para seleccione todos los registro de mi fecha limite que va hasta las 23:59 horas, ejemplo: la fecha 3-Mar, debemos colocar en la condicion la fecha 4-Mar, para seleccionar todo el dia 3-mar.\n",
    "- En la condicion de 1 si Fecha-I está entre 15-Dic y 3-Mar y cambiamos un poco la condicion de 15-Dic o 3-Mar, para que pueda seleccionar el rango de fechas solicitado, esto no afecta el resultado para este caso particular\n",
    "\n",
    "Validacion y analisis de datos\n",
    "- cual es la distribucion de la temporada? que nos indica?\n",
    "- Que porcentaje de vuelos estan en temporada alta?"
   ]
  },
  {
   "cell_type": "code",
   "execution_count": null,
   "metadata": {},
   "outputs": [],
   "source": [
    "# creacion de mascara\n",
    "temporada_alta = ((dataset_SCL['Fecha-I']>='2017-12-15') | (dataset_SCL['Fecha-I']<='2017-03-04')) | \\\n",
    "    ((dataset_SCL['Fecha-I']>='2017-07-15') & (dataset_SCL['Fecha-I']<='2017-08-01')) | \\\n",
    "        ((dataset_SCL['Fecha-I']>='2017-09-11') & (dataset_SCL['Fecha-I']<='2017-10-01'))\n",
    "\n",
    "# podemos hacerlo con .loc tambien \n",
    "dataset_SCL['temporada_alta'] = np.where(temporada_alta, '1', '0')\n",
    "\n",
    "# Validación en porcentaje\n",
    "dataset_SCL['temporada_alta'].value_counts(normalize = True)*100"
   ]
  },
  {
   "cell_type": "code",
   "execution_count": null,
   "metadata": {},
   "outputs": [],
   "source": [
    "# porcentaje de dias en temporada alta\n",
    "dataset_SCL.loc[dataset_SCL['temporada_alta']=='1','Fecha-I'].dt.date.nunique()/dataset_SCL['Fecha-I'].dt.date.nunique()*100"
   ]
  },
  {
   "attachments": {},
   "cell_type": "markdown",
   "metadata": {},
   "source": [
    "### Crear la columna 'periodo_dia'"
   ]
  },
  {
   "cell_type": "code",
   "execution_count": null,
   "metadata": {},
   "outputs": [],
   "source": [
    "# Crear la columna 'periodo_dia'\n",
    "dataset_SCL['periodo_dia'] = dataset_SCL.apply(categorized_days_periods, axis=1)\n",
    "dataset_SCL['periodo_dia'].value_counts(normalize = True)*100"
   ]
  },
  {
   "cell_type": "code",
   "execution_count": null,
   "metadata": {},
   "outputs": [],
   "source": [
    "# Validación la correcta creacion de periodo\n",
    "dataset_SCL['HORA']=dataset_SCL['Fecha-I'].dt.hour\n",
    "dataset_SCL.groupby(by=['periodo_dia','HORA']).size()"
   ]
  },
  {
   "cell_type": "code",
   "execution_count": null,
   "metadata": {},
   "outputs": [],
   "source": [
    "cols = ['periodo_dia','temporada_alta', 'atraso_15']\n",
    "\n",
    "dataset_SCL_melt= dataset_SCL[cols].melt(id_vars='atraso_15', var_name='cols')\n",
    "g = sns.displot(\n",
    "    data=dataset_SCL_melt,\n",
    "    x='value',\n",
    "    col='cols',\n",
    "    hue='atraso_15',\n",
    "    multiple='fill',\n",
    "    stat='proportion',\n",
    "    col_wrap=2,\n",
    "    facet_kws={'sharey': False, 'sharex': False}\n",
    ")\n",
    "\n",
    "for ax in g.axes:\n",
    "    plt.setp(ax.get_xticklabels(), rotation=90)\n",
    "    ax.axhline(y=0.5, color='red', linestyle='--')"
   ]
  },
  {
   "attachments": {},
   "cell_type": "markdown",
   "metadata": {},
   "source": [
    "Observamos que: \n",
    "- Un 33% de los vuelos del anio 2017 fueron hechos en temporada alta\n",
    "- El 31% o 116 dias del anio estan en temporada alta\n",
    "- Hay poca diferencia entre el atraso y la temporada alta\n",
    "- La noche presenta la menor tasa de vuelos del dia con 25.5%\n",
    "- La mañana y tarde tiene tasas simimilares 37%\n",
    "- La noche y la tarde tienen tasas similares respecto al atraso de vuelos\n",
    "- La manana presenta una tasa menor que el resto del dia"
   ]
  },
  {
   "attachments": {},
   "cell_type": "markdown",
   "metadata": {},
   "source": [
    "Creamos una tabla de contingencia la cual nos entrega el numero de vuelos con atraso o no para cada ciudad de destino, esto con  el fin de ver si hay ciudades que tienden a presentar retraso o no."
   ]
  },
  {
   "cell_type": "code",
   "execution_count": null,
   "metadata": {},
   "outputs": [],
   "source": [
    "# Crear una tabla de contingencia\n",
    "top_destinos = pd.crosstab(dataset_SCL['Des-I'], dataset_SCL['atraso_15']).reset_index()\n",
    "\n",
    "# Calcualo del total de vuelos por destino\n",
    "top_destinos['total'] = top_destinos['0'] + top_destinos['1']\n",
    "top_destinos['Porcentaje_anual'] =  top_destinos['total'] / top_destinos['total'].sum() *100\n",
    "\n",
    "# Porcentaje de atraso o no por destino \n",
    "top_destinos['Porcentaje_0'] = top_destinos['0'] / top_destinos['total']*100\n",
    "top_destinos['Porcentaje_1'] = top_destinos['1'] / top_destinos['total']*100\n",
    "# tabla_contingencia.describe()\n",
    "\n",
    "# top 10 de destinos con atraso mayor a 15 min en el anio\n",
    "top_destinos.sort_values('1', ascending=False).head(10)"
   ]
  },
  {
   "cell_type": "code",
   "execution_count": null,
   "metadata": {},
   "outputs": [],
   "source": [
    "# top 10 de destinos con atraso mayor a 15 min en el anio SLCB\n",
    "top_destinos.sort_values('total').head(10)"
   ]
  },
  {
   "cell_type": "code",
   "execution_count": null,
   "metadata": {},
   "outputs": [],
   "source": [
    "# top 10 de destinos de tasa anual\n",
    "top_destinos.sort_values(['Porcentaje_anual'],ascending=False).head(10)"
   ]
  },
  {
   "cell_type": "code",
   "execution_count": null,
   "metadata": {},
   "outputs": [],
   "source": [
    "# top 10 de destinos con minimo de 12 vuelos al anio\n",
    "top_destinos[top_destinos['total']>=12].sort_values(['Porcentaje_1'],ascending=False).head(10)"
   ]
  },
  {
   "cell_type": "code",
   "execution_count": null,
   "metadata": {},
   "outputs": [],
   "source": [
    "# filtrar por cantidad de vuelos al anio\n",
    "DesI_filter = top_destinos[top_destinos['total']<=12]['Des-I'].unique()\n",
    "dataset_SCL = dataset_SCL[~dataset_SCL['Des-I'].isin(DesI_filter)]"
   ]
  },
  {
   "attachments": {},
   "cell_type": "markdown",
   "metadata": {},
   "source": [
    "Observamos que:\n",
    "- Lima, Sao paulo y Antofagasta son las ciudades que mas cantidad de vuelos presentan atrasos y una tasa de retraso de 23%, 25% y 15% respectivamente.\n",
    "- Lima, Sao paulo y Antofagasta tienen una tasa de vuelos anual de 7.7%, 5.2% y 8.4% respectivamente.\n",
    "- Antofagasta, Lima y Calama son las ciudades que mas cantidad de vuelos presentan, Calama representa el 7.5% de tasa anual.\n",
    "- ciudades con un pocos vuelos al anio presentaron un retraso superior a 15 min, lo que agregaria ruido a las metricas, por eso selecionamos que tenga como minimo 12 vuelos al anio\n",
    "- Sydney, Melbourne y Rosario son los destinos con mayor tasa de atraso con 58%, 55% y 40% respectivamente"
   ]
  },
  {
   "cell_type": "code",
   "execution_count": null,
   "metadata": {},
   "outputs": [],
   "source": [
    "cols = ['Des-I', 'atraso_15']\n",
    "dataset_SCL_melt= dataset_SCL[cols].melt(id_vars='atraso_15', var_name='cols')\n",
    "\n",
    "g = sns.displot(\n",
    "    data=dataset_SCL_melt,\n",
    "    x='value',\n",
    "    col='cols',\n",
    "    hue='atraso_15',\n",
    "    multiple='fill',\n",
    "    stat='proportion',\n",
    "    col_wrap=1,\n",
    "    height=5, \n",
    "    aspect=2,\n",
    "    facet_kws={'sharey': False, 'sharex': False}\n",
    ")\n",
    "# plt.xlabel('Destinos')\n",
    "# plt.ylabel('Proporcion')\n",
    "# plt.title('Propocion de vuelos atrasados por destino')\n",
    "# plt.setp(ax.get_xticklabels(), rotation=90)\n",
    "\n",
    "for ax in g.axes:\n",
    "    # plt.figure(figsize = (15, 8))\n",
    "    plt.xlabel('Destinos')\n",
    "    plt.ylabel('Proporcion')\n",
    "    plt.title('Propocion de vuelos atrasados por destino')\n",
    "    plt.setp(ax.get_xticklabels(), rotation=90)\n",
    "    ax.axhline(y=0.5, color='red', linestyle='--')"
   ]
  },
  {
   "cell_type": "code",
   "execution_count": null,
   "metadata": {},
   "outputs": [],
   "source": [
    "# Exportar las columnas adicionales a un archivo .csv\n",
    "dataset_SCL.to_csv(path.data_processed_dir('synthetic_features.csv'), index=False)"
   ]
  },
  {
   "attachments": {},
   "cell_type": "markdown",
   "metadata": {},
   "source": [
    "3. ¿Cómo se compone la tasa de atraso por destino, aerolínea, mes del año, día de la semana, temporada, tipo de vuelo?\n",
    "¿Qué variables esperarías que más influyeran en predecir atrasos?\n",
    "\n",
    "¿Cómo se compone la tasa de atraso por destino, aerolínea, mes del año, día de la semana, temporada, tipo de vuelo?\n",
    "- Lima, Sao paulo y Antofagasta son las ciudades que mas cantidad de vuelos presentan atrasos y una tasa de retraso de 23%, 25% y 15% respectivamente.\n",
    "-  El Grupo Latam tiene una tasa del 60% en vuelos con atraso mayores a 15 min para el 2017 en la operacion total de vuelos, seguido por Sky Airlines con un 21% y Latin American Wings con 2.5%\n",
    "- El Grupo Latam tiene una tasa de atraso del 18% dentro de su operacion en el aeropuerto SCL, Plus Ultra Lineas Aereas con tasa de operacion 61% esta en el primer puesto,  seguido por Qantas Airways con 58%\n",
    "- Los meses de Julio, Octubre y Diciembre son los meses con mayor tasa de atraso\n",
    "- Los Lunes, Jueves y Viernes son los dias con mayor tasa de atraso\n",
    "- Un 33% de los vuelos del anio 2017 fueron hechos en temporada alta\n",
    "- El 31% o 116 dias del anio estan en temporada alta\n",
    "- Hay poca diferencia entre el atraso y la temporada alta\n",
    "- Los vuelos internacionales son los que mayor tasa de atraso presentan\n",
    "\n",
    "¿Qué variables esperarías que más influyeran en predecir atrasos?\n",
    "\n",
    "Las variables que espero que mas influyan al predecir un atraso son:\n",
    "- Destino\n",
    "- Aerolínea\n",
    "- Mes del año\n",
    "- Día de la semana\n",
    "- Temporada\n",
    "- Tipo de vuelo\n",
    "- Cambio de número de vuelo\n",
    "- Cambio de código aerolínea\n",
    "\n",
    "Esto lo podremos verificar con un test de chi-cuadrado"
   ]
  },
  {
   "cell_type": "code",
   "execution_count": null,
   "metadata": {},
   "outputs": [],
   "source": [
    "dataset_SCL.sample(5)"
   ]
  },
  {
   "cell_type": "code",
   "execution_count": null,
   "metadata": {},
   "outputs": [],
   "source": [
    "# Creamos una variable minuto\n",
    "dataset_SCL['MIN']=dataset_SCL['Fecha-I'].dt.minute"
   ]
  },
  {
   "cell_type": "code",
   "execution_count": null,
   "metadata": {},
   "outputs": [],
   "source": [
    "dataset_SCL.head(5)"
   ]
  },
  {
   "cell_type": "code",
   "execution_count": null,
   "metadata": {},
   "outputs": [],
   "source": [
    "dataset_SCL.columns"
   ]
  },
  {
   "attachments": {},
   "cell_type": "markdown",
   "metadata": {},
   "source": [
    "No usaremos las siguiente columnas:\n",
    "- Fecha-I = creamos las columnas 'DIA', 'MES', 'AÑO',  'HORA', 'MIN' que le ayudaran al modelo a interpertar mejor el formato fecha.\n",
    "- Vlo-I, Vlo-O = creamos las columna 'Vlo_change' que le ayudaran al modelo a interpertar mejor estas dos columnas.\n",
    "- Emp-I, Emp-O = creamos las columna 'Emp_change' que le ayudaran al modelo a interpertar mejor estas dos columnas.\n",
    "- Des-O = vimos que no representa gran variabilidad por eso se elimina por que no ayudaria al modelo a determinar un atraso.\n",
    "- dif_min = por que esta correlacionada con con nuestr variable target 'atraso_15' ya se formo apartir de ella. \n",
    "- Fecha-O = hace parte de la creacion del targe. \n",
    "- SIGLADES = por que tenemos la columna 'Des-I' que resume mejor esta columna."
   ]
  },
  {
   "cell_type": "code",
   "execution_count": null,
   "metadata": {},
   "outputs": [],
   "source": [
    "data_train = dataset_SCL[['DIA', 'MES', 'AÑO',  'HORA', 'MIN', 'periodo_dia', 'DIANOM', 'MESNOM','Des-I', 'TIPOVUELO', 'OPERA', 'Vlo_change', 'Emp_change', 'temporada_alta', 'atraso_15']]\n",
    "data_train.head(5)"
   ]
  },
  {
   "cell_type": "code",
   "execution_count": null,
   "metadata": {},
   "outputs": [],
   "source": [
    "# Exportar las columnas adicionales a un archivo .csv\n",
    "data_train.to_csv(path.data_processed_dir('data_train.csv'), index=False)"
   ]
  },
  {
   "attachments": {},
   "cell_type": "markdown",
   "metadata": {},
   "source": [
    "# Creacion de Data aumentation"
   ]
  },
  {
   "cell_type": "code",
   "execution_count": null,
   "metadata": {},
   "outputs": [],
   "source": [
    "# Importar las librerías necesarias\n",
    "import latam_airlines.utils.paths as path\n",
    "from latam_airlines.utils.latam_utils import check_quality\n",
    "\n",
    "import pandas as pd\n",
    "import numpy as np\n",
    "import seaborn as sns\n",
    "import matplotlib.pyplot as plt\n",
    "\n",
    "from imblearn.over_sampling import SMOTE\n",
    "\n",
    "from sklearn.compose import ColumnTransformer\n",
    "from sklearn.preprocessing import StandardScaler, OneHotEncoder"
   ]
  },
  {
   "cell_type": "code",
   "execution_count": null,
   "metadata": {},
   "outputs": [],
   "source": [
    "# leemos el dataset de training\n",
    "data_train = pd.read_csv(path.data_processed_dir('data_train.csv'))\n",
    "data_train.sample(5)"
   ]
  },
  {
   "attachments": {},
   "cell_type": "markdown",
   "metadata": {},
   "source": [
    "Para saber cuales serian las variables que mas pueden aporatar al modelo podemos hacer un test estadistico, Como la variable objetivo (y) es categórica, en lugar de utilizar un ANOVA para hacer una comparación de medias de las variables independientes, se puede utilizar un test estadístico para comparar la distribución de las variables independientes para cada categoría de la variable objetivo. Una opción popular es el test chi-cuadrado, que se puede calcular utilizando la función scipy.stats.chi2_contingency. Este test permite determinar si existe una asociación significativa entre la variable objetivo y cada una de las variables independientes."
   ]
  },
  {
   "cell_type": "code",
   "execution_count": null,
   "metadata": {},
   "outputs": [],
   "source": [
    "cols = data_train.drop('atraso_15', axis=1).columns\n",
    "for col in cols:\n",
    "    if col in ['DIA','MES','AÑO', 'HORA','MIN']:\n",
    "        data_train[col] = data_train[col].astype(int).astype(str)\n",
    "    else:\n",
    "        data_train[col] = data_train[col].astype(str)"
   ]
  },
  {
   "cell_type": "code",
   "execution_count": null,
   "metadata": {},
   "outputs": [],
   "source": [
    "from scipy.stats import chi2_contingency\n",
    "\n",
    "p_value = []\n",
    "cols = data_train.drop('atraso_15', axis=1).columns\n",
    "for col in cols:\n",
    "    # Crea las tablas de contingencia para cada variable independiente\n",
    "    contingency_table_1 = pd.crosstab(data_train['atraso_15'], data_train[col])\n",
    "\n",
    "    # Realiza la prueba de chi-cuadrado para cada tabla de contingencia\n",
    "    chi2, p_value_1, dof, expected_values_1 = chi2_contingency(contingency_table_1)\n",
    "    if p_value_1< 0.05:\n",
    "        p_value.append({col:p_value_1})\n",
    "        # Imprime los resultados\n",
    "        print(f'P-value variable {col}: {p_value_1}')"
   ]
  },
  {
   "attachments": {},
   "cell_type": "markdown",
   "metadata": {},
   "source": [
    "Como resultados observamos que las variables escogidas son eimportante para poder predecir el atraso y nos aportan informacion relevante, a excepcion del anio, que no supero el test"
   ]
  },
  {
   "cell_type": "code",
   "execution_count": null,
   "metadata": {},
   "outputs": [],
   "source": [
    "data_train.drop(columns='AÑO', inplace=True)\n",
    "data_train.head(5)"
   ]
  },
  {
   "cell_type": "code",
   "execution_count": null,
   "metadata": {},
   "outputs": [],
   "source": [
    "data_train.info()"
   ]
  },
  {
   "cell_type": "code",
   "execution_count": null,
   "metadata": {},
   "outputs": [],
   "source": [
    "sns.catplot(\n",
    "    data= data_train,\n",
    "    x='atraso_15',\n",
    "    kind='count',\n",
    ")\n",
    "plt.xlabel('Atraso mayor a 15 min')\n",
    "plt.ylabel('Numero de Vuelos')\n",
    "plt.title('conteo de vuelos atrasados en el 2017')\n",
    "plt.show()"
   ]
  },
  {
   "cell_type": "code",
   "execution_count": null,
   "metadata": {},
   "outputs": [],
   "source": [
    "col_order = ['DIA', 'MES', 'HORA', 'MIN','Vlo_change', 'Emp_change','temporada_alta','periodo_dia','DIANOM', 'MESNOM','Des-I', 'TIPOVUELO', 'OPERA','atraso_15']\n",
    "data_train = data_train[col_order]"
   ]
  },
  {
   "cell_type": "code",
   "execution_count": null,
   "metadata": {},
   "outputs": [],
   "source": [
    "# Obtiene las características y la variable objetivo\n",
    "X = data_train.drop(\"atraso_15\", axis=1)\n",
    "y = data_train[\"atraso_15\"]\n",
    "\n",
    "# Crear una pipeline que incluya el ColumnTransformer\n",
    "# Crear un objeto ColumnTransformer\n",
    "preprocessor = ColumnTransformer(\n",
    "    transformers=[\n",
    "        ('num', StandardScaler( with_mean=False), ['DIA', 'MES', 'HORA', 'MIN','Vlo_change', 'Emp_change','temporada_alta']),\n",
    "        ('cat-nominal', OneHotEncoder(), ['periodo_dia','DIANOM', 'MESNOM','Des-I', 'TIPOVUELO', 'OPERA'])\n",
    "    ],\n",
    "    )\n",
    "\n",
    "#transformar datos\n",
    "X_transform = preprocessor.fit_transform(X)\n",
    "\n",
    "# Aplica SMOTE para generar datos sintéticos\n",
    "smote = SMOTE(sampling_strategy='minority',random_state=42)\n",
    "X_resampled, y_resampled = smote.fit_resample(X_transform, y)\n",
    "\n",
    "# Inversión de la transformación de escalamiento\n",
    "scaler = preprocessor.named_transformers_['num']\n",
    "X_scaled = scaler.inverse_transform(X_resampled[:, :7])\n",
    "\n",
    "# Inversión de la transformación One-hot\n",
    "onehot = preprocessor.named_transformers_['cat-nominal']\n",
    "X_onehot = X_resampled[:, 7:]\n",
    "X_original = onehot.inverse_transform(X_onehot)\n",
    "\n",
    "# Concatena los valores originales y convierte el resultado en un DataFrame\n",
    "X_recovered = np.concatenate([X_scaled.toarray().astype(int), X_original], axis=1)"
   ]
  },
  {
   "cell_type": "code",
   "execution_count": null,
   "metadata": {},
   "outputs": [],
   "source": [
    "data_train_balanced = pd.DataFrame(X_recovered, columns=X.columns)\n",
    "data_train_balanced[\"atraso_15\"] = y_resampled"
   ]
  },
  {
   "cell_type": "code",
   "execution_count": null,
   "metadata": {},
   "outputs": [],
   "source": [
    "sns.catplot(\n",
    "    data= data_train_balanced,\n",
    "    x='atraso_15',\n",
    "    kind='count',\n",
    ")\n",
    "plt.xlabel('Atraso mayor a 15 min')\n",
    "plt.ylabel('Numero de Vuelos')\n",
    "plt.title('conteo de vuelos atrasados en el 2017')\n",
    "plt.show()"
   ]
  },
  {
   "cell_type": "code",
   "execution_count": null,
   "metadata": {},
   "outputs": [],
   "source": [
    "check_quality(data_train_balanced)"
   ]
  },
  {
   "cell_type": "code",
   "execution_count": null,
   "metadata": {},
   "outputs": [],
   "source": [
    "data_train_balanced.drop_duplicates(inplace=True)"
   ]
  },
  {
   "cell_type": "code",
   "execution_count": null,
   "metadata": {},
   "outputs": [],
   "source": [
    "# Guarda el dataset balanceado en un archivo\n",
    "data_train_balanced.to_csv(path.data_processed_dir('data_train_balanced.csv'), index=False)"
   ]
  },
  {
   "attachments": {},
   "cell_type": "markdown",
   "metadata": {},
   "source": [
    "# creacion del modelo de clasificacion"
   ]
  },
  {
   "attachments": {},
   "cell_type": "markdown",
   "metadata": {},
   "source": [
    "4. Entrena uno o varios modelos (usando el/los algoritmo(s) que prefieras) para estimar la probabilidad de atraso de un vuelo.\n",
    "Siéntete libre de generar variables adicionales y/o complementar con variables externas.\n",
    "\n",
    "5. Evalúa tu modelo. ¿Qué performance tiene? ¿Qué métricas usaste para evaluar esa performance y por qué? ¿Por qué\n",
    "elegiste ese algoritmo en particular? ¿Qué variables son las que más influyen en la predicción? ¿Cómo podrías mejorar la\n",
    "performance?\n",
    "\n",
    "### Métricas para evaluación de modelos con datos desbalanceados \n",
    "\n",
    "#### Efecto de datos desbalanceados\n",
    "\n",
    "- El accuracy es engañosa\n",
    "\n",
    "El rendimiento de los algoritmos de aprendizaje automático se evalúa normalmente mediante el accuracy. Sin embargo, esto no es apropiado cuando los datos están desbalanceados y/o los costos de los diferentes errores varían significativamente, dado que se puede obtener un acurracy bastante alto con sólo predecir la clase mayoritaria sin tomar en cuenta la clase minoritaria, que por lo regular suele ser el objetivo por el cuál se está realizando el modelo de clasificación.\n",
    "\n",
    "Por ejemplo, se hace uso de un conjunto de datos que contiene transacciones hechas con tarjetas de credito en Europa en septiembre de 2013. Se está interesado en predecir si una persona incumplirá con el pago de su tarjeta. Se observa que de las 284807 transacciones registradas, sólo 492 corresponden a personas que incumplieron con el pago de su tarjeta (0.2 %), por lo que un modelo que clasifique todas las observaciones como no fraudulentas obtendría un accuracy igual a 99.8 %. Esta precisión sería alta simplemente porque la mayoría de las transacciones no son fraudulentas y no porque el modelo sea bueno.\n",
    "\n",
    "- AUC ROC es demasiado optimista\n",
    "\n",
    "La curva Receiver Operating Characteristics (ROC) y el área bajo la curva ROC (AUROC) se han convertido en la métrica más común para evaluar un modelo de clasificación.\n",
    "\n",
    "El área bajo la curva (AUROC) es una métrica de rendimiento que se puede utilizar para evaluar modelos de clasificación. AUROC permite medir si un modelo puede clasificar correctamente los ejemplos. AUROC es una métrica de rendimiento para la “discriminación”: permite medir la capacidad del modelo para discriminar entre casos (ejemplos positivos) y no casos (ejemplos negativos). Un AUROC de 0.8 significa que el modelo tiene una buena capacidad de discriminación: 80 % de las ocasiones, el modelo asignará correctamente un riesgo absoluto más alto a un paciente seleccionado al azar con un evento que a un paciente seleccionado al azar sin un evento.\n",
    "\n",
    "El peor AUROC es 0.5 y el mejor AUROC es 1.0.\n",
    "\n",
    "Sin embargo, cuando la clase negativa es más frecuente pero hay un valor bajo en las predicciones negativas verdaderas esta metrica no presenta buenos resultados.\n",
    "\n",
    "Por ejemplo, considere el caso de un conjunto de datos que tiene 10 positivos y 100000 negativos. Se dispone de 2 modelos:\n",
    "\n",
    "Modelo A: predice 900 positivos, de los cuales 9 son verdaderos positivos Modelo B: predice 90 positivos, de los cuales 9 son verdaderos positivos\n",
    "\n",
    "Obviamente, el Modelo B tiene un mejor rendimiento. Aunque ambos predicen el mismo número de positivos, el Modelo B no genera tantos falsos positivos. En otras palabras, el Modelo B es más “preciso”. Sin embargo, considere el análisis ROC de los dos modelos, que mide la tasa de verdaderos positivos (TPR) contra la tasa de falsos positivos\n",
    "(FPR):\n",
    "\n",
    "- Modelo A: TPR = 9/10 = 0.9 y FPR = (900–9) / 100,000 = 0.00891 Modelo B: TPR = 9/10 = 0.9 y FPR = (90–9) / 100,000 = 0.00081\n",
    "\n",
    "Como era de esperar, TPR es exactamente el mismo entre ambos modelos. Por otro lado, dado que el número de negativos domina en gran medida al de positivos, la diferencia de FPR entre ambos modelos (0.00891-0.00081 = 0.0081) se pierde en el sentido de que se puede redondear a casi 0.\n",
    "\n",
    "En otras palabras, un gran cambio en el número de falsos positivos resultó en un pequeño cambio en el FPR y, por lo tanto, la curva ROC no puede reflejar el desempeño superior del Modelo B en el contexto de que los verdaderos negativos no son relevantes para el problema.\n",
    "\n",
    "- Precision-Recall\n",
    "\n",
    "En contraste, la curva Precision-Recall (PR) está diseñada específicamente para la detección de eventos raros y es la métrica que debe usarse cuando la clase positiva es de más interés que la negativa.\n",
    "\n",
    "Debido a que la precisión y la recall no consideran verdaderos negativos, la curva PR no se ve afectada por el desequilibrio de datos. Volviendo al ejemplo anterior:\n",
    "Modelo A: Recall = TPR = 0.9 y Precision = 9/900 = 0.01 Modelo B: Recall = TPR = 0.9 y Precision = 9/90 = 0.1\n",
    "\n",
    "Claramente, el análisis de PR es más informativo en comparación con el análisis de la curva ROC.\n",
    "\n",
    "### Entrenamiento o Training del modelo de clasifiacion binario\n",
    "Como sabemos nuestro dataset esta desbalanceado por este motivo recorreremos 3 caminos para seleccionar el mejor modelo\n",
    "- entrenamiento con datos desbalanceados, posblemente tengamos un accuracy alto pero el PR de label 1(atraso) sean bajas\n",
    "- entrenamiento con datos balanceados usando sub-muestreo, osea, igualar los labels eliminando datos de la clase con mas informacion, posiblemente tengamos un accuracy aceptable o bueno y un PR similar entre los labels.\n",
    "- entrenamiento con datos balanceados usando sobre-muestreo, osea, igualar los labels aumentando los datos de la clase con menos informacion, posiblemente tengamos un accuracy aceptable o bueno y un PR similar entre los labels."
   ]
  },
  {
   "cell_type": "code",
   "execution_count": 12,
   "metadata": {},
   "outputs": [],
   "source": [
    "# Importar las librerías necesarias\n",
    "import latam_airlines.utils.paths as path\n",
    "from latam_airlines.utils.latam_utils import modelPipeline, get_model_performance_test_set, save_simple_metrics_report, update_model\n",
    "\n",
    "import pandas as pd\n",
    "import numpy as np\n",
    "import seaborn as sns\n",
    "import matplotlib.pyplot as plt\n",
    "\n",
    "from sklearn.pipeline import Pipeline\n",
    "from sklearn.compose import ColumnTransformer\n",
    "from sklearn.preprocessing import StandardScaler, OneHotEncoder\n",
    "\n",
    "from sklearn.model_selection import train_test_split, cross_validate, GridSearchCV\n",
    "\n",
    "from sklearn.linear_model import LogisticRegression\n",
    "from sklearn.ensemble import RandomForestClassifier\n",
    "from xgboost import XGBClassifier\n",
    "\n",
    "from sklearn.metrics import classification_report, f1_score,precision_score,recall_score,accuracy_score, confusion_matrix\n",
    "\n",
    "rs = {'random_state': 42}"
   ]
  },
  {
   "attachments": {},
   "cell_type": "markdown",
   "metadata": {},
   "source": [
    "## Camino 1 - sin balancear el dataset"
   ]
  },
  {
   "cell_type": "code",
   "execution_count": 13,
   "metadata": {},
   "outputs": [],
   "source": [
    "# leemos el dataset de training\n",
    "data_train = pd.read_csv(path.data_processed_dir('data_train.csv'))\n",
    "data_train.drop(columns='AÑO', inplace=True)"
   ]
  },
  {
   "cell_type": "code",
   "execution_count": 14,
   "metadata": {},
   "outputs": [
    {
     "data": {
      "image/png": "[encoded data removed]",
      "text/plain": [
       "<Figure size 500x500 with 1 Axes>"
      ]
     },
     "metadata": {},
     "output_type": "display_data"
    }
   ],
   "source": [
    "sns.catplot(\n",
    "    data= data_train,\n",
    "    x='atraso_15',\n",
    "    kind='count',\n",
    ")\n",
    "plt.xlabel('Atraso mayor a 15 min')\n",
    "plt.ylabel('Numero de Vuelos')\n",
    "plt.title('conteo de vuelos atrasados en el 2017')\n",
    "plt.show()"
   ]
  },
  {
   "cell_type": "code",
   "execution_count": 32,
   "metadata": {},
   "outputs": [],
   "source": [
    "# Dividir los datos en variables de entrada y salida\n",
    "X = data_train.drop('atraso_15', axis=1)\n",
    "y = data_train['atraso_15']\n",
    "\n",
    "# Dividir los datos en conjuntos de entrenamiento y prueba\n",
    "X_train, X_test, y_train, y_test = train_test_split(X, y, test_size=0.3, random_state=42)"
   ]
  },
  {
   "cell_type": "code",
   "execution_count": 16,
   "metadata": {},
   "outputs": [
    {
     "name": "stderr",
     "output_type": "stream",
     "text": [
      "/home/frandak2/latam_airlines/latam_airlines/utils/latam_utils.py:122: FutureWarning: The frame.append method is deprecated and will be removed from pandas in a future version. Use pandas.concat instead.\n",
      "  scores_df = scores_df.append({\n",
      "/home/frandak2/latam_airlines/latam_airlines/utils/latam_utils.py:122: FutureWarning: The frame.append method is deprecated and will be removed from pandas in a future version. Use pandas.concat instead.\n",
      "  scores_df = scores_df.append({\n",
      "/home/frandak2/latam_airlines/latam_airlines/utils/latam_utils.py:122: FutureWarning: The frame.append method is deprecated and will be removed from pandas in a future version. Use pandas.concat instead.\n",
      "  scores_df = scores_df.append({\n",
      "/home/frandak2/latam_airlines/latam_airlines/utils/latam_utils.py:122: FutureWarning: The frame.append method is deprecated and will be removed from pandas in a future version. Use pandas.concat instead.\n",
      "  scores_df = scores_df.append({\n",
      "/home/frandak2/latam_airlines/latam_airlines/utils/latam_utils.py:122: FutureWarning: The frame.append method is deprecated and will be removed from pandas in a future version. Use pandas.concat instead.\n",
      "  scores_df = scores_df.append({\n"
     ]
    },
    {
     "data": {
      "text/html": [
       "<div>\n",
       "<style scoped>\n",
       "    .dataframe tbody tr th:only-of-type {\n",
       "        vertical-align: middle;\n",
       "    }\n",
       "\n",
       "    .dataframe tbody tr th {\n",
       "        vertical-align: top;\n",
       "    }\n",
       "\n",
       "    .dataframe thead th {\n",
       "        text-align: right;\n",
       "    }\n",
       "</style>\n",
       "<table border=\"1\" class=\"dataframe\">\n",
       "  <thead>\n",
       "    <tr style=\"text-align: right;\">\n",
       "      <th></th>\n",
       "      <th>Model</th>\n",
       "      <th>F1_Score</th>\n",
       "      <th>Precision</th>\n",
       "      <th>Recall</th>\n",
       "      <th>Accuracy</th>\n",
       "    </tr>\n",
       "  </thead>\n",
       "  <tbody>\n",
       "    <tr>\n",
       "      <th>0</th>\n",
       "      <td>Logistic Regression</td>\n",
       "      <td>0.755422</td>\n",
       "      <td>0.780123</td>\n",
       "      <td>0.822002</td>\n",
       "      <td>0.822002</td>\n",
       "    </tr>\n",
       "    <tr>\n",
       "      <th>1</th>\n",
       "      <td>MLP</td>\n",
       "      <td>0.779200</td>\n",
       "      <td>0.772540</td>\n",
       "      <td>0.787664</td>\n",
       "      <td>0.787664</td>\n",
       "    </tr>\n",
       "    <tr>\n",
       "      <th>2</th>\n",
       "      <td>Decision Tree</td>\n",
       "      <td>0.749352</td>\n",
       "      <td>0.753669</td>\n",
       "      <td>0.745353</td>\n",
       "      <td>0.745353</td>\n",
       "    </tr>\n",
       "    <tr>\n",
       "      <th>3</th>\n",
       "      <td>Random Forest</td>\n",
       "      <td>0.784420</td>\n",
       "      <td>0.775943</td>\n",
       "      <td>0.812512</td>\n",
       "      <td>0.812512</td>\n",
       "    </tr>\n",
       "    <tr>\n",
       "      <th>4</th>\n",
       "      <td>XGBoost</td>\n",
       "      <td>0.789873</td>\n",
       "      <td>0.803723</td>\n",
       "      <td>0.832078</td>\n",
       "      <td>0.832078</td>\n",
       "    </tr>\n",
       "  </tbody>\n",
       "</table>\n",
       "</div>"
      ],
      "text/plain": [
       "                 Model  F1_Score  Precision    Recall  Accuracy\n",
       "0  Logistic Regression  0.755422   0.780123  0.822002  0.822002\n",
       "1                  MLP  0.779200   0.772540  0.787664  0.787664\n",
       "2        Decision Tree  0.749352   0.753669  0.745353  0.745353\n",
       "3        Random Forest  0.784420   0.775943  0.812512  0.812512\n",
       "4              XGBoost  0.789873   0.803723  0.832078  0.832078"
      ]
     },
     "execution_count": 16,
     "metadata": {},
     "output_type": "execute_result"
    }
   ],
   "source": [
    "# entrenamos y evaluamos diferentes modelos\n",
    "pipelines, scores_df = modelPipeline(X_train, X_test, y_train, y_test)\n",
    "scores_df"
   ]
  },
  {
   "attachments": {},
   "cell_type": "markdown",
   "metadata": {},
   "source": [
    "Esta tabla muestra los resultados de 5 modelos diferentes de ML en un problema de clasificación. Las métricas incluyen F1 Score, Precision, Recall y Accuracy. Estas métricas permiten evaluar la capacidad de los modelos para clasificar correctamente las etiquetas de la clase objetivo. \n",
    "- F1 Score es una métrica combinada de Precision y Recall. \n",
    "- Precision mide la cantidad de etiquetas positivas correctas en comparación con las etiquetas positivas totales predichas. osea, la capacidad del modelo de clasificar realmente si un vuelo se atraso \n",
    "- Recall mide la cantidad de etiquetas positivas correctas en comparación con las etiquetas positivas totales reales. osea, el acierto del modelo para clasificar un vuelo con o sin retraso en la realidad\n",
    "- Accuracy mide la proporción de etiquetas clasificadas correctamente. Esta metrica puede ser enganosa, hay que ver muy bien como se comporta la matriz de confusion\n",
    "\n",
    "Para la selelcion del modelo tomaremos el modelo que presente mejore metricas."
   ]
  },
  {
   "cell_type": "code",
   "execution_count": 33,
   "metadata": {},
   "outputs": [],
   "source": [
    "# Crear una pipeline que incluya el ColumnTransformer y el RandomForestClassifier\n",
    "# Crear un objeto ColumnTransformer\n",
    "preprocessor = ColumnTransformer(\n",
    "    transformers=[\n",
    "        ('num', StandardScaler( with_mean=False), ['DIA', 'MES', 'HORA', 'MIN','Vlo_change', 'Emp_change','temporada_alta']),\n",
    "        ('cat-nominal', OneHotEncoder(), ['periodo_dia','DIANOM', 'MESNOM','Des-I', 'TIPOVUELO', 'OPERA'])\n",
    "    ],\n",
    "    )\n",
    "pipe = Pipeline(steps=[\n",
    "    ('preprocessor', preprocessor),\n",
    "    ('model',XGBClassifier(**rs))\n",
    "    ]\n",
    ")"
   ]
  },
  {
   "cell_type": "code",
   "execution_count": 38,
   "metadata": {},
   "outputs": [
    {
     "name": "stdout",
     "output_type": "stream",
     "text": [
      "Dispersion del score en la validacion cruzada\n",
      "Dispersion train score: 0.00012551069914364303\n",
      "Dispersion test score: 0.0010078741350982613\n",
      "media del score en la validacion cruzada\n",
      "media train score: 0.8463062345690371\n",
      "media test score: 0.824242135398436\n",
      "              precision    recall  f1-score   support\n",
      "\n",
      "           0       0.84      0.98      0.91     16759\n",
      "           1       0.63      0.17      0.27      3685\n",
      "\n",
      "    accuracy                           0.83     20444\n",
      "   macro avg       0.73      0.57      0.59     20444\n",
      "weighted avg       0.80      0.83      0.79     20444\n",
      "\n"
     ]
    }
   ],
   "source": [
    "# realizar validacion cruzada\n",
    "final_result = cross_validate(pipe, X_train, y_train, return_train_score=True, cv=5)\n",
    "#observamos la dispersion del score\n",
    "train_score_std = np.std(final_result['train_score'])\n",
    "test_score_std = np.std(final_result['test_score'])\n",
    "print('Dispersion del score en la validacion cruzada')\n",
    "print(f'Dispersion train score: {train_score_std}')\n",
    "print(f'Dispersion test score: {test_score_std}')\n",
    "\n",
    "# Observamos la media del score\n",
    "train_score_mean = np.mean(final_result['train_score'])\n",
    "test_score_mean = np.mean(final_result['test_score'])\n",
    "print('media del score en la validacion cruzada')\n",
    "print(f'media train score: {train_score_mean}')\n",
    "print(f'media test score: {test_score_mean}')\n",
    "\n",
    "# Entrenar modelo\n",
    "pipe.fit(X_train, y_train)\n",
    "# Mostrar los resultados\n",
    "\n",
    "validation_score =pipe.score(X_test, y_test)\n",
    "\n",
    "y_pred = pipe.predict(X_test)\n",
    "\n",
    "# Imprimiendo el reporte de clasificación\n",
    "report = classification_report(y_test, y_pred)\n",
    "print(report)"
   ]
  },
  {
   "attachments": {},
   "cell_type": "markdown",
   "metadata": {},
   "source": [
    "Se puede concluir lo siguiente:\n",
    "\n",
    "- Para la clase 0 (no atraso), el modelo tiene una precision de 0.84, lo que significa que el 84% de los casos clasificados como no atrasados son realmente no atrasados.\n",
    "- Para la clase 0 (no atraso), el modelo tiene un recall de 0.98, lo que significa que el 98% de los casos reales de no atraso son identificados correctamente por el modelo.\n",
    "- Para la clase 0 (no atraso), el modelo tiene un f1-score de 0.91, lo que indica un buen desempeño en la clasificación de la clase 0.\n",
    "- Para la clase 1 (atraso), el modelo tiene una precision de 0.63, lo que significa que solo el 63% de los casos clasificados como atrasados son realmente atrasados.\n",
    "- Para la clase 1 (atraso), el modelo tiene un recall de 0.17, lo que significa que solo el 17% de los casos reales de atraso son identificados correctamente por el modelo.\n",
    "- Para la clase 1 (atraso), el modelo tiene un f1-score de 0.27, lo que indica un mal desempeño en la clasificación de la clase 1.\n",
    "- El accuracy general del modelo es de 0.83, lo que significa que el modelo predice correctamente el 83% de las veces en promedio.\n",
    "\n",
    "Es importante considerar tanto la precision como el recall para la clase minoritaria (atraso), ya que un modelo con una precision alta pero un recall bajo no será útil si se desea detectar todos los casos de atraso. En este caso, se podría considerar la re-calibración del modelo o la utilización de técnicas de balanceo de datos para mejorar su desempeño en la clasificación de la clase minoritaria."
   ]
  },
  {
   "cell_type": "code",
   "execution_count": 35,
   "metadata": {},
   "outputs": [
    {
     "data": {
      "image/png": "[encoded data removed]",
      "text/plain": [
       "<Figure size 1200x800 with 2 Axes>"
      ]
     },
     "metadata": {},
     "output_type": "display_data"
    }
   ],
   "source": [
    "get_model_performance_test_set('cm_unbalanced', y_test, y_pred)"
   ]
  },
  {
   "cell_type": "code",
   "execution_count": 36,
   "metadata": {},
   "outputs": [],
   "source": [
    "save_simple_metrics_report('report_unbalanced', train_score_mean, test_score_mean, validation_score, report, pipe)"
   ]
  },
  {
   "attachments": {},
   "cell_type": "markdown",
   "metadata": {},
   "source": [
    "## Camino 2.0 - balanceando el dataset (sub-muestreo)"
   ]
  },
  {
   "cell_type": "code",
   "execution_count": 43,
   "metadata": {},
   "outputs": [],
   "source": [
    "# leemos el dataset de training\n",
    "data_train = pd.read_csv(path.data_processed_dir('data_train.csv'))\n",
    "data_train.drop(columns='AÑO', inplace=True)"
   ]
  },
  {
   "cell_type": "code",
   "execution_count": 44,
   "metadata": {},
   "outputs": [
    {
     "data": {
      "image/png": "[encoded data removed]",
      "text/plain": [
       "<Figure size 500x500 with 1 Axes>"
      ]
     },
     "metadata": {},
     "output_type": "display_data"
    }
   ],
   "source": [
    "sns.catplot(\n",
    "    data= data_train,\n",
    "    x='atraso_15',\n",
    "    kind='count',\n",
    ")\n",
    "plt.xlabel('Atraso mayor a 15 min')\n",
    "plt.ylabel('Numero de Vuelos')\n",
    "plt.title('conteo de vuelos atrasados en el 2017')\n",
    "plt.show()"
   ]
  },
  {
   "cell_type": "code",
   "execution_count": 45,
   "metadata": {},
   "outputs": [
    {
     "data": {
      "text/plain": [
       "0    55550\n",
       "1    12596\n",
       "Name: atraso_15, dtype: int64"
      ]
     },
     "execution_count": 45,
     "metadata": {},
     "output_type": "execute_result"
    }
   ],
   "source": [
    "data_train['atraso_15'].value_counts()"
   ]
  },
  {
   "cell_type": "code",
   "execution_count": 46,
   "metadata": {},
   "outputs": [],
   "source": [
    "data = pd.concat(\n",
    "    [data_train[data_train['atraso_15']==0].sample(12596),data_train[data_train['atraso_15']==1]]\n",
    ")"
   ]
  },
  {
   "cell_type": "code",
   "execution_count": 47,
   "metadata": {},
   "outputs": [
    {
     "data": {
      "image/png": "[encoded data removed]",
      "text/plain": [
       "<Figure size 500x500 with 1 Axes>"
      ]
     },
     "metadata": {},
     "output_type": "display_data"
    }
   ],
   "source": [
    "sns.catplot(\n",
    "    data= data,\n",
    "    x='atraso_15',\n",
    "    kind='count',\n",
    ")\n",
    "plt.xlabel('Atraso mayor a 15 min')\n",
    "plt.ylabel('Numero de Vuelos')\n",
    "plt.title('conteo de vuelos atrasados en el 2017')\n",
    "plt.show()"
   ]
  },
  {
   "cell_type": "code",
   "execution_count": 48,
   "metadata": {},
   "outputs": [],
   "source": [
    "# Dividir los datos en variables de entrada y salida\n",
    "X = data.drop('atraso_15', axis=1)\n",
    "y = data['atraso_15']\n",
    "\n",
    "# Dividir los datos en conjuntos de entrenamiento y prueba\n",
    "X_train, X_test, y_train, y_test = train_test_split(X, y, test_size=0.3, random_state=42)"
   ]
  },
  {
   "cell_type": "code",
   "execution_count": 27,
   "metadata": {},
   "outputs": [
    {
     "name": "stderr",
     "output_type": "stream",
     "text": [
      "/home/frandak2/latam_airlines/latam_airlines/utils/latam_utils.py:122: FutureWarning: The frame.append method is deprecated and will be removed from pandas in a future version. Use pandas.concat instead.\n",
      "  scores_df = scores_df.append({\n",
      "/home/frandak2/latam_airlines/latam_airlines/utils/latam_utils.py:122: FutureWarning: The frame.append method is deprecated and will be removed from pandas in a future version. Use pandas.concat instead.\n",
      "  scores_df = scores_df.append({\n",
      "/home/frandak2/latam_airlines/latam_airlines/utils/latam_utils.py:122: FutureWarning: The frame.append method is deprecated and will be removed from pandas in a future version. Use pandas.concat instead.\n",
      "  scores_df = scores_df.append({\n",
      "/home/frandak2/latam_airlines/latam_airlines/utils/latam_utils.py:122: FutureWarning: The frame.append method is deprecated and will be removed from pandas in a future version. Use pandas.concat instead.\n",
      "  scores_df = scores_df.append({\n",
      "/home/frandak2/latam_airlines/latam_airlines/utils/latam_utils.py:122: FutureWarning: The frame.append method is deprecated and will be removed from pandas in a future version. Use pandas.concat instead.\n",
      "  scores_df = scores_df.append({\n"
     ]
    },
    {
     "data": {
      "text/html": [
       "<div>\n",
       "<style scoped>\n",
       "    .dataframe tbody tr th:only-of-type {\n",
       "        vertical-align: middle;\n",
       "    }\n",
       "\n",
       "    .dataframe tbody tr th {\n",
       "        vertical-align: top;\n",
       "    }\n",
       "\n",
       "    .dataframe thead th {\n",
       "        text-align: right;\n",
       "    }\n",
       "</style>\n",
       "<table border=\"1\" class=\"dataframe\">\n",
       "  <thead>\n",
       "    <tr style=\"text-align: right;\">\n",
       "      <th></th>\n",
       "      <th>Model</th>\n",
       "      <th>F1_Score</th>\n",
       "      <th>Precision</th>\n",
       "      <th>Recall</th>\n",
       "      <th>Accuracy</th>\n",
       "    </tr>\n",
       "  </thead>\n",
       "  <tbody>\n",
       "    <tr>\n",
       "      <th>0</th>\n",
       "      <td>Logistic Regression</td>\n",
       "      <td>0.626486</td>\n",
       "      <td>0.626484</td>\n",
       "      <td>0.626488</td>\n",
       "      <td>0.626488</td>\n",
       "    </tr>\n",
       "    <tr>\n",
       "      <th>1</th>\n",
       "      <td>MLP</td>\n",
       "      <td>0.613743</td>\n",
       "      <td>0.613931</td>\n",
       "      <td>0.613919</td>\n",
       "      <td>0.613919</td>\n",
       "    </tr>\n",
       "    <tr>\n",
       "      <th>2</th>\n",
       "      <td>Decision Tree</td>\n",
       "      <td>0.609000</td>\n",
       "      <td>0.609615</td>\n",
       "      <td>0.609156</td>\n",
       "      <td>0.609156</td>\n",
       "    </tr>\n",
       "    <tr>\n",
       "      <th>3</th>\n",
       "      <td>Random Forest</td>\n",
       "      <td>0.642364</td>\n",
       "      <td>0.642363</td>\n",
       "      <td>0.642366</td>\n",
       "      <td>0.642366</td>\n",
       "    </tr>\n",
       "    <tr>\n",
       "      <th>4</th>\n",
       "      <td>XGBoost</td>\n",
       "      <td>0.666453</td>\n",
       "      <td>0.666474</td>\n",
       "      <td>0.666446</td>\n",
       "      <td>0.666446</td>\n",
       "    </tr>\n",
       "  </tbody>\n",
       "</table>\n",
       "</div>"
      ],
      "text/plain": [
       "                 Model  F1_Score  Precision    Recall  Accuracy\n",
       "0  Logistic Regression  0.626486   0.626484  0.626488  0.626488\n",
       "1                  MLP  0.613743   0.613931  0.613919  0.613919\n",
       "2        Decision Tree  0.609000   0.609615  0.609156  0.609156\n",
       "3        Random Forest  0.642364   0.642363  0.642366  0.642366\n",
       "4              XGBoost  0.666453   0.666474  0.666446  0.666446"
      ]
     },
     "execution_count": 27,
     "metadata": {},
     "output_type": "execute_result"
    }
   ],
   "source": [
    "# entrenamos y evaluamos diferentes modelos\n",
    "pipelines, scores_df = modelPipeline(X_train, X_test, y_train, y_test)\n",
    "scores_df"
   ]
  },
  {
   "cell_type": "code",
   "execution_count": 49,
   "metadata": {},
   "outputs": [
    {
     "name": "stdout",
     "output_type": "stream",
     "text": [
      "Dispersion del score en la validacion cruzada\n",
      "Dispersion train score: 0.0023772658870899223\n",
      "Dispersion test score: 0.007503028461254369\n",
      "media del score en la validacion cruzada\n",
      "media train score: 0.7856272423073609\n",
      "media test score: 0.6601454527676538\n",
      "              precision    recall  f1-score   support\n",
      "\n",
      "           0       0.67      0.66      0.67      3814\n",
      "           1       0.66      0.67      0.66      3744\n",
      "\n",
      "    accuracy                           0.67      7558\n",
      "   macro avg       0.67      0.67      0.67      7558\n",
      "weighted avg       0.67      0.67      0.67      7558\n",
      "\n"
     ]
    }
   ],
   "source": [
    "# Crear una pipeline que incluya el ColumnTransformer y el XGBClassifier\n",
    "# Crear un objeto ColumnTransformer\n",
    "preprocessor = ColumnTransformer(\n",
    "    transformers=[\n",
    "        ('num', StandardScaler( with_mean=False), ['DIA', 'MES', 'HORA', 'MIN','Vlo_change', 'Emp_change','temporada_alta']),\n",
    "        ('cat-nominal', OneHotEncoder(), ['periodo_dia','DIANOM', 'MESNOM','Des-I', 'TIPOVUELO', 'OPERA'])\n",
    "    ],\n",
    "    )\n",
    "pipe = Pipeline(steps=[\n",
    "    ('preprocessor', preprocessor),\n",
    "    ('model',XGBClassifier(**rs))\n",
    "    ]\n",
    ")\n",
    "\n",
    "# realizar validacion cruzada\n",
    "final_result = cross_validate(pipe, X_train, y_train, return_train_score=True, cv=5)\n",
    "#observamos la dispersion del score\n",
    "train_score_std = np.std(final_result['train_score'])\n",
    "test_score_std = np.std(final_result['test_score'])\n",
    "print('Dispersion del score en la validacion cruzada')\n",
    "print(f'Dispersion train score: {train_score_std}')\n",
    "print(f'Dispersion test score: {test_score_std}')\n",
    "\n",
    "# Observamos la media del score\n",
    "train_score_mean = np.mean(final_result['train_score'])\n",
    "test_score_mean = np.mean(final_result['test_score'])\n",
    "print('media del score en la validacion cruzada')\n",
    "print(f'media train score: {train_score_mean}')\n",
    "print(f'media test score: {test_score_mean}')\n",
    "\n",
    "# Entrenar modelo\n",
    "pipe.fit(X_train, y_train)\n",
    "# Mostrar los resultados\n",
    "\n",
    "validation_score =pipe.score(X_test, y_test)\n",
    "\n",
    "y_pred = pipe.predict(X_test)\n",
    "\n",
    "# Imprimiendo el reporte de clasificación\n",
    "report = classification_report(y_test, y_pred)\n",
    "print(report)"
   ]
  },
  {
   "attachments": {},
   "cell_type": "markdown",
   "metadata": {},
   "source": [
    "Se puede concluir lo siguiente:\n",
    "\n",
    "- Para la clase 0 (no atraso), el 67% de los casos clasificados como no atrasados son realmente no atrasados.\n",
    "- Para la clase 0 (no atraso), el 66% de los casos reales de no atraso son identificados correctamente por el modelo.\n",
    "- Para la clase 1 (atraso), el 66% de los casos clasificados como atrasados son realmente atrasados.\n",
    "- Para la clase 1 (atraso), el 67% de los casos reales de atraso son identificados correctamente por el modelo.\n",
    "- El accuracy general del modelo es de 0.67, lo que significa que el modelo predice correctamente el 67% de las veces en promedio.\n",
    "\n",
    "En este caso, se podría considerar hacer un over-sampling del modelo para mejorar su desempeño en la clasificación de las clases."
   ]
  },
  {
   "cell_type": "code",
   "execution_count": 50,
   "metadata": {},
   "outputs": [
    {
     "data": {
      "image/png": "[encoded data removed]",
      "text/plain": [
       "<Figure size 1200x800 with 2 Axes>"
      ]
     },
     "metadata": {},
     "output_type": "display_data"
    }
   ],
   "source": [
    "get_model_performance_test_set('cm_balanced_sub', y_test, y_pred)"
   ]
  },
  {
   "cell_type": "code",
   "execution_count": 51,
   "metadata": {},
   "outputs": [],
   "source": [
    "save_simple_metrics_report('report_balanced_sub', train_score_mean, test_score_mean, validation_score, report, pipe)\n",
    "update_model('model_balanced_sub',pipe)"
   ]
  },
  {
   "attachments": {},
   "cell_type": "markdown",
   "metadata": {},
   "source": [
    "## Camino 2.1 - balanceando el dataset (sobre-muestreo)"
   ]
  },
  {
   "cell_type": "code",
   "execution_count": 52,
   "metadata": {},
   "outputs": [],
   "source": [
    "data_train_balanced = pd.read_csv(path.data_processed_dir('data_train_balanced.csv'))"
   ]
  },
  {
   "cell_type": "code",
   "execution_count": 54,
   "metadata": {},
   "outputs": [
    {
     "data": {
      "image/png": "[encoded data removed]",
      "text/plain": [
       "<Figure size 500x500 with 1 Axes>"
      ]
     },
     "metadata": {},
     "output_type": "display_data"
    }
   ],
   "source": [
    "sns.catplot(\n",
    "    data= data_train_balanced,\n",
    "    x='atraso_15',\n",
    "    kind='count',\n",
    ")\n",
    "plt.xlabel('Atraso mayor a 15 min')\n",
    "plt.ylabel('Numero de Vuelos')\n",
    "plt.title('conteo de vuelos atrasados en el 2017')\n",
    "plt.show()"
   ]
  },
  {
   "cell_type": "code",
   "execution_count": 55,
   "metadata": {},
   "outputs": [],
   "source": [
    "# Dividir los datos en variables de entrada y salida\n",
    "X = data_train_balanced.drop('atraso_15', axis=1)\n",
    "y = data_train_balanced['atraso_15']\n",
    "\n",
    "# Dividir los datos en conjuntos de entrenamiento y prueba\n",
    "X_train, X_test, y_train, y_test = train_test_split(X, y, test_size=0.3, random_state=42)"
   ]
  },
  {
   "cell_type": "code",
   "execution_count": 56,
   "metadata": {},
   "outputs": [
    {
     "name": "stderr",
     "output_type": "stream",
     "text": [
      "/home/frandak2/latam_airlines/latam_airlines/utils/latam_utils.py:122: FutureWarning: The frame.append method is deprecated and will be removed from pandas in a future version. Use pandas.concat instead.\n",
      "  scores_df = scores_df.append({\n",
      "/home/frandak2/latam_airlines/latam_airlines/utils/latam_utils.py:122: FutureWarning: The frame.append method is deprecated and will be removed from pandas in a future version. Use pandas.concat instead.\n",
      "  scores_df = scores_df.append({\n",
      "/home/frandak2/latam_airlines/latam_airlines/utils/latam_utils.py:122: FutureWarning: The frame.append method is deprecated and will be removed from pandas in a future version. Use pandas.concat instead.\n",
      "  scores_df = scores_df.append({\n",
      "/home/frandak2/latam_airlines/latam_airlines/utils/latam_utils.py:122: FutureWarning: The frame.append method is deprecated and will be removed from pandas in a future version. Use pandas.concat instead.\n",
      "  scores_df = scores_df.append({\n",
      "/home/frandak2/latam_airlines/latam_airlines/utils/latam_utils.py:122: FutureWarning: The frame.append method is deprecated and will be removed from pandas in a future version. Use pandas.concat instead.\n",
      "  scores_df = scores_df.append({\n"
     ]
    },
    {
     "data": {
      "text/html": [
       "<div>\n",
       "<style scoped>\n",
       "    .dataframe tbody tr th:only-of-type {\n",
       "        vertical-align: middle;\n",
       "    }\n",
       "\n",
       "    .dataframe tbody tr th {\n",
       "        vertical-align: top;\n",
       "    }\n",
       "\n",
       "    .dataframe thead th {\n",
       "        text-align: right;\n",
       "    }\n",
       "</style>\n",
       "<table border=\"1\" class=\"dataframe\">\n",
       "  <thead>\n",
       "    <tr style=\"text-align: right;\">\n",
       "      <th></th>\n",
       "      <th>Model</th>\n",
       "      <th>F1_Score</th>\n",
       "      <th>Precision</th>\n",
       "      <th>Recall</th>\n",
       "      <th>Accuracy</th>\n",
       "    </tr>\n",
       "  </thead>\n",
       "  <tbody>\n",
       "    <tr>\n",
       "      <th>0</th>\n",
       "      <td>Logistic Regression</td>\n",
       "      <td>0.637971</td>\n",
       "      <td>0.646947</td>\n",
       "      <td>0.649513</td>\n",
       "      <td>0.649513</td>\n",
       "    </tr>\n",
       "    <tr>\n",
       "      <th>1</th>\n",
       "      <td>MLP</td>\n",
       "      <td>0.743763</td>\n",
       "      <td>0.743635</td>\n",
       "      <td>0.744670</td>\n",
       "      <td>0.744670</td>\n",
       "    </tr>\n",
       "    <tr>\n",
       "      <th>2</th>\n",
       "      <td>Decision Tree</td>\n",
       "      <td>0.790791</td>\n",
       "      <td>0.792307</td>\n",
       "      <td>0.790239</td>\n",
       "      <td>0.790239</td>\n",
       "    </tr>\n",
       "    <tr>\n",
       "      <th>3</th>\n",
       "      <td>Random Forest</td>\n",
       "      <td>0.858767</td>\n",
       "      <td>0.859741</td>\n",
       "      <td>0.858457</td>\n",
       "      <td>0.858457</td>\n",
       "    </tr>\n",
       "    <tr>\n",
       "      <th>4</th>\n",
       "      <td>XGBoost</td>\n",
       "      <td>0.779409</td>\n",
       "      <td>0.785585</td>\n",
       "      <td>0.783019</td>\n",
       "      <td>0.783019</td>\n",
       "    </tr>\n",
       "  </tbody>\n",
       "</table>\n",
       "</div>"
      ],
      "text/plain": [
       "                 Model  F1_Score  Precision    Recall  Accuracy\n",
       "0  Logistic Regression  0.637971   0.646947  0.649513  0.649513\n",
       "1                  MLP  0.743763   0.743635  0.744670  0.744670\n",
       "2        Decision Tree  0.790791   0.792307  0.790239  0.790239\n",
       "3        Random Forest  0.858767   0.859741  0.858457  0.858457\n",
       "4              XGBoost  0.779409   0.785585  0.783019  0.783019"
      ]
     },
     "execution_count": 56,
     "metadata": {},
     "output_type": "execute_result"
    }
   ],
   "source": [
    "pipelines, scores_df = modelPipeline(X_train, X_test, y_train, y_test)\n",
    "scores_df"
   ]
  },
  {
   "attachments": {},
   "cell_type": "markdown",
   "metadata": {},
   "source": [
    "Como lo mencione anteriormente se escoge el modelo que mejor metricas tienen, aca demebmos tomar en cuenta que el modelo de RandomForestClassifier es algo pesado si lo consideramos para el paso a produccion."
   ]
  },
  {
   "cell_type": "code",
   "execution_count": 57,
   "metadata": {},
   "outputs": [
    {
     "name": "stdout",
     "output_type": "stream",
     "text": [
      "Dispersion del score en la validacion cruzada\n",
      "Dispersion train score: 4.528876702921216e-05\n",
      "Dispersion test score: 0.0021311522386951915\n",
      "media del score en la validacion cruzada\n",
      "media train score: 0.9992555720075316\n",
      "media test score: 0.8427797648575035\n",
      "              precision    recall  f1-score   support\n",
      "\n",
      "           0       0.89      0.86      0.87     16590\n",
      "           1       0.82      0.86      0.84     12772\n",
      "\n",
      "    accuracy                           0.86     29362\n",
      "   macro avg       0.86      0.86      0.86     29362\n",
      "weighted avg       0.86      0.86      0.86     29362\n",
      "\n"
     ]
    }
   ],
   "source": [
    "# Crear una pipeline que incluya el ColumnTransformer y el RandomForestClassifier\n",
    "# Crear un objeto ColumnTransformer\n",
    "preprocessor = ColumnTransformer(\n",
    "    transformers=[\n",
    "        ('num', StandardScaler( with_mean=False), ['DIA', 'MES', 'HORA', 'MIN','Vlo_change', 'Emp_change','temporada_alta']),\n",
    "        ('cat-nominal', OneHotEncoder(), ['periodo_dia','DIANOM', 'MESNOM','Des-I', 'TIPOVUELO', 'OPERA'])\n",
    "    ],\n",
    "    )\n",
    "pipe = Pipeline(steps=[\n",
    "    ('preprocessor', preprocessor),\n",
    "    ('model',RandomForestClassifier(**rs))\n",
    "    ]\n",
    ")\n",
    "\n",
    "# realizar validacion cruzada\n",
    "final_result = cross_validate(pipe, X_train, y_train, return_train_score=True, cv=5)\n",
    "#observamos la dispersion del score\n",
    "train_score_std = np.std(final_result['train_score'])\n",
    "test_score_std = np.std(final_result['test_score'])\n",
    "print('Dispersion del score en la validacion cruzada')\n",
    "print(f'Dispersion train score: {train_score_std}')\n",
    "print(f'Dispersion test score: {test_score_std}')\n",
    "\n",
    "# Observamos la media del score\n",
    "train_score_mean = np.mean(final_result['train_score'])\n",
    "test_score_mean = np.mean(final_result['test_score'])\n",
    "print('media del score en la validacion cruzada')\n",
    "print(f'media train score: {train_score_mean}')\n",
    "print(f'media test score: {test_score_mean}')\n",
    "\n",
    "\n",
    "# Entrenar modelo\n",
    "pipe.fit(X_train, y_train)\n",
    "\n",
    "# Mostrar los resultados\n",
    "validation_score =pipe.score(X_test, y_test)\n",
    "y_pred = pipe.predict(X_test)\n",
    "\n",
    "# Imprimiendo el reporte de clasificación\n",
    "report = classification_report(y_test, y_pred)\n",
    "print(report)"
   ]
  },
  {
   "attachments": {},
   "cell_type": "markdown",
   "metadata": {},
   "source": [
    "Se puede concluir lo siguiente:\n",
    "\n",
    "- Para la clase 0 (no atraso), el 89% de los casos clasificados como no atrasados son realmente no atrasados.\n",
    "- Para la clase 0 (no atraso), el 86% de los casos reales de no atraso son identificados correctamente por el modelo.\n",
    "- Para la clase 1 (atraso), el 82% de los casos clasificados como atrasados son realmente atrasados.\n",
    "- Para la clase 1 (atraso), el 86% de los casos reales de atraso son identificados correctamente por el modelo.\n",
    "- El accuracy general del modelo es de 0.86, lo que significa que el modelo predice correctamente el 86% de las veces en promedio.\n",
    "\n",
    "Podriamos hacer tuning de los hiperparametros de RandomForest, pero este resultado es satisfactorio.\n",
    "\n",
    "Procedemos a guardar nuestro modelo y sus metricas"
   ]
  },
  {
   "cell_type": "code",
   "execution_count": 58,
   "metadata": {},
   "outputs": [
    {
     "data": {
      "image/png": "[encoded data removed]",
      "text/plain": [
       "<Figure size 1200x800 with 2 Axes>"
      ]
     },
     "metadata": {},
     "output_type": "display_data"
    }
   ],
   "source": [
    "get_model_performance_test_set('cm_balanced_over', y_test, y_pred)"
   ]
  },
  {
   "cell_type": "code",
   "execution_count": 59,
   "metadata": {},
   "outputs": [],
   "source": [
    "save_simple_metrics_report('report_balanced_over', train_score_mean, test_score_mean, validation_score, report, pipe)\n",
    "update_model('model_balanced_over',pipe)"
   ]
  },
  {
   "attachments": {},
   "cell_type": "markdown",
   "metadata": {},
   "source": [
    "### Validaremos con los datos reales usando las mismas metricas"
   ]
  },
  {
   "cell_type": "code",
   "execution_count": 60,
   "metadata": {},
   "outputs": [],
   "source": [
    "# leemos el dataset de training\n",
    "data_train = pd.read_csv(path.data_processed_dir('data_train.csv'))\n",
    "data_train.drop(columns='AÑO', inplace=True)"
   ]
  },
  {
   "cell_type": "code",
   "execution_count": 61,
   "metadata": {},
   "outputs": [],
   "source": [
    "# Dividir los datos en variables de entrada y salida\n",
    "X = data_train.drop('atraso_15', axis=1)\n",
    "y = data_train['atraso_15']"
   ]
  },
  {
   "cell_type": "code",
   "execution_count": 62,
   "metadata": {},
   "outputs": [],
   "source": [
    "from latam_airlines.utils.latam_utils import get_model"
   ]
  },
  {
   "cell_type": "code",
   "execution_count": 63,
   "metadata": {},
   "outputs": [
    {
     "name": "stdout",
     "output_type": "stream",
     "text": [
      "              precision    recall  f1-score   support\n",
      "\n",
      "           0       0.92      0.68      0.78     55550\n",
      "           1       0.35      0.74      0.47     12596\n",
      "\n",
      "    accuracy                           0.69     68146\n",
      "   macro avg       0.63      0.71      0.63     68146\n",
      "weighted avg       0.81      0.69      0.73     68146\n",
      "\n"
     ]
    }
   ],
   "source": [
    "pipe = get_model('model_balanced_sub.pkl')\n",
    "y_pred = pipe.predict(X)\n",
    "\n",
    "# Imprimiendo el reporte de clasificación\n",
    "report = classification_report(y, y_pred)\n",
    "print(report)"
   ]
  },
  {
   "attachments": {},
   "cell_type": "markdown",
   "metadata": {},
   "source": [
    "A pesar de que el modelo entrenado con sub-muestreo tiene un desempenio aceptable vemos que la precision a la hora de predecir el retraso de un vuelo no es eficiente"
   ]
  },
  {
   "cell_type": "code",
   "execution_count": 64,
   "metadata": {},
   "outputs": [
    {
     "name": "stdout",
     "output_type": "stream",
     "text": [
      "              precision    recall  f1-score   support\n",
      "\n",
      "           0       0.98      0.96      0.97     55550\n",
      "           1       0.82      0.92      0.87     12596\n",
      "\n",
      "    accuracy                           0.95     68146\n",
      "   macro avg       0.90      0.94      0.92     68146\n",
      "weighted avg       0.95      0.95      0.95     68146\n",
      "\n"
     ]
    }
   ],
   "source": [
    "pipe = get_model('model_balanced_over.pkl')\n",
    "y_pred = pipe.predict(X)\n",
    "\n",
    "# Imprimiendo el reporte de clasificación\n",
    "report = classification_report(y, y_pred)\n",
    "print(report)"
   ]
  },
  {
   "attachments": {},
   "cell_type": "markdown",
   "metadata": {},
   "source": [
    "### Concluimos\n",
    "- El modelo entrenado con sobre-muestreo o creacion de datos sinteticos tiene el mejor desempenio\n",
    "- la precision y el recall estan balanceadas y altas\n",
    "- un buen PR significa que el modelo tiene una buena precision y exactitud con datos no visto en su entrenamiento, osea es eficiente a la hora de predecir el retraso de un vuelo."
   ]
  },
  {
   "attachments": {},
   "cell_type": "markdown",
   "metadata": {},
   "source": [
    "Como se comportaria el modelo solo con datos del operador LATAM?"
   ]
  },
  {
   "cell_type": "code",
   "execution_count": 67,
   "metadata": {},
   "outputs": [],
   "source": [
    "data_LATAM = data_train[data_train['OPERA']=='Grupo LATAM']"
   ]
  },
  {
   "cell_type": "code",
   "execution_count": 68,
   "metadata": {},
   "outputs": [],
   "source": [
    "# Dividir los datos en variables de entrada y salida\n",
    "X = data_LATAM.drop('atraso_15', axis=1)\n",
    "y = data_LATAM['atraso_15']"
   ]
  },
  {
   "cell_type": "code",
   "execution_count": 69,
   "metadata": {},
   "outputs": [
    {
     "name": "stdout",
     "output_type": "stream",
     "text": [
      "              precision    recall  f1-score   support\n",
      "\n",
      "           0       0.98      0.95      0.97     33551\n",
      "           1       0.81      0.91      0.86      7289\n",
      "\n",
      "    accuracy                           0.95     40840\n",
      "   macro avg       0.90      0.93      0.91     40840\n",
      "weighted avg       0.95      0.95      0.95     40840\n",
      "\n"
     ]
    }
   ],
   "source": [
    "pipe = get_model('model_balanced_over.pkl')\n",
    "y_pred = pipe.predict(X)\n",
    "\n",
    "# Imprimiendo el reporte de clasificación\n",
    "report = classification_report(y, y_pred)\n",
    "print(report)"
   ]
  },
  {
   "attachments": {},
   "cell_type": "markdown",
   "metadata": {},
   "source": [
    "Se puede concluir lo siguiente  para el operador LATAM:\n",
    "\n",
    "- El modelo clasifica el 98% de los casos como no atrasados y son realmente no atrasados.\n",
    "- El modelo clasifica correctamente el 86% de los casos reales de no atraso.\n",
    "- El modelo clasifica el 82% de los casos clasificados como atrasados y son realmente atrasados.\n",
    "- El modelo clasifica correctamente el 86% de los casos reales de atraso.\n",
    "- El accuracy general del modelo es de 0.86, lo que significa que el modelo predice correctamente el 86% de las veces en promedio.\n",
    "\n",
    "En otras palabras, el modelo hubiese podido alertar el 82% de los atrasos del grupo LATAM en el aeropuerto SCL del 2017."
   ]
  },
  {
   "cell_type": "code",
   "execution_count": null,
   "metadata": {},
   "outputs": [],
   "source": []
  }
 ],
 "metadata": {
  "kernelspec": {
   "display_name": "latam_airlines",
   "language": "python",
   "name": "python3"
  },
  "language_info": {
   "codemirror_mode": {
    "name": "ipython",
    "version": 3
   },
   "file_extension": ".py",
   "mimetype": "text/x-python",
   "name": "python",
   "nbconvert_exporter": "python",
   "pygments_lexer": "ipython3",
   "version": "3.10.9"
  },
  "orig_nbformat": 4,
  "vscode": {
   "interpreter": {
    "hash": "fce30770c70df1231e58a4ba7ac7c20698e43e2829a791ca48f11e1d9cd05121"
   }
  }
 },
 "nbformat": 4,
 "nbformat_minor": 2
}
