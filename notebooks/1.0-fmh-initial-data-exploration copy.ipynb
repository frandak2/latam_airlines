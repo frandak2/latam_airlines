{
 "cells": [
  {
   "cell_type": "code",
   "execution_count": 1,
   "metadata": {},
   "outputs": [],
   "source": [
    "%load_ext autoreload\n",
    "%autoreload 2"
   ]
  },
  {
   "attachments": {},
   "cell_type": "markdown",
   "metadata": {},
   "source": [
    "### Promblema \n",
    "El problema onsiste en predecir la probabilidad de atraso de los vuelos que aterrizan o despegan del aeropuerto de Santiago de Chile (SCL). Para eso les entregamos un dataset usando datos públicos y reales donde cada fila corresponde a un vuelo que aterrizó o despegó de SCL.\n",
    "\n",
    "1. ¿Cómo se distribuyen los datos? ¿Qué te llama la atención o cuál es tu conclusión sobre esto?\n",
    "\n",
    "### acercamiento:\n",
    "para resolver est punto iniciaremos leyendo los datos, viendo la calidad y el tipo de informacion dentro del dataset. haremos la limpieza necesaria y observaremos que mas podemos hacer con la informacion disponible"
   ]
  },
  {
   "cell_type": "code",
   "execution_count": 2,
   "metadata": {},
   "outputs": [],
   "source": [
    "# importar librerias\n",
    "##generacion de path\n",
    "import latam_airlines.utils.paths as path\n",
    "## funciones propias\n",
    "from latam_airlines.utils.latam_utils import check_quality, categorized_days_periods\n",
    "## manipulacion de datos\n",
    "import pandas as pd\n",
    "import numpy as np\n",
    "## Visualización de los datos\n",
    "import matplotlib.pyplot as plt\n",
    "import seaborn as sns"
   ]
  },
  {
   "attachments": {},
   "cell_type": "markdown",
   "metadata": {},
   "source": [
    "### Lectura y calidad de datos"
   ]
  },
  {
   "cell_type": "code",
   "execution_count": 3,
   "metadata": {},
   "outputs": [
    {
     "name": "stdout",
     "output_type": "stream",
     "text": [
      "<class 'pandas.core.frame.DataFrame'>\n",
      "RangeIndex: 68206 entries, 0 to 68205\n",
      "Data columns (total 18 columns):\n",
      " #   Column     Non-Null Count  Dtype  \n",
      "---  ------     --------------  -----  \n",
      " 0   Fecha-I    68206 non-null  object \n",
      " 1   Vlo-I      68167 non-null  object \n",
      " 2   Ori-I      68167 non-null  object \n",
      " 3   Des-I      68167 non-null  object \n",
      " 4   Emp-I      68167 non-null  object \n",
      " 5   Fecha-O    68167 non-null  object \n",
      " 6   Vlo-O      68166 non-null  object \n",
      " 7   Ori-O      68167 non-null  object \n",
      " 8   Des-O      68167 non-null  object \n",
      " 9   Emp-O      68167 non-null  object \n",
      " 10  DIA        68167 non-null  float64\n",
      " 11  MES        68167 non-null  float64\n",
      " 12  AÑO        68167 non-null  float64\n",
      " 13  DIANOM     68167 non-null  object \n",
      " 14  TIPOVUELO  68167 non-null  object \n",
      " 15  OPERA      68167 non-null  object \n",
      " 16  SIGLAORI   68167 non-null  object \n",
      " 17  SIGLADES   68167 non-null  object \n",
      "dtypes: float64(3), object(15)\n",
      "memory usage: 9.4+ MB\n"
     ]
    }
   ],
   "source": [
    "# Lectura del archivo dataset_SCL.csv\n",
    "dataset_SCL = pd.read_csv(path.data_raw_dir('dataset_SCL.csv'), low_memory=False)\n",
    "dataset_SCL.info()"
   ]
  },
  {
   "attachments": {},
   "cell_type": "markdown",
   "metadata": {},
   "source": [
    "observamos que:\n",
    "- En total hay 68206 datos(ojo la fila 0 cuenta como dato)\n",
    "- Hay columnas que no tiene todas las filas, indicando la existencia de valores faltantes\n",
    "- Es necesario transformar las columnas de fecha a formato fecha\n",
    "- Vemos que no consume mucha uso de memoria, por esta razon crearemos una copia para prevenir futuros problemas al cometer algun error.\n",
    "- No existe nuestr variable target u objetivo, lo que se traduce en featuring data para crear el target"
   ]
  },
  {
   "cell_type": "code",
   "execution_count": 4,
   "metadata": {},
   "outputs": [
    {
     "data": {
      "text/html": [
       "<div>\n",
       "<style scoped>\n",
       "    .dataframe tbody tr th:only-of-type {\n",
       "        vertical-align: middle;\n",
       "    }\n",
       "\n",
       "    .dataframe tbody tr th {\n",
       "        vertical-align: top;\n",
       "    }\n",
       "\n",
       "    .dataframe thead th {\n",
       "        text-align: right;\n",
       "    }\n",
       "</style>\n",
       "<table border=\"1\" class=\"dataframe\">\n",
       "  <thead>\n",
       "    <tr style=\"text-align: right;\">\n",
       "      <th></th>\n",
       "      <th>Fecha-I</th>\n",
       "      <th>Vlo-I</th>\n",
       "      <th>Ori-I</th>\n",
       "      <th>Des-I</th>\n",
       "      <th>Emp-I</th>\n",
       "      <th>Fecha-O</th>\n",
       "      <th>Vlo-O</th>\n",
       "      <th>Ori-O</th>\n",
       "      <th>Des-O</th>\n",
       "      <th>Emp-O</th>\n",
       "      <th>DIA</th>\n",
       "      <th>MES</th>\n",
       "      <th>AÑO</th>\n",
       "      <th>DIANOM</th>\n",
       "      <th>TIPOVUELO</th>\n",
       "      <th>OPERA</th>\n",
       "      <th>SIGLAORI</th>\n",
       "      <th>SIGLADES</th>\n",
       "    </tr>\n",
       "  </thead>\n",
       "  <tbody>\n",
       "    <tr>\n",
       "      <th>51482</th>\n",
       "      <td>2017-10-28 15:45:00</td>\n",
       "      <td>134</td>\n",
       "      <td>SCEL</td>\n",
       "      <td>SCCF</td>\n",
       "      <td>SKU</td>\n",
       "      <td>2017-10-28 15:40:00</td>\n",
       "      <td>134</td>\n",
       "      <td>SCEL</td>\n",
       "      <td>SCCF</td>\n",
       "      <td>SKU</td>\n",
       "      <td>28.0</td>\n",
       "      <td>10.0</td>\n",
       "      <td>2017.0</td>\n",
       "      <td>Sabado</td>\n",
       "      <td>N</td>\n",
       "      <td>Sky Airline</td>\n",
       "      <td>Santiago</td>\n",
       "      <td>Calama</td>\n",
       "    </tr>\n",
       "    <tr>\n",
       "      <th>50668</th>\n",
       "      <td>2017-10-05 19:30:00</td>\n",
       "      <td>8069</td>\n",
       "      <td>SCEL</td>\n",
       "      <td>SBGR</td>\n",
       "      <td>TAM</td>\n",
       "      <td>2017-10-05 19:42:00</td>\n",
       "      <td>8069</td>\n",
       "      <td>SCEL</td>\n",
       "      <td>SBGR</td>\n",
       "      <td>TAM</td>\n",
       "      <td>5.0</td>\n",
       "      <td>10.0</td>\n",
       "      <td>2017.0</td>\n",
       "      <td>Jueves</td>\n",
       "      <td>I</td>\n",
       "      <td>Grupo LATAM</td>\n",
       "      <td>Santiago</td>\n",
       "      <td>Sao Paulo</td>\n",
       "    </tr>\n",
       "    <tr>\n",
       "      <th>29462</th>\n",
       "      <td>2017-06-23 05:00:00</td>\n",
       "      <td>802</td>\n",
       "      <td>SCEL</td>\n",
       "      <td>SPJC</td>\n",
       "      <td>SKU</td>\n",
       "      <td>2017-06-23 05:00:00</td>\n",
       "      <td>802</td>\n",
       "      <td>SCEL</td>\n",
       "      <td>SPJC</td>\n",
       "      <td>SKU</td>\n",
       "      <td>23.0</td>\n",
       "      <td>6.0</td>\n",
       "      <td>2017.0</td>\n",
       "      <td>Viernes</td>\n",
       "      <td>I</td>\n",
       "      <td>Sky Airline</td>\n",
       "      <td>Santiago</td>\n",
       "      <td>Lima</td>\n",
       "    </tr>\n",
       "    <tr>\n",
       "      <th>48921</th>\n",
       "      <td>2017-09-06 16:20:00</td>\n",
       "      <td>632</td>\n",
       "      <td>SCEL</td>\n",
       "      <td>SPJC</td>\n",
       "      <td>LAN</td>\n",
       "      <td>2017-09-06 16:24:00</td>\n",
       "      <td>632</td>\n",
       "      <td>SCEL</td>\n",
       "      <td>SPJC</td>\n",
       "      <td>LAN</td>\n",
       "      <td>6.0</td>\n",
       "      <td>9.0</td>\n",
       "      <td>2017.0</td>\n",
       "      <td>Miercoles</td>\n",
       "      <td>I</td>\n",
       "      <td>Grupo LATAM</td>\n",
       "      <td>Santiago</td>\n",
       "      <td>Lima</td>\n",
       "    </tr>\n",
       "    <tr>\n",
       "      <th>19802</th>\n",
       "      <td>2017-04-18 11:55:00</td>\n",
       "      <td>184</td>\n",
       "      <td>SCEL</td>\n",
       "      <td>SCAR</td>\n",
       "      <td>LAN</td>\n",
       "      <td>2017-04-18 11:54:00</td>\n",
       "      <td>184</td>\n",
       "      <td>SCEL</td>\n",
       "      <td>SCAR</td>\n",
       "      <td>LAN</td>\n",
       "      <td>18.0</td>\n",
       "      <td>4.0</td>\n",
       "      <td>2017.0</td>\n",
       "      <td>Martes</td>\n",
       "      <td>N</td>\n",
       "      <td>Grupo LATAM</td>\n",
       "      <td>Santiago</td>\n",
       "      <td>Arica</td>\n",
       "    </tr>\n",
       "    <tr>\n",
       "      <th>12568</th>\n",
       "      <td>2017-03-15 20:35:00</td>\n",
       "      <td>8069</td>\n",
       "      <td>SCEL</td>\n",
       "      <td>SBGR</td>\n",
       "      <td>TAM</td>\n",
       "      <td>2017-03-15 20:48:00</td>\n",
       "      <td>8069</td>\n",
       "      <td>SCEL</td>\n",
       "      <td>SBGR</td>\n",
       "      <td>TAM</td>\n",
       "      <td>15.0</td>\n",
       "      <td>3.0</td>\n",
       "      <td>2017.0</td>\n",
       "      <td>Miercoles</td>\n",
       "      <td>I</td>\n",
       "      <td>Grupo LATAM</td>\n",
       "      <td>Santiago</td>\n",
       "      <td>Sao Paulo</td>\n",
       "    </tr>\n",
       "    <tr>\n",
       "      <th>269</th>\n",
       "      <td>2017-01-16 16:45:00</td>\n",
       "      <td>1285</td>\n",
       "      <td>SCEL</td>\n",
       "      <td>SABE</td>\n",
       "      <td>ARG</td>\n",
       "      <td>2017-01-16 16:37:00</td>\n",
       "      <td>1285</td>\n",
       "      <td>SCEL</td>\n",
       "      <td>SABE</td>\n",
       "      <td>ARG</td>\n",
       "      <td>16.0</td>\n",
       "      <td>1.0</td>\n",
       "      <td>2017.0</td>\n",
       "      <td>Lunes</td>\n",
       "      <td>I</td>\n",
       "      <td>Aerolineas Argentinas</td>\n",
       "      <td>Santiago</td>\n",
       "      <td>Buenos Aires</td>\n",
       "    </tr>\n",
       "    <tr>\n",
       "      <th>27564</th>\n",
       "      <td>2017-06-23 22:10:00</td>\n",
       "      <td>11</td>\n",
       "      <td>SCEL</td>\n",
       "      <td>MMMX</td>\n",
       "      <td>AMX</td>\n",
       "      <td>2017-06-23 22:17:00</td>\n",
       "      <td>11</td>\n",
       "      <td>SCEL</td>\n",
       "      <td>MMMX</td>\n",
       "      <td>AMX</td>\n",
       "      <td>23.0</td>\n",
       "      <td>6.0</td>\n",
       "      <td>2017.0</td>\n",
       "      <td>Viernes</td>\n",
       "      <td>I</td>\n",
       "      <td>Aeromexico</td>\n",
       "      <td>Santiago</td>\n",
       "      <td>Ciudad de Mexico</td>\n",
       "    </tr>\n",
       "    <tr>\n",
       "      <th>43341</th>\n",
       "      <td>2017-08-06 22:50:00</td>\n",
       "      <td>622</td>\n",
       "      <td>SCEL</td>\n",
       "      <td>MMMX</td>\n",
       "      <td>LAN</td>\n",
       "      <td>2017-08-06 22:55:00</td>\n",
       "      <td>622</td>\n",
       "      <td>SCEL</td>\n",
       "      <td>MMMX</td>\n",
       "      <td>LAN</td>\n",
       "      <td>6.0</td>\n",
       "      <td>8.0</td>\n",
       "      <td>2017.0</td>\n",
       "      <td>Domingo</td>\n",
       "      <td>I</td>\n",
       "      <td>Grupo LATAM</td>\n",
       "      <td>Santiago</td>\n",
       "      <td>Ciudad de Mexico</td>\n",
       "    </tr>\n",
       "    <tr>\n",
       "      <th>37792</th>\n",
       "      <td>2017-07-22 11:45:00</td>\n",
       "      <td>752</td>\n",
       "      <td>SCEL</td>\n",
       "      <td>SBGR</td>\n",
       "      <td>LAN</td>\n",
       "      <td>2017-07-22 11:51:00</td>\n",
       "      <td>752</td>\n",
       "      <td>SCEL</td>\n",
       "      <td>SBGR</td>\n",
       "      <td>LAN</td>\n",
       "      <td>22.0</td>\n",
       "      <td>7.0</td>\n",
       "      <td>2017.0</td>\n",
       "      <td>Sabado</td>\n",
       "      <td>I</td>\n",
       "      <td>Grupo LATAM</td>\n",
       "      <td>Santiago</td>\n",
       "      <td>Sao Paulo</td>\n",
       "    </tr>\n",
       "  </tbody>\n",
       "</table>\n",
       "</div>"
      ],
      "text/plain": [
       "                   Fecha-I Vlo-I Ori-I Des-I Emp-I              Fecha-O Vlo-O  \\\n",
       "51482  2017-10-28 15:45:00   134  SCEL  SCCF   SKU  2017-10-28 15:40:00   134   \n",
       "50668  2017-10-05 19:30:00  8069  SCEL  SBGR   TAM  2017-10-05 19:42:00  8069   \n",
       "29462  2017-06-23 05:00:00   802  SCEL  SPJC   SKU  2017-06-23 05:00:00   802   \n",
       "48921  2017-09-06 16:20:00   632  SCEL  SPJC   LAN  2017-09-06 16:24:00   632   \n",
       "19802  2017-04-18 11:55:00   184  SCEL  SCAR   LAN  2017-04-18 11:54:00   184   \n",
       "12568  2017-03-15 20:35:00  8069  SCEL  SBGR   TAM  2017-03-15 20:48:00  8069   \n",
       "269    2017-01-16 16:45:00  1285  SCEL  SABE   ARG  2017-01-16 16:37:00  1285   \n",
       "27564  2017-06-23 22:10:00    11  SCEL  MMMX   AMX  2017-06-23 22:17:00    11   \n",
       "43341  2017-08-06 22:50:00   622  SCEL  MMMX   LAN  2017-08-06 22:55:00   622   \n",
       "37792  2017-07-22 11:45:00   752  SCEL  SBGR   LAN  2017-07-22 11:51:00   752   \n",
       "\n",
       "      Ori-O Des-O Emp-O   DIA   MES     AÑO     DIANOM TIPOVUELO  \\\n",
       "51482  SCEL  SCCF   SKU  28.0  10.0  2017.0     Sabado         N   \n",
       "50668  SCEL  SBGR   TAM   5.0  10.0  2017.0     Jueves         I   \n",
       "29462  SCEL  SPJC   SKU  23.0   6.0  2017.0    Viernes         I   \n",
       "48921  SCEL  SPJC   LAN   6.0   9.0  2017.0  Miercoles         I   \n",
       "19802  SCEL  SCAR   LAN  18.0   4.0  2017.0     Martes         N   \n",
       "12568  SCEL  SBGR   TAM  15.0   3.0  2017.0  Miercoles         I   \n",
       "269    SCEL  SABE   ARG  16.0   1.0  2017.0      Lunes         I   \n",
       "27564  SCEL  MMMX   AMX  23.0   6.0  2017.0    Viernes         I   \n",
       "43341  SCEL  MMMX   LAN   6.0   8.0  2017.0    Domingo         I   \n",
       "37792  SCEL  SBGR   LAN  22.0   7.0  2017.0     Sabado         I   \n",
       "\n",
       "                       OPERA  SIGLAORI          SIGLADES  \n",
       "51482            Sky Airline  Santiago            Calama  \n",
       "50668            Grupo LATAM  Santiago         Sao Paulo  \n",
       "29462            Sky Airline  Santiago              Lima  \n",
       "48921            Grupo LATAM  Santiago              Lima  \n",
       "19802            Grupo LATAM  Santiago             Arica  \n",
       "12568            Grupo LATAM  Santiago         Sao Paulo  \n",
       "269    Aerolineas Argentinas  Santiago      Buenos Aires  \n",
       "27564             Aeromexico  Santiago  Ciudad de Mexico  \n",
       "43341            Grupo LATAM  Santiago  Ciudad de Mexico  \n",
       "37792            Grupo LATAM  Santiago         Sao Paulo  "
      ]
     },
     "execution_count": 4,
     "metadata": {},
     "output_type": "execute_result"
    }
   ],
   "source": [
    "dataset_SCL_copy = dataset_SCL.copy()\n",
    "dataset_SCL.sample(10)"
   ]
  },
  {
   "attachments": {},
   "cell_type": "markdown",
   "metadata": {},
   "source": [
    "### Verificacion de calidad de datos"
   ]
  },
  {
   "cell_type": "code",
   "execution_count": 5,
   "metadata": {},
   "outputs": [
    {
     "name": "stdout",
     "output_type": "stream",
     "text": [
      "Valores NA por columna:\n",
      "Fecha-I       0\n",
      "Vlo-I        39\n",
      "Ori-I        39\n",
      "Des-I        39\n",
      "Emp-I        39\n",
      "Fecha-O      39\n",
      "Vlo-O        40\n",
      "Ori-O        39\n",
      "Des-O        39\n",
      "Emp-O        39\n",
      "DIA          39\n",
      "MES          39\n",
      "AÑO          39\n",
      "DIANOM       39\n",
      "TIPOVUELO    39\n",
      "OPERA        39\n",
      "SIGLAORI     39\n",
      "SIGLADES     39\n",
      "dtype: int64\n",
      "\n",
      "Cantidad de datos duplicados:\n",
      "0\n",
      "\n",
      "Valores únicos por columna:\n",
      "Fecha-I      53271\n",
      "Vlo-I          581\n",
      "Ori-I            1\n",
      "Des-I           61\n",
      "Emp-I           30\n",
      "Fecha-O      62742\n",
      "Vlo-O          857\n",
      "Ori-O            1\n",
      "Des-O           60\n",
      "Emp-O           32\n",
      "DIA             31\n",
      "MES             12\n",
      "AÑO              2\n",
      "DIANOM           7\n",
      "TIPOVUELO        2\n",
      "OPERA           23\n",
      "SIGLAORI         1\n",
      "SIGLADES        59\n",
      "dtype: int64\n"
     ]
    }
   ],
   "source": [
    "check_quality(dataset_SCL)"
   ]
  },
  {
   "attachments": {},
   "cell_type": "markdown",
   "metadata": {},
   "source": [
    "Verificando la calidad de los datos podemos observar:\n",
    "- Existen 39 filas con dainformacion NAN que se pueden iliminar.\n",
    "- las columnas Ori-I,Ori-O,SIGLAORI solo tienen un valor unico asique no aportan informacion, las eliminaremos.\n",
    "- No hay datos duplicados.\n",
    "- Exiten un valor unico mas en Des-I que en Des-O, y un valor unico menos en SIGLADES puede ser un error de escritura\n",
    "- Debemos corregir los errores de escritura para futuras comparaciones.\n",
    "- Es necesario hacer el cambio de variables string a catgoricas aun.\n",
    "- Cambiar la columnas fecha a objeto fecha."
   ]
  },
  {
   "cell_type": "code",
   "execution_count": 6,
   "metadata": {},
   "outputs": [],
   "source": [
    "# Eliminamos valores NA\n",
    "dataset_SCL.dropna(inplace=True)\n",
    "# Eliminamos columnas que no aportan informacion\n",
    "dataset_SCL.drop(columns=['Ori-I','Ori-O','SIGLAORI'], inplace=True)"
   ]
  },
  {
   "cell_type": "code",
   "execution_count": 7,
   "metadata": {},
   "outputs": [
    {
     "name": "stdout",
     "output_type": "stream",
     "text": [
      "Elements only in DesO: {'KIAD'}\n",
      "Elements only in DesI: {'SARI', 'SEQU'}\n",
      "Len elements both: 59\n"
     ]
    }
   ],
   "source": [
    "# Valores unicos y ordenados por columna\n",
    "dict_DesO = set(dataset_SCL['Des-O'])\n",
    "dict_DesI = set(dataset_SCL['Des-I'])\n",
    "\n",
    "# Extraemos las diferencias entre las 2 columnas\n",
    "only_in_DesO = dict_DesO - dict_DesI\n",
    "only_in_DesI = dict_DesI - dict_DesO\n",
    "\n",
    "# Extraemos solo lo qu ecomparten entre las 2 columnas\n",
    "both = dict_DesO & dict_DesI\n",
    "\n",
    "# mostramos que hay de diferente\n",
    "print(f\"Elements only in DesO: {only_in_DesO}\")\n",
    "print(f\"Elements only in DesI: {only_in_DesI}\")\n",
    "print(f\"Len elements both: {len(both)}\")"
   ]
  },
  {
   "cell_type": "code",
   "execution_count": 8,
   "metadata": {},
   "outputs": [
    {
     "data": {
      "text/html": [
       "<div>\n",
       "<style scoped>\n",
       "    .dataframe tbody tr th:only-of-type {\n",
       "        vertical-align: middle;\n",
       "    }\n",
       "\n",
       "    .dataframe tbody tr th {\n",
       "        vertical-align: top;\n",
       "    }\n",
       "\n",
       "    .dataframe thead th {\n",
       "        text-align: right;\n",
       "    }\n",
       "</style>\n",
       "<table border=\"1\" class=\"dataframe\">\n",
       "  <thead>\n",
       "    <tr style=\"text-align: right;\">\n",
       "      <th></th>\n",
       "      <th>Fecha-I</th>\n",
       "      <th>Vlo-I</th>\n",
       "      <th>Des-I</th>\n",
       "      <th>Emp-I</th>\n",
       "      <th>Fecha-O</th>\n",
       "      <th>Vlo-O</th>\n",
       "      <th>Des-O</th>\n",
       "      <th>Emp-O</th>\n",
       "      <th>DIA</th>\n",
       "      <th>MES</th>\n",
       "      <th>AÑO</th>\n",
       "      <th>DIANOM</th>\n",
       "      <th>TIPOVUELO</th>\n",
       "      <th>OPERA</th>\n",
       "      <th>SIGLADES</th>\n",
       "    </tr>\n",
       "  </thead>\n",
       "  <tbody>\n",
       "    <tr>\n",
       "      <th>39265</th>\n",
       "      <td>2017-08-29 21:55:00</td>\n",
       "      <td>846</td>\n",
       "      <td>KIAH</td>\n",
       "      <td>UAL</td>\n",
       "      <td>2017-08-29 21:55:00</td>\n",
       "      <td>2763</td>\n",
       "      <td>KIAD</td>\n",
       "      <td>UAL</td>\n",
       "      <td>29.0</td>\n",
       "      <td>8.0</td>\n",
       "      <td>2017.0</td>\n",
       "      <td>Martes</td>\n",
       "      <td>I</td>\n",
       "      <td>United Airlines</td>\n",
       "      <td>Washington</td>\n",
       "    </tr>\n",
       "  </tbody>\n",
       "</table>\n",
       "</div>"
      ],
      "text/plain": [
       "                   Fecha-I Vlo-I Des-I Emp-I              Fecha-O Vlo-O Des-O  \\\n",
       "39265  2017-08-29 21:55:00   846  KIAH   UAL  2017-08-29 21:55:00  2763  KIAD   \n",
       "\n",
       "      Emp-O   DIA  MES     AÑO  DIANOM TIPOVUELO            OPERA    SIGLADES  \n",
       "39265   UAL  29.0  8.0  2017.0  Martes         I  United Airlines  Washington  "
      ]
     },
     "execution_count": 8,
     "metadata": {},
     "output_type": "execute_result"
    }
   ],
   "source": [
    "# Vemos cuantas columnas son para saber si fue un error de typing\n",
    "dataset_SCL[dataset_SCL['Des-O']==list(only_in_DesO)[0]]\n"
   ]
  },
  {
   "cell_type": "code",
   "execution_count": 9,
   "metadata": {},
   "outputs": [
    {
     "data": {
      "text/html": [
       "<div>\n",
       "<style scoped>\n",
       "    .dataframe tbody tr th:only-of-type {\n",
       "        vertical-align: middle;\n",
       "    }\n",
       "\n",
       "    .dataframe tbody tr th {\n",
       "        vertical-align: top;\n",
       "    }\n",
       "\n",
       "    .dataframe thead th {\n",
       "        text-align: right;\n",
       "    }\n",
       "</style>\n",
       "<table border=\"1\" class=\"dataframe\">\n",
       "  <thead>\n",
       "    <tr style=\"text-align: right;\">\n",
       "      <th></th>\n",
       "      <th>Fecha-I</th>\n",
       "      <th>Vlo-I</th>\n",
       "      <th>Des-I</th>\n",
       "      <th>Emp-I</th>\n",
       "      <th>Fecha-O</th>\n",
       "      <th>Vlo-O</th>\n",
       "      <th>Des-O</th>\n",
       "      <th>Emp-O</th>\n",
       "      <th>DIA</th>\n",
       "      <th>MES</th>\n",
       "      <th>AÑO</th>\n",
       "      <th>DIANOM</th>\n",
       "      <th>TIPOVUELO</th>\n",
       "      <th>OPERA</th>\n",
       "      <th>SIGLADES</th>\n",
       "    </tr>\n",
       "  </thead>\n",
       "  <tbody>\n",
       "    <tr>\n",
       "      <th>1219</th>\n",
       "      <td>2017-01-03 07:15:00</td>\n",
       "      <td>9782</td>\n",
       "      <td>SBFI</td>\n",
       "      <td>TAM</td>\n",
       "      <td>2017-01-03 07:20:00</td>\n",
       "      <td>9782</td>\n",
       "      <td>SBFI</td>\n",
       "      <td>TAM</td>\n",
       "      <td>3.0</td>\n",
       "      <td>1.0</td>\n",
       "      <td>2017.0</td>\n",
       "      <td>Martes</td>\n",
       "      <td>I</td>\n",
       "      <td>Grupo LATAM</td>\n",
       "      <td>Cataratas Iguacu</td>\n",
       "    </tr>\n",
       "    <tr>\n",
       "      <th>67697</th>\n",
       "      <td>2017-12-16 02:45:00</td>\n",
       "      <td>1261</td>\n",
       "      <td>SARI</td>\n",
       "      <td>LAN</td>\n",
       "      <td>2017-12-16 02:43:00</td>\n",
       "      <td>1261.0</td>\n",
       "      <td>SBFI</td>\n",
       "      <td>LAN</td>\n",
       "      <td>16.0</td>\n",
       "      <td>12.0</td>\n",
       "      <td>2017.0</td>\n",
       "      <td>Sabado</td>\n",
       "      <td>I</td>\n",
       "      <td>Grupo LATAM</td>\n",
       "      <td>Cataratas Iguacu</td>\n",
       "    </tr>\n",
       "  </tbody>\n",
       "</table>\n",
       "</div>"
      ],
      "text/plain": [
       "                   Fecha-I Vlo-I Des-I Emp-I              Fecha-O   Vlo-O  \\\n",
       "1219   2017-01-03 07:15:00  9782  SBFI   TAM  2017-01-03 07:20:00    9782   \n",
       "67697  2017-12-16 02:45:00  1261  SARI   LAN  2017-12-16 02:43:00  1261.0   \n",
       "\n",
       "      Des-O Emp-O   DIA   MES     AÑO  DIANOM TIPOVUELO        OPERA  \\\n",
       "1219   SBFI   TAM   3.0   1.0  2017.0  Martes         I  Grupo LATAM   \n",
       "67697  SBFI   LAN  16.0  12.0  2017.0  Sabado         I  Grupo LATAM   \n",
       "\n",
       "               SIGLADES  \n",
       "1219   Cataratas Iguacu  \n",
       "67697  Cataratas Iguacu  "
      ]
     },
     "execution_count": 9,
     "metadata": {},
     "output_type": "execute_result"
    }
   ],
   "source": [
    "# Vemos la qie tan diferentes es entre los demas registros\n",
    "dataset_SCL[dataset_SCL['SIGLADES']=='Cataratas Iguacu']"
   ]
  },
  {
   "cell_type": "code",
   "execution_count": 10,
   "metadata": {},
   "outputs": [],
   "source": [
    "# Cambiamos por el valor correspondiente\n",
    "dataset_SCL.loc[dataset_SCL['Des-I']==list(only_in_DesI)[1],'Des-I'] = 'SBFI'"
   ]
  },
  {
   "attachments": {},
   "cell_type": "markdown",
   "metadata": {},
   "source": [
    "Como se realizaron modificaciones manuales se crea un archivo con las correciones hechas."
   ]
  },
  {
   "cell_type": "code",
   "execution_count": 11,
   "metadata": {},
   "outputs": [
    {
     "name": "stdout",
     "output_type": "stream",
     "text": [
      "<class 'pandas.core.frame.DataFrame'>\n",
      "RangeIndex: 68166 entries, 0 to 68165\n",
      "Data columns (total 16 columns):\n",
      " #   Column     Non-Null Count  Dtype  \n",
      "---  ------     --------------  -----  \n",
      " 0   Fecha-I    68166 non-null  object \n",
      " 1   Vlo-I      68166 non-null  object \n",
      " 2   Des-I      68166 non-null  object \n",
      " 3   Emp-I      68166 non-null  object \n",
      " 4   Fecha-O    68166 non-null  object \n",
      " 5   Vlo-O      68166 non-null  object \n",
      " 6   Des-O      68166 non-null  object \n",
      " 7   Emp-O      68166 non-null  object \n",
      " 8   DIA        68166 non-null  float64\n",
      " 9   MES        68166 non-null  float64\n",
      " 10  AÑO        68166 non-null  float64\n",
      " 11  DIANOM     68166 non-null  object \n",
      " 12  TIPOVUELO  68166 non-null  object \n",
      " 13  OPERA      68166 non-null  object \n",
      " 14  SIGLAORI   68166 non-null  object \n",
      " 15  SIGLADES   68166 non-null  object \n",
      "dtypes: float64(3), object(13)\n",
      "memory usage: 8.3+ MB\n"
     ]
    }
   ],
   "source": [
    "# Crea dataset .csv\n",
    "# dataset_SCL.to_csv(path.data_interim_dir('modify_data.csv'), index=False)\n",
    "\n",
    "# Lee dataset corregido\n",
    "dataset_SCL = pd.read_csv(path.data_interim_dir('modify_data.csv'), low_memory=False)\n",
    "dataset_SCL.info()"
   ]
  },
  {
   "cell_type": "code",
   "execution_count": 12,
   "metadata": {},
   "outputs": [],
   "source": [
    "# Validación para ver si lo programado es igual a lo operado\n",
    "dataset_SCL['Vlo_change'] = dataset_SCL.apply(lambda x: '0' if x['Vlo-I']==x['Vlo-O'] else '1', axis=1)\n",
    "dataset_SCL['Des_change'] = dataset_SCL.apply(lambda x: '0' if x['Des-I']==x['Des-O'] else '1', axis=1)\n",
    "dataset_SCL['Emp_change'] = dataset_SCL.apply(lambda x:'0' if x['Emp-I']==x['Emp-O'] else '1', axis=1)"
   ]
  },
  {
   "cell_type": "code",
   "execution_count": 13,
   "metadata": {},
   "outputs": [
    {
     "name": "stdout",
     "output_type": "stream",
     "text": [
      "Vlo_change\n",
      "0    63660\n",
      "1     4506\n",
      "Name: Vlo_change, dtype: int64\n",
      "====================\n",
      "Vlo_change Porcentaje\n",
      "0    93.389666\n",
      "1     6.610334\n",
      "Name: Vlo_change, dtype: float64\n",
      "====================\n",
      "Des_change\n",
      "0    68141\n",
      "1       25\n",
      "Name: Des_change, dtype: int64\n",
      "====================\n",
      "Des_change Porcentaje\n",
      "0    99.963325\n",
      "1     0.036675\n",
      "Name: Des_change, dtype: float64\n",
      "====================\n",
      "Emp_change\n",
      "0    49533\n",
      "1    18633\n",
      "Name: Emp_change, dtype: int64\n",
      "====================\n",
      "Emp_change Porcentaje\n",
      "0    72.665258\n",
      "1    27.334742\n",
      "Name: Emp_change, dtype: float64\n",
      "====================\n"
     ]
    }
   ],
   "source": [
    "cols = ['Vlo_change','Des_change','Emp_change']\n",
    "\n",
    "for col in cols:\n",
    "    print(col)\n",
    "    print(dataset_SCL[col].value_counts())\n",
    "    print('='*20)\n",
    "    print(col+' Porcentaje')\n",
    "    print(dataset_SCL[col].value_counts(normalize=True)*100)\n",
    "    print('='*20)"
   ]
  },
  {
   "attachments": {},
   "cell_type": "markdown",
   "metadata": {},
   "source": [
    "Observamso que:\n",
    "- El numero de vuelo cambio en la operación en un 6.6% con respecto a todos los vuelos programados.\n",
    "- La ciudad destino cambio en la operación en un 0.04% con respecto a todos los vuelos programados.\n",
    "- El codigo de la aerolínea cambio en su ejecución en un 27.37% con respecto a todos los vuelos programados.\n",
    "- Las nuevas variables Vlo_change y Emp_change tienen la posibilidad de ser empleadas en el proceso de entrenamiento.\n",
    "- La variables Des_change no serán usadas debido a la baja varianza."
   ]
  },
  {
   "cell_type": "code",
   "execution_count": 14,
   "metadata": {},
   "outputs": [],
   "source": [
    "# Eliminamos columna con baja varianza\n",
    "dataset_SCL.drop(columns= 'Des_change', inplace=True)"
   ]
  },
  {
   "cell_type": "code",
   "execution_count": 15,
   "metadata": {},
   "outputs": [
    {
     "data": {
      "text/html": [
       "<div>\n",
       "<style scoped>\n",
       "    .dataframe tbody tr th:only-of-type {\n",
       "        vertical-align: middle;\n",
       "    }\n",
       "\n",
       "    .dataframe tbody tr th {\n",
       "        vertical-align: top;\n",
       "    }\n",
       "\n",
       "    .dataframe thead th {\n",
       "        text-align: right;\n",
       "    }\n",
       "</style>\n",
       "<table border=\"1\" class=\"dataframe\">\n",
       "  <thead>\n",
       "    <tr style=\"text-align: right;\">\n",
       "      <th></th>\n",
       "      <th>Fecha-I</th>\n",
       "      <th>Vlo-I</th>\n",
       "      <th>Des-I</th>\n",
       "      <th>Emp-I</th>\n",
       "      <th>Fecha-O</th>\n",
       "      <th>Vlo-O</th>\n",
       "      <th>Des-O</th>\n",
       "      <th>Emp-O</th>\n",
       "      <th>DIA</th>\n",
       "      <th>MES</th>\n",
       "      <th>AÑO</th>\n",
       "      <th>DIANOM</th>\n",
       "      <th>TIPOVUELO</th>\n",
       "      <th>OPERA</th>\n",
       "      <th>SIGLAORI</th>\n",
       "      <th>SIGLADES</th>\n",
       "      <th>Vlo_change</th>\n",
       "      <th>Emp_change</th>\n",
       "    </tr>\n",
       "  </thead>\n",
       "  <tbody>\n",
       "    <tr>\n",
       "      <th>10469</th>\n",
       "      <td>2017-02-09 15:35:00</td>\n",
       "      <td>445</td>\n",
       "      <td>SAEZ</td>\n",
       "      <td>LAN</td>\n",
       "      <td>2017-02-09 15:42:00</td>\n",
       "      <td>445</td>\n",
       "      <td>SAEZ</td>\n",
       "      <td>LAN</td>\n",
       "      <td>9.0</td>\n",
       "      <td>2.0</td>\n",
       "      <td>2017.0</td>\n",
       "      <td>Jueves</td>\n",
       "      <td>I</td>\n",
       "      <td>Grupo LATAM</td>\n",
       "      <td>Santiago</td>\n",
       "      <td>Buenos Aires</td>\n",
       "      <td>0</td>\n",
       "      <td>0</td>\n",
       "    </tr>\n",
       "    <tr>\n",
       "      <th>2644</th>\n",
       "      <td>2017-01-17 13:50:00</td>\n",
       "      <td>71</td>\n",
       "      <td>SCBA</td>\n",
       "      <td>LAN</td>\n",
       "      <td>2017-01-17 13:49:00</td>\n",
       "      <td>71</td>\n",
       "      <td>SCBA</td>\n",
       "      <td>LAN</td>\n",
       "      <td>17.0</td>\n",
       "      <td>1.0</td>\n",
       "      <td>2017.0</td>\n",
       "      <td>Martes</td>\n",
       "      <td>N</td>\n",
       "      <td>Grupo LATAM</td>\n",
       "      <td>Santiago</td>\n",
       "      <td>Balmaceda</td>\n",
       "      <td>0</td>\n",
       "      <td>0</td>\n",
       "    </tr>\n",
       "    <tr>\n",
       "      <th>16367</th>\n",
       "      <td>2017-03-30 16:15:00</td>\n",
       "      <td>632</td>\n",
       "      <td>SPJC</td>\n",
       "      <td>LAN</td>\n",
       "      <td>2017-03-30 16:15:00</td>\n",
       "      <td>632</td>\n",
       "      <td>SPJC</td>\n",
       "      <td>LAN</td>\n",
       "      <td>30.0</td>\n",
       "      <td>3.0</td>\n",
       "      <td>2017.0</td>\n",
       "      <td>Jueves</td>\n",
       "      <td>I</td>\n",
       "      <td>Grupo LATAM</td>\n",
       "      <td>Santiago</td>\n",
       "      <td>Lima</td>\n",
       "      <td>0</td>\n",
       "      <td>0</td>\n",
       "    </tr>\n",
       "    <tr>\n",
       "      <th>35058</th>\n",
       "      <td>2017-07-17 13:47:00</td>\n",
       "      <td>124</td>\n",
       "      <td>SCFA</td>\n",
       "      <td>LAN</td>\n",
       "      <td>2017-07-17 13:58:00</td>\n",
       "      <td>124</td>\n",
       "      <td>SCFA</td>\n",
       "      <td>LAN</td>\n",
       "      <td>17.0</td>\n",
       "      <td>7.0</td>\n",
       "      <td>2017.0</td>\n",
       "      <td>Lunes</td>\n",
       "      <td>N</td>\n",
       "      <td>Grupo LATAM</td>\n",
       "      <td>Santiago</td>\n",
       "      <td>Antofagasta</td>\n",
       "      <td>0</td>\n",
       "      <td>0</td>\n",
       "    </tr>\n",
       "    <tr>\n",
       "      <th>8762</th>\n",
       "      <td>2017-02-10 17:30:00</td>\n",
       "      <td>138</td>\n",
       "      <td>SCFA</td>\n",
       "      <td>LAN</td>\n",
       "      <td>2017-02-10 17:30:00</td>\n",
       "      <td>138</td>\n",
       "      <td>SCFA</td>\n",
       "      <td>LAN</td>\n",
       "      <td>10.0</td>\n",
       "      <td>2.0</td>\n",
       "      <td>2017.0</td>\n",
       "      <td>Viernes</td>\n",
       "      <td>N</td>\n",
       "      <td>Grupo LATAM</td>\n",
       "      <td>Santiago</td>\n",
       "      <td>Antofagasta</td>\n",
       "      <td>0</td>\n",
       "      <td>0</td>\n",
       "    </tr>\n",
       "  </tbody>\n",
       "</table>\n",
       "</div>"
      ],
      "text/plain": [
       "                   Fecha-I Vlo-I Des-I Emp-I              Fecha-O Vlo-O Des-O  \\\n",
       "10469  2017-02-09 15:35:00   445  SAEZ   LAN  2017-02-09 15:42:00   445  SAEZ   \n",
       "2644   2017-01-17 13:50:00    71  SCBA   LAN  2017-01-17 13:49:00    71  SCBA   \n",
       "16367  2017-03-30 16:15:00   632  SPJC   LAN  2017-03-30 16:15:00   632  SPJC   \n",
       "35058  2017-07-17 13:47:00   124  SCFA   LAN  2017-07-17 13:58:00   124  SCFA   \n",
       "8762   2017-02-10 17:30:00   138  SCFA   LAN  2017-02-10 17:30:00   138  SCFA   \n",
       "\n",
       "      Emp-O   DIA  MES     AÑO   DIANOM TIPOVUELO        OPERA  SIGLAORI  \\\n",
       "10469   LAN   9.0  2.0  2017.0   Jueves         I  Grupo LATAM  Santiago   \n",
       "2644    LAN  17.0  1.0  2017.0   Martes         N  Grupo LATAM  Santiago   \n",
       "16367   LAN  30.0  3.0  2017.0   Jueves         I  Grupo LATAM  Santiago   \n",
       "35058   LAN  17.0  7.0  2017.0    Lunes         N  Grupo LATAM  Santiago   \n",
       "8762    LAN  10.0  2.0  2017.0  Viernes         N  Grupo LATAM  Santiago   \n",
       "\n",
       "           SIGLADES Vlo_change Emp_change  \n",
       "10469  Buenos Aires          0          0  \n",
       "2644      Balmaceda          0          0  \n",
       "16367          Lima          0          0  \n",
       "35058   Antofagasta          0          0  \n",
       "8762    Antofagasta          0          0  "
      ]
     },
     "execution_count": 15,
     "metadata": {},
     "output_type": "execute_result"
    }
   ],
   "source": [
    "dataset_SCL.sample(5)"
   ]
  },
  {
   "cell_type": "code",
   "execution_count": 16,
   "metadata": {},
   "outputs": [],
   "source": [
    "#Cambiamos el formato a fecha\n",
    "cols_date = ['Fecha-I','Fecha-O']\n",
    "for col in cols_date:\n",
    "    dataset_SCL[col] = pd.to_datetime(dataset_SCL[col], format='%Y-%m-%d %H:%M:%S')"
   ]
  },
  {
   "cell_type": "code",
   "execution_count": 17,
   "metadata": {},
   "outputs": [
    {
     "data": {
      "text/html": [
       "<div>\n",
       "<style scoped>\n",
       "    .dataframe tbody tr th:only-of-type {\n",
       "        vertical-align: middle;\n",
       "    }\n",
       "\n",
       "    .dataframe tbody tr th {\n",
       "        vertical-align: top;\n",
       "    }\n",
       "\n",
       "    .dataframe thead th {\n",
       "        text-align: right;\n",
       "    }\n",
       "</style>\n",
       "<table border=\"1\" class=\"dataframe\">\n",
       "  <thead>\n",
       "    <tr style=\"text-align: right;\">\n",
       "      <th></th>\n",
       "      <th>Fecha-I</th>\n",
       "      <th>Fecha-O</th>\n",
       "      <th>DIA</th>\n",
       "      <th>MES</th>\n",
       "      <th>AÑO</th>\n",
       "    </tr>\n",
       "  </thead>\n",
       "  <tbody>\n",
       "    <tr>\n",
       "      <th>count</th>\n",
       "      <td>68166</td>\n",
       "      <td>68166</td>\n",
       "      <td>68166.000000</td>\n",
       "      <td>68166.000000</td>\n",
       "      <td>68166.000000</td>\n",
       "    </tr>\n",
       "    <tr>\n",
       "      <th>mean</th>\n",
       "      <td>2017-07-05 10:37:37.216794368</td>\n",
       "      <td>2017-07-05 10:46:43.755831296</td>\n",
       "      <td>15.714858</td>\n",
       "      <td>6.620441</td>\n",
       "      <td>2017.000029</td>\n",
       "    </tr>\n",
       "    <tr>\n",
       "      <th>min</th>\n",
       "      <td>2017-01-01 00:15:00</td>\n",
       "      <td>2017-01-01 00:04:00</td>\n",
       "      <td>1.000000</td>\n",
       "      <td>1.000000</td>\n",
       "      <td>2017.000000</td>\n",
       "    </tr>\n",
       "    <tr>\n",
       "      <th>25%</th>\n",
       "      <td>2017-03-31 12:05:00</td>\n",
       "      <td>2017-03-31 12:16:00</td>\n",
       "      <td>8.000000</td>\n",
       "      <td>3.000000</td>\n",
       "      <td>2017.000000</td>\n",
       "    </tr>\n",
       "    <tr>\n",
       "      <th>50%</th>\n",
       "      <td>2017-07-10 01:55:00</td>\n",
       "      <td>2017-07-10 01:48:00</td>\n",
       "      <td>16.000000</td>\n",
       "      <td>7.000000</td>\n",
       "      <td>2017.000000</td>\n",
       "    </tr>\n",
       "    <tr>\n",
       "      <th>75%</th>\n",
       "      <td>2017-10-08 08:26:00</td>\n",
       "      <td>2017-10-08 08:23:00</td>\n",
       "      <td>23.000000</td>\n",
       "      <td>10.000000</td>\n",
       "      <td>2017.000000</td>\n",
       "    </tr>\n",
       "    <tr>\n",
       "      <th>max</th>\n",
       "      <td>2017-12-31 23:55:00</td>\n",
       "      <td>2018-01-01 00:12:00</td>\n",
       "      <td>31.000000</td>\n",
       "      <td>12.000000</td>\n",
       "      <td>2018.000000</td>\n",
       "    </tr>\n",
       "    <tr>\n",
       "      <th>std</th>\n",
       "      <td>NaN</td>\n",
       "      <td>NaN</td>\n",
       "      <td>8.782890</td>\n",
       "      <td>3.522743</td>\n",
       "      <td>0.005417</td>\n",
       "    </tr>\n",
       "  </tbody>\n",
       "</table>\n",
       "</div>"
      ],
      "text/plain": [
       "                             Fecha-I                        Fecha-O  \\\n",
       "count                          68166                          68166   \n",
       "mean   2017-07-05 10:37:37.216794368  2017-07-05 10:46:43.755831296   \n",
       "min              2017-01-01 00:15:00            2017-01-01 00:04:00   \n",
       "25%              2017-03-31 12:05:00            2017-03-31 12:16:00   \n",
       "50%              2017-07-10 01:55:00            2017-07-10 01:48:00   \n",
       "75%              2017-10-08 08:26:00            2017-10-08 08:23:00   \n",
       "max              2017-12-31 23:55:00            2018-01-01 00:12:00   \n",
       "std                              NaN                            NaN   \n",
       "\n",
       "                DIA           MES           AÑO  \n",
       "count  68166.000000  68166.000000  68166.000000  \n",
       "mean      15.714858      6.620441   2017.000029  \n",
       "min        1.000000      1.000000   2017.000000  \n",
       "25%        8.000000      3.000000   2017.000000  \n",
       "50%       16.000000      7.000000   2017.000000  \n",
       "75%       23.000000     10.000000   2017.000000  \n",
       "max       31.000000     12.000000   2018.000000  \n",
       "std        8.782890      3.522743      0.005417  "
      ]
     },
     "execution_count": 17,
     "metadata": {},
     "output_type": "execute_result"
    }
   ],
   "source": [
    "dataset_SCL.describe(datetime_is_numeric=True)"
   ]
  },
  {
   "attachments": {},
   "cell_type": "markdown",
   "metadata": {},
   "source": [
    "observamos que:\n",
    "- La resolucion temporal es de un anio de datos, puntualmente el anio 2017.\n",
    "- No podemos obtener conclusiones o analizar datos con los dias, meses o anios en formato numero, por que son variables categoricas ordinales,esto al poseer un orden natural.\n",
    "- Debemos crear o reemplazar las columnas de dia, mes y anio(no tan relevante) con sus respectivo datos categoricos.\n",
    "- Vemos que las demas variables son string y veremos si es necesario cambiarlas a categorias."
   ]
  },
  {
   "cell_type": "code",
   "execution_count": 18,
   "metadata": {},
   "outputs": [
    {
     "data": {
      "text/plain": [
       "Index(['Fecha-I', 'Vlo-I', 'Des-I', 'Emp-I', 'Fecha-O', 'Vlo-O', 'Des-O',\n",
       "       'Emp-O', 'DIA', 'MES', 'AÑO', 'DIANOM', 'TIPOVUELO', 'OPERA',\n",
       "       'SIGLAORI', 'SIGLADES', 'Vlo_change', 'Emp_change'],\n",
       "      dtype='object')"
      ]
     },
     "execution_count": 18,
     "metadata": {},
     "output_type": "execute_result"
    }
   ],
   "source": [
    "dataset_SCL.columns"
   ]
  },
  {
   "cell_type": "code",
   "execution_count": 19,
   "metadata": {},
   "outputs": [],
   "source": [
    "# creamos variables para ayudarnos a hacer el analisis\n",
    "days = ['Lunes', 'Martes', 'Miercoles', 'Jueves', 'Viernes', 'Sabado', 'Domingo']\n",
    "months = ['Ene','Feb','Mar','Abr','May','Jun','Jul','Ago','Sep','Oct','Nov','Dic']\n",
    "d = dict(zip(np.arange(1, 13),months))\n",
    "dataset_SCL['MESNOM'] = dataset_SCL['MES'].astype(int).replace(d, regex=True)\n",
    "\n",
    "#cambiamos las demas variables a formato\n",
    "cols = ['Vlo-I', 'Des-I', 'Emp-I', 'Vlo-O', 'Des-O','Emp-O', 'DIA', 'MES', 'AÑO', 'DIANOM', 'TIPOVUELO', 'OPERA','SIGLADES', 'Vlo_change','Emp_change']\n",
    "for col in cols:\n",
    "    if col == 'DIANOM':\n",
    "        dataset_SCL[col] = pd.Categorical(dataset_SCL[col],ordered=True, categories=days)\n",
    "    else:\n",
    "        dataset_SCL[col] = dataset_SCL[col].astype('category')\n",
    "\n",
    "dataset_SCL.sort_values('Fecha-I', inplace=True)"
   ]
  },
  {
   "cell_type": "code",
   "execution_count": 20,
   "metadata": {},
   "outputs": [
    {
     "data": {
      "text/html": [
       "<div>\n",
       "<style scoped>\n",
       "    .dataframe tbody tr th:only-of-type {\n",
       "        vertical-align: middle;\n",
       "    }\n",
       "\n",
       "    .dataframe tbody tr th {\n",
       "        vertical-align: top;\n",
       "    }\n",
       "\n",
       "    .dataframe thead th {\n",
       "        text-align: right;\n",
       "    }\n",
       "</style>\n",
       "<table border=\"1\" class=\"dataframe\">\n",
       "  <thead>\n",
       "    <tr style=\"text-align: right;\">\n",
       "      <th></th>\n",
       "      <th>Fecha-I</th>\n",
       "      <th>Vlo-I</th>\n",
       "      <th>Des-I</th>\n",
       "      <th>Emp-I</th>\n",
       "      <th>Fecha-O</th>\n",
       "      <th>Vlo-O</th>\n",
       "      <th>Des-O</th>\n",
       "      <th>Emp-O</th>\n",
       "      <th>DIA</th>\n",
       "      <th>MES</th>\n",
       "      <th>AÑO</th>\n",
       "      <th>DIANOM</th>\n",
       "      <th>TIPOVUELO</th>\n",
       "      <th>OPERA</th>\n",
       "      <th>SIGLAORI</th>\n",
       "      <th>SIGLADES</th>\n",
       "      <th>Vlo_change</th>\n",
       "      <th>Emp_change</th>\n",
       "      <th>MESNOM</th>\n",
       "    </tr>\n",
       "  </thead>\n",
       "  <tbody>\n",
       "    <tr>\n",
       "      <th>169</th>\n",
       "      <td>2017-01-01 00:15:00</td>\n",
       "      <td>11</td>\n",
       "      <td>MMMX</td>\n",
       "      <td>AMX</td>\n",
       "      <td>2017-01-01 00:04:00</td>\n",
       "      <td>11</td>\n",
       "      <td>MMMX</td>\n",
       "      <td>AMX</td>\n",
       "      <td>1.0</td>\n",
       "      <td>1.0</td>\n",
       "      <td>2017.0</td>\n",
       "      <td>Domingo</td>\n",
       "      <td>I</td>\n",
       "      <td>Aeromexico</td>\n",
       "      <td>Santiago</td>\n",
       "      <td>Ciudad de Mexico</td>\n",
       "      <td>0</td>\n",
       "      <td>0</td>\n",
       "      <td>Ene</td>\n",
       "    </tr>\n",
       "    <tr>\n",
       "      <th>5078</th>\n",
       "      <td>2017-01-01 01:15:00</td>\n",
       "      <td>572</td>\n",
       "      <td>SKBO</td>\n",
       "      <td>LAN</td>\n",
       "      <td>2017-01-01 01:10:00</td>\n",
       "      <td>572</td>\n",
       "      <td>SKBO</td>\n",
       "      <td>LAN</td>\n",
       "      <td>1.0</td>\n",
       "      <td>1.0</td>\n",
       "      <td>2017.0</td>\n",
       "      <td>Domingo</td>\n",
       "      <td>I</td>\n",
       "      <td>Grupo LATAM</td>\n",
       "      <td>Santiago</td>\n",
       "      <td>Bogota</td>\n",
       "      <td>0</td>\n",
       "      <td>0</td>\n",
       "      <td>Ene</td>\n",
       "    </tr>\n",
       "    <tr>\n",
       "      <th>622</th>\n",
       "      <td>2017-01-01 01:23:00</td>\n",
       "      <td>495</td>\n",
       "      <td>MPTO</td>\n",
       "      <td>CMP</td>\n",
       "      <td>2017-01-01 01:29:00</td>\n",
       "      <td>495</td>\n",
       "      <td>MPTO</td>\n",
       "      <td>CMP</td>\n",
       "      <td>1.0</td>\n",
       "      <td>1.0</td>\n",
       "      <td>2017.0</td>\n",
       "      <td>Domingo</td>\n",
       "      <td>I</td>\n",
       "      <td>Copa Air</td>\n",
       "      <td>Santiago</td>\n",
       "      <td>Ciudad de Panama</td>\n",
       "      <td>0</td>\n",
       "      <td>0</td>\n",
       "      <td>Ene</td>\n",
       "    </tr>\n",
       "    <tr>\n",
       "      <th>409</th>\n",
       "      <td>2017-01-01 01:33:00</td>\n",
       "      <td>240</td>\n",
       "      <td>SKBO</td>\n",
       "      <td>AVA</td>\n",
       "      <td>2017-01-01 01:38:00</td>\n",
       "      <td>240</td>\n",
       "      <td>SKBO</td>\n",
       "      <td>AVA</td>\n",
       "      <td>1.0</td>\n",
       "      <td>1.0</td>\n",
       "      <td>2017.0</td>\n",
       "      <td>Domingo</td>\n",
       "      <td>I</td>\n",
       "      <td>Avianca</td>\n",
       "      <td>Santiago</td>\n",
       "      <td>Bogota</td>\n",
       "      <td>0</td>\n",
       "      <td>0</td>\n",
       "      <td>Ene</td>\n",
       "    </tr>\n",
       "    <tr>\n",
       "      <th>592</th>\n",
       "      <td>2017-01-01 01:42:00</td>\n",
       "      <td>276</td>\n",
       "      <td>MPTO</td>\n",
       "      <td>CMP</td>\n",
       "      <td>2017-01-01 01:40:00</td>\n",
       "      <td>276</td>\n",
       "      <td>MPTO</td>\n",
       "      <td>CMP</td>\n",
       "      <td>1.0</td>\n",
       "      <td>1.0</td>\n",
       "      <td>2017.0</td>\n",
       "      <td>Domingo</td>\n",
       "      <td>I</td>\n",
       "      <td>Copa Air</td>\n",
       "      <td>Santiago</td>\n",
       "      <td>Ciudad de Panama</td>\n",
       "      <td>0</td>\n",
       "      <td>0</td>\n",
       "      <td>Ene</td>\n",
       "    </tr>\n",
       "  </tbody>\n",
       "</table>\n",
       "</div>"
      ],
      "text/plain": [
       "                 Fecha-I Vlo-I Des-I Emp-I             Fecha-O Vlo-O Des-O  \\\n",
       "169  2017-01-01 00:15:00    11  MMMX   AMX 2017-01-01 00:04:00    11  MMMX   \n",
       "5078 2017-01-01 01:15:00   572  SKBO   LAN 2017-01-01 01:10:00   572  SKBO   \n",
       "622  2017-01-01 01:23:00   495  MPTO   CMP 2017-01-01 01:29:00   495  MPTO   \n",
       "409  2017-01-01 01:33:00   240  SKBO   AVA 2017-01-01 01:38:00   240  SKBO   \n",
       "592  2017-01-01 01:42:00   276  MPTO   CMP 2017-01-01 01:40:00   276  MPTO   \n",
       "\n",
       "     Emp-O  DIA  MES     AÑO   DIANOM TIPOVUELO        OPERA  SIGLAORI  \\\n",
       "169    AMX  1.0  1.0  2017.0  Domingo         I   Aeromexico  Santiago   \n",
       "5078   LAN  1.0  1.0  2017.0  Domingo         I  Grupo LATAM  Santiago   \n",
       "622    CMP  1.0  1.0  2017.0  Domingo         I     Copa Air  Santiago   \n",
       "409    AVA  1.0  1.0  2017.0  Domingo         I      Avianca  Santiago   \n",
       "592    CMP  1.0  1.0  2017.0  Domingo         I     Copa Air  Santiago   \n",
       "\n",
       "              SIGLADES Vlo_change Emp_change MESNOM  \n",
       "169   Ciudad de Mexico          0          0    Ene  \n",
       "5078            Bogota          0          0    Ene  \n",
       "622   Ciudad de Panama          0          0    Ene  \n",
       "409             Bogota          0          0    Ene  \n",
       "592   Ciudad de Panama          0          0    Ene  "
      ]
     },
     "execution_count": 20,
     "metadata": {},
     "output_type": "execute_result"
    }
   ],
   "source": [
    "dataset_SCL.head(5)"
   ]
  },
  {
   "attachments": {},
   "cell_type": "markdown",
   "metadata": {},
   "source": [
    "Con la transformacion de las variables al formato correspondiente iniciamos el analisis de la informacion. Sin embargo, como el objetivo principal es predecir el retraso en los vuelos del aeropuerto es fundamenta crear nuestra variable objetivo o target y otras variables auxiliares, esto nos ayuda a no divagar en los datos u obtener metricas que no estan alineadas a responder nuestro objetivo principal(probabilidad de retraso). Aqui abordaremos el segundo punto del desafio."
   ]
  },
  {
   "attachments": {},
   "cell_type": "markdown",
   "metadata": {},
   "source": [
    "### Problema:\n",
    "2. Genera las columnas adicionales y luego expórtelas en un archivo synthetic_features.csv :\n",
    "- temporada_alta : 1 si Fecha-I está entre 15-Dic y 3-Mar, o 15-Jul y 31-Jul, o 11-Sep y 30-Sep, 0 si no.\n",
    "- dif_min : diferencia en minutos entre Fecha-O y Fecha-I.\n",
    "- atraso_15 : 1 si dif_min > 15, 0 si no.\n",
    "- periodo_dia : mañana (entre 5:00 y 11:59), tarde (entre 12:00 y 18:59) y noche (entre 19:00 y 4:59), en base a\n",
    "Fecha-I .\n",
    "\n",
    "### Acercamiento:\n",
    "- Usaremos diversas funciones de pandas y numpy para crear estas nuevas columnas\n",
    "- En términos de velocidad, \"np.where\" suele ser más rápido que \"map\" y \"apply\". Esto se debe a que \"np.where\" es una función vectorizada que procesa los datos directamente en una matriz numpy, mientras que \"map\" y \"apply\" son funciones de pandas que procesan los datos uno por uno. para efecto practicos intentaremos usar cada una.\n",
    "- Como no hemos hecho un EDA, aprovecharemos la creacion de la variable objetivo para hacer analisis univariados, bivariados y multivariados\n",
    "- \n"
   ]
  },
  {
   "attachments": {},
   "cell_type": "markdown",
   "metadata": {},
   "source": [
    "### Creacion de la varaible objetivo 'atraso_15'.\n",
    "\n",
    "En la creacion de la varaible objetivo 'atraso_15'.\n",
    "- usamos una resta de fechas entre Fecha-O y Fecha-I.\n",
    "- obtenemos el total en segundos.\n",
    "- dividir entre 60 seg para obtener los minutos.\n",
    "- usamos map para obtener 1 si es mayor a 15 min y si no, 0\n",
    "\n",
    "Validacion y analisis de datos\n",
    "- cual es la distribucion del atraso? que nos indica?\n",
    "- Que porcentaje de vuelos tienen un atraso mayor a 15 min?\n",
    "- Cuales aerolineas presentan mayor atraso?\n",
    "- que dia y mes de la semana tiene mayor atraso?"
   ]
  },
  {
   "cell_type": "code",
   "execution_count": 21,
   "metadata": {},
   "outputs": [],
   "source": [
    "# Crear la columna 'dif_min'\n",
    "dataset_SCL['dif_min'] = (dataset_SCL['Fecha-O'] - dataset_SCL['Fecha-I']).dt.total_seconds() / 60# numero de segundos en un minuto\n",
    "\n",
    "# Crear la columna 'atraso_15'\n",
    "dataset_SCL['atraso_15'] =dataset_SCL['dif_min'].map(lambda x: '1' if x>15 else '0')"
   ]
  },
  {
   "cell_type": "code",
   "execution_count": 22,
   "metadata": {},
   "outputs": [
    {
     "name": "stdout",
     "output_type": "stream",
     "text": [
      "(17904, 21)\n"
     ]
    },
    {
     "data": {
      "text/plain": [
       "26.26529354810316"
      ]
     },
     "execution_count": 22,
     "metadata": {},
     "output_type": "execute_result"
    }
   ],
   "source": [
    "# verificamos la existencia de diferencias negativas en los minutos\n",
    "print(dataset_SCL[dataset_SCL['dif_min']<0].shape)\n",
    "(dataset_SCL[dataset_SCL['dif_min']<0].shape[0] / dataset_SCL.shape[0])*100\n"
   ]
  },
  {
   "attachments": {},
   "cell_type": "markdown",
   "metadata": {},
   "source": [
    "- Verificamos la existencia de diferencias negativas en los minutos, indicando el adelanto del los vuelos.\n",
    "- En el anio 2017, 17904 vuelos fueron adelantados representando un 26.3% de los vuelos anuales.\n",
    "- Nuestro principal objetivo es predecir el atraso, entonces podriamos eliminar estos vuelos, pero la decision la tomaremos ams adelante.\n"
   ]
  },
  {
   "cell_type": "code",
   "execution_count": 23,
   "metadata": {},
   "outputs": [
    {
     "name": "stdout",
     "output_type": "stream",
     "text": [
      "0    55560\n",
      "1    12606\n",
      "Name: atraso_15, dtype: int64\n"
     ]
    },
    {
     "data": {
      "text/plain": [
       "0    81.50691\n",
       "1    18.49309\n",
       "Name: atraso_15, dtype: float64"
      ]
     },
     "execution_count": 23,
     "metadata": {},
     "output_type": "execute_result"
    }
   ],
   "source": [
    "# vuelos atrasados\n",
    "print(dataset_SCL['atraso_15'].value_counts())\n",
    "dataset_SCL['atraso_15'].value_counts(normalize = True)*100"
   ]
  },
  {
   "cell_type": "code",
   "execution_count": 24,
   "metadata": {},
   "outputs": [
    {
     "data": {
      "image/png": "[encoded data removed]",
      "text/plain": [
       "<Figure size 500x500 with 1 Axes>"
      ]
     },
     "metadata": {},
     "output_type": "display_data"
    }
   ],
   "source": [
    "sns.catplot(\n",
    "    data= dataset_SCL,\n",
    "    x='atraso_15',\n",
    "    kind='count',\n",
    ")\n",
    "plt.xlabel('Atraso mayor a 15 min')\n",
    "plt.ylabel('Numero de Vuelos')\n",
    "plt.title('conteo de vuelos atrasados en el 2017')\n",
    "plt.show()"
   ]
  },
  {
   "attachments": {},
   "cell_type": "markdown",
   "metadata": {},
   "source": [
    "- Podemos observar que 12606 vuelos correspondiendo al 18.5% del 2017 presentaron retraso un retraso de minimo 15 minutos."
   ]
  },
  {
   "cell_type": "code",
   "execution_count": null,
   "metadata": {},
   "outputs": [],
   "source": [
    "# porcentaje de dias con retraso\n",
    "dataset_SCL.loc[dataset_SCL['atraso_15']=='1','Fecha-I'].dt.date.nunique()/dataset_SCL['Fecha-I'].dt.date.nunique()*100"
   ]
  },
  {
   "attachments": {},
   "cell_type": "markdown",
   "metadata": {},
   "source": [
    "Vemos que todos los dias se presento al menos un atraso de 15 minutos\n",
    "\n",
    "Creamos una tabla de contingencia la cual nos entrega el numero de vuelos con atraso o no para cada Aerolinea, esto con  el fin de ver si hay aerolineas que tienden a presentar atraso o no."
   ]
  },
  {
   "cell_type": "code",
   "execution_count": null,
   "metadata": {},
   "outputs": [],
   "source": [
    "# Crear tabla de contingencia\n",
    "top_opera_atraso = pd.crosstab(dataset_SCL['OPERA'], dataset_SCL['atraso_15']).reset_index()\n",
    "\n",
    "# Calcualo del total de vuelos por operador(Aerolinea)\n",
    "top_opera_atraso['total'] = top_opera_atraso['0'] + top_opera_atraso['1']\n",
    "top_opera_atraso['Porcentaje_anual'] =  top_opera_atraso['total'] / top_opera_atraso['total'].sum() *100\n",
    "\n",
    "# Porcentaje de atraso o no por Aerolinea \n",
    "top_opera_atraso['Porcentaje_0'] = top_opera_atraso['0'] / top_opera_atraso['total']*100\n",
    "top_opera_atraso['Porcentaje_1'] = top_opera_atraso['1'] / top_opera_atraso['total']*100\n",
    "\n",
    "# top 10 de operador con tasa de atraso mayor a 15 min en la operacion anual\n",
    "top_opera_atraso.sort_values('1', ascending=False).head(10)"
   ]
  },
  {
   "attachments": {},
   "cell_type": "markdown",
   "metadata": {},
   "source": [
    "- Obtenemos el top 10 de los operdores que presentan atrasos superiores a 15 minutos, sin embargo esta medida debe ser contrastada con la cantidad de vuelos anuales y tambien por operador"
   ]
  },
  {
   "cell_type": "code",
   "execution_count": null,
   "metadata": {},
   "outputs": [],
   "source": [
    "# top 10 de operador con tasa de atraso mayor a 15 min en su operacion\n",
    "top_opera_atraso.sort_values(['Porcentaje_1','Porcentaje_anual'],ascending=False).head(10)"
   ]
  },
  {
   "attachments": {},
   "cell_type": "markdown",
   "metadata": {},
   "source": [
    "Continuamos con el analisis por operador, cambio en nuemero de vuelo, cambio en el codigo de la aerolinea en funcion del atraso"
   ]
  },
  {
   "cell_type": "code",
   "execution_count": null,
   "metadata": {},
   "outputs": [],
   "source": [
    "cols = ['OPERA', 'Vlo_change', 'Emp_change', 'atraso_15']\n",
    "\n",
    "dataset_SCL_melt= dataset_SCL[cols].melt(id_vars='atraso_15', var_name='cols')\n",
    "g = sns.displot(\n",
    "    data=dataset_SCL_melt,\n",
    "    x='value',\n",
    "    col='cols',\n",
    "    hue='atraso_15',\n",
    "    multiple='fill',\n",
    "    stat='proportion',\n",
    "    col_wrap=3,\n",
    "    facet_kws={'sharey': False, 'sharex': False}\n",
    ")\n",
    "\n",
    "for ax in g.axes:\n",
    "    plt.setp(ax.get_xticklabels(), rotation=90)\n",
    "    ax.axhline(y=0.5, color='red', linestyle='--')"
   ]
  },
  {
   "attachments": {},
   "cell_type": "markdown",
   "metadata": {},
   "source": [
    "Analisis por tipo de vuelo, mes del anio y dia de la semana en funcion del atraso"
   ]
  },
  {
   "cell_type": "code",
   "execution_count": null,
   "metadata": {},
   "outputs": [],
   "source": [
    "cols = ['TIPOVUELO', 'MESNOM', 'DIANOM','atraso_15']\n",
    "\n",
    "dataset_SCL_melt= dataset_SCL[cols].melt(id_vars='atraso_15', var_name='cols')\n",
    "g = sns.displot(\n",
    "    data=dataset_SCL_melt,\n",
    "    x='value',\n",
    "    col='cols',\n",
    "    hue='atraso_15',\n",
    "    multiple='fill',\n",
    "    stat='proportion',\n",
    "    col_wrap=3,\n",
    "    facet_kws={'sharey': False, 'sharex': False}\n",
    ")\n",
    "\n",
    "for ax in g.axes:\n",
    "    plt.setp(ax.get_xticklabels(), rotation=90)\n",
    "    ax.axhline(y=0.5, color='red', linestyle='--')"
   ]
  },
  {
   "attachments": {},
   "cell_type": "markdown",
   "metadata": {},
   "source": [
    "Con esta tabla observamos:\n",
    "- El Grupo Latam tiene una tasa del 60% en vuelos con atraso mayores a 15 min para el 2017 en la operacion total de vuelos, seguido por Sky Airlines con un 21% y Latin American Wings con 2.5%\n",
    "- El Grupo Latam tiene una tasa de atraso del 18% dentro de su operacion en el aeropuerto SCL, Plus Ultra Lineas Aereas con tasa de operacion 61% esta en el primer puesto,  seguido por Qantas Airways con 58%\n",
    "- Se observa que los vuelo que presentan cambio en su numero de vuelo tiene mas vuelos atrasados\n",
    "- No hay una diferencia clara entre los vuelos que cambia de Código aerolínea y el atraso\n",
    "- Los vuelos internacionales son los que mayor tasa de atraso presentan\n",
    "- Los meses de Julio, Octubre y Diciembre son los meses con mayor tasa de atraso\n",
    "- Los Lunes, Jueves y Viernes son los dias con mayor tasa de atraso"
   ]
  },
  {
   "attachments": {},
   "cell_type": "markdown",
   "metadata": {},
   "source": [
    "### Creacion de nueva columna Temporada alta\n",
    "En general, \"loc\" es más adecuado para seleccionar y manipular filas y columnas específicas en un DataFrame, mientras que \"np.where\" es más adecuado para aplicar operaciones matemáticas y lógicas complejas a los datos.\n",
    "\n",
    "En la creacion de la nueva feature 'temporada_alta' usamos una mascara con las condicionales necesarias y nos aprovechamos del conocimiento previo de solo tener un anio(2017).\n",
    "- Como solo tenemos un anio no es necesario hacer una automatizacion de selecion de fechas o algo por el estilo.\n",
    "- Como nuestra fecha tiene el formato fechas y hora debemos ser precavidos, porque al momento de elegir una fecha menor o igual(<=) el escogera hata las 00 horas de la fecha indicada, asi que debemos agregar un dia mas para seleccione todos los registro de mi fecha limite que va hasta las 23:59 horas, ejemplo: la fecha 3-Mar, debemos colocar en la condicion la fecha 4-Mar, para seleccionar todo el dia 3-mar.\n",
    "- En la condicion de 1 si Fecha-I está entre 15-Dic y 3-Mar y cambiamos un poco la condicion de 15-Dic o 3-Mar, para que pueda seleccionar el rango de fechas solicitado, esto no afecta el resultado para este caso particular\n",
    "\n",
    "Validacion y analisis de datos\n",
    "- cual es la distribucion de la temporada? que nos indica?\n",
    "- Que porcentaje de vuelos estan en temporada alta?"
   ]
  },
  {
   "cell_type": "code",
   "execution_count": null,
   "metadata": {},
   "outputs": [],
   "source": [
    "# creacion de mascara\n",
    "temporada_alta = ((dataset_SCL['Fecha-I']>='2017-12-15') | (dataset_SCL['Fecha-I']<='2017-03-04')) | \\\n",
    "    ((dataset_SCL['Fecha-I']>='2017-07-15') & (dataset_SCL['Fecha-I']<='2017-08-01')) | \\\n",
    "        ((dataset_SCL['Fecha-I']>='2017-09-11') & (dataset_SCL['Fecha-I']<='2017-10-01'))\n",
    "\n",
    "# podemos hacerlo con .loc tambien \n",
    "dataset_SCL['temporada_alta'] = np.where(temporada_alta, '1', '0')\n",
    "\n",
    "# Validación en porcentaje\n",
    "dataset_SCL['temporada_alta'].value_counts(normalize = True)*100"
   ]
  },
  {
   "cell_type": "code",
   "execution_count": null,
   "metadata": {},
   "outputs": [],
   "source": [
    "# porcentaje de dias en temporada alta\n",
    "dataset_SCL.loc[dataset_SCL['temporada_alta']=='1','Fecha-I'].dt.date.nunique()/dataset_SCL['Fecha-I'].dt.date.nunique()*100"
   ]
  },
  {
   "attachments": {},
   "cell_type": "markdown",
   "metadata": {},
   "source": [
    "### Crear la columna 'periodo_dia'"
   ]
  },
  {
   "cell_type": "code",
   "execution_count": null,
   "metadata": {},
   "outputs": [],
   "source": [
    "# Crear la columna 'periodo_dia'\n",
    "dataset_SCL['periodo_dia'] = dataset_SCL.apply(categorized_days_periods, axis=1)\n",
    "dataset_SCL['periodo_dia'].value_counts(normalize = True)*100"
   ]
  },
  {
   "cell_type": "code",
   "execution_count": null,
   "metadata": {},
   "outputs": [],
   "source": [
    "# Validación la correcta creacion de periodo\n",
    "dataset_SCL['HORA']=dataset_SCL['Fecha-I'].dt.hour\n",
    "dataset_SCL.groupby(by=['periodo_dia','HORA']).size()"
   ]
  },
  {
   "cell_type": "code",
   "execution_count": null,
   "metadata": {},
   "outputs": [],
   "source": [
    "cols = ['periodo_dia','temporada_alta', 'atraso_15']\n",
    "\n",
    "dataset_SCL_melt= dataset_SCL[cols].melt(id_vars='atraso_15', var_name='cols')\n",
    "g = sns.displot(\n",
    "    data=dataset_SCL_melt,\n",
    "    x='value',\n",
    "    col='cols',\n",
    "    hue='atraso_15',\n",
    "    multiple='fill',\n",
    "    stat='proportion',\n",
    "    col_wrap=2,\n",
    "    facet_kws={'sharey': False, 'sharex': False}\n",
    ")\n",
    "\n",
    "for ax in g.axes:\n",
    "    plt.setp(ax.get_xticklabels(), rotation=90)\n",
    "    ax.axhline(y=0.5, color='red', linestyle='--')"
   ]
  },
  {
   "attachments": {},
   "cell_type": "markdown",
   "metadata": {},
   "source": [
    "Observamos que: \n",
    "- Un 33% de los vuelos del anio 2017 fueron hechos en temporada alta\n",
    "- El 31% o 116 dias del anio estan en temporada alta\n",
    "- Hay poca diferencia entre el atraso y la temporada alta\n",
    "- La noche presenta la menor tasa de vuelos del dia con 25.5%\n",
    "- La mañana y tarde tiene tasas simimilares 37%\n",
    "- La noche y la tarde tienen tasas similares respecto al atraso de vuelos\n",
    "- La manana presenta una tasa menor que el resto del dia"
   ]
  },
  {
   "attachments": {},
   "cell_type": "markdown",
   "metadata": {},
   "source": [
    "Creamos una tabla de contingencia la cual nos entrega el numero de vuelos con atraso o no para cada ciudad de destino, esto con  el fin de ver si hay ciudades que tienden a presentar retraso o no."
   ]
  },
  {
   "cell_type": "code",
   "execution_count": null,
   "metadata": {},
   "outputs": [],
   "source": [
    "# Crear una tabla de contingencia\n",
    "top_destinos = pd.crosstab(dataset_SCL['Des-I'], dataset_SCL['atraso_15']).reset_index()\n",
    "\n",
    "# Calcualo del total de vuelos por destino\n",
    "top_destinos['total'] = top_destinos['0'] + top_destinos['1']\n",
    "top_destinos['Porcentaje_anual'] =  top_destinos['total'] / top_destinos['total'].sum() *100\n",
    "\n",
    "# Porcentaje de atraso o no por destino \n",
    "top_destinos['Porcentaje_0'] = top_destinos['0'] / top_destinos['total']*100\n",
    "top_destinos['Porcentaje_1'] = top_destinos['1'] / top_destinos['total']*100\n",
    "# tabla_contingencia.describe()\n",
    "\n",
    "# top 10 de destinos con atraso mayor a 15 min en el anio\n",
    "top_destinos.sort_values('1', ascending=False).head(10)"
   ]
  },
  {
   "cell_type": "code",
   "execution_count": null,
   "metadata": {},
   "outputs": [],
   "source": [
    "# top 10 de destinos con atraso mayor a 15 min en el anio SLCB\n",
    "top_destinos.sort_values('total').head(10)"
   ]
  },
  {
   "cell_type": "code",
   "execution_count": null,
   "metadata": {},
   "outputs": [],
   "source": [
    "# top 10 de destinos de tasa anual\n",
    "top_destinos.sort_values(['Porcentaje_anual'],ascending=False).head(10)"
   ]
  },
  {
   "cell_type": "code",
   "execution_count": null,
   "metadata": {},
   "outputs": [],
   "source": [
    "# top 10 de destinos con minimo de 12 vuelos al anio\n",
    "top_destinos[top_destinos['total']>=12].sort_values(['Porcentaje_1'],ascending=False).head(10)"
   ]
  },
  {
   "cell_type": "code",
   "execution_count": null,
   "metadata": {},
   "outputs": [],
   "source": [
    "# filtrar por cantidad de vuelos al anio\n",
    "DesI_filter = top_destinos[top_destinos['total']<=12]['Des-I'].unique()\n",
    "dataset_SCL = dataset_SCL[~dataset_SCL['Des-I'].isin(DesI_filter)]"
   ]
  },
  {
   "attachments": {},
   "cell_type": "markdown",
   "metadata": {},
   "source": [
    "Observamos que:\n",
    "- Lima, Sao paulo y Antofagasta son las ciudades que mas cantidad de vuelos presentan atrasos y una tasa de retraso de 23%, 25% y 15% respectivamente.\n",
    "- Lima, Sao paulo y Antofagasta tienen una tasa de vuelos anual de 7.7%, 5.2% y 8.4% respectivamente.\n",
    "- Antofagasta, Lima y Calama son las ciudades que mas cantidad de vuelos presentan, Calama representa el 7.5% de tasa anual.\n",
    "- ciudades con un pocos vuelos al anio presentaron un retraso superior a 15 min, lo que agregaria ruido a las metricas, por eso selecionamos que tenga como minimo 12 vuelos al anio\n",
    "- Sydney, Melbourne y Rosario son los destinos con mayor tasa de atraso con 58%, 55% y 40% respectivamente"
   ]
  },
  {
   "cell_type": "code",
   "execution_count": null,
   "metadata": {},
   "outputs": [],
   "source": [
    "cols = ['Des-I', 'atraso_15']\n",
    "dataset_SCL_melt= dataset_SCL[cols].melt(id_vars='atraso_15', var_name='cols')\n",
    "\n",
    "g = sns.displot(\n",
    "    data=dataset_SCL_melt,\n",
    "    x='value',\n",
    "    col='cols',\n",
    "    hue='atraso_15',\n",
    "    multiple='fill',\n",
    "    stat='proportion',\n",
    "    col_wrap=1,\n",
    "    height=5, \n",
    "    aspect=2,\n",
    "    facet_kws={'sharey': False, 'sharex': False}\n",
    ")\n",
    "# plt.xlabel('Destinos')\n",
    "# plt.ylabel('Proporcion')\n",
    "# plt.title('Propocion de vuelos atrasados por destino')\n",
    "# plt.setp(ax.get_xticklabels(), rotation=90)\n",
    "\n",
    "for ax in g.axes:\n",
    "    # plt.figure(figsize = (15, 8))\n",
    "    plt.xlabel('Destinos')\n",
    "    plt.ylabel('Proporcion')\n",
    "    plt.title('Propocion de vuelos atrasados por destino')\n",
    "    plt.setp(ax.get_xticklabels(), rotation=90)\n",
    "    ax.axhline(y=0.5, color='red', linestyle='--')"
   ]
  },
  {
   "cell_type": "code",
   "execution_count": null,
   "metadata": {},
   "outputs": [],
   "source": [
    "# Exportar las columnas adicionales a un archivo .csv\n",
    "dataset_SCL.to_csv(path.data_processed_dir('synthetic_features.csv'), index=False)"
   ]
  },
  {
   "attachments": {},
   "cell_type": "markdown",
   "metadata": {},
   "source": [
    "3. ¿Cómo se compone la tasa de atraso por destino, aerolínea, mes del año, día de la semana, temporada, tipo de vuelo?\n",
    "¿Qué variables esperarías que más influyeran en predecir atrasos?\n",
    "\n",
    "¿Cómo se compone la tasa de atraso por destino, aerolínea, mes del año, día de la semana, temporada, tipo de vuelo?\n",
    "- Lima, Sao paulo y Antofagasta son las ciudades que mas cantidad de vuelos presentan atrasos y una tasa de retraso de 23%, 25% y 15% respectivamente.\n",
    "-  El Grupo Latam tiene una tasa del 60% en vuelos con atraso mayores a 15 min para el 2017 en la operacion total de vuelos, seguido por Sky Airlines con un 21% y Latin American Wings con 2.5%\n",
    "- El Grupo Latam tiene una tasa de atraso del 18% dentro de su operacion en el aeropuerto SCL, Plus Ultra Lineas Aereas con tasa de operacion 61% esta en el primer puesto,  seguido por Qantas Airways con 58%\n",
    "- Los meses de Julio, Octubre y Diciembre son los meses con mayor tasa de atraso\n",
    "- Los Lunes, Jueves y Viernes son los dias con mayor tasa de atraso\n",
    "- Un 33% de los vuelos del anio 2017 fueron hechos en temporada alta\n",
    "- El 31% o 116 dias del anio estan en temporada alta\n",
    "- Hay poca diferencia entre el atraso y la temporada alta\n",
    "- Los vuelos internacionales son los que mayor tasa de atraso presentan\n",
    "\n",
    "¿Qué variables esperarías que más influyeran en predecir atrasos?\n",
    "\n",
    "Las variables que espero que mas influyan al predecir un atraso son:\n",
    "- Destino\n",
    "- Aerolínea\n",
    "- Mes del año\n",
    "- Día de la semana\n",
    "- Temporada\n",
    "- Tipo de vuelo\n",
    "- Cambio de número de vuelo\n",
    "- Cambio de código aerolínea\n",
    "\n",
    "Esto lo podremos verificar con un test de chi-cuadrado"
   ]
  },
  {
   "cell_type": "code",
   "execution_count": null,
   "metadata": {},
   "outputs": [],
   "source": [
    "dataset_SCL.sample(5)"
   ]
  },
  {
   "cell_type": "code",
   "execution_count": null,
   "metadata": {},
   "outputs": [],
   "source": [
    "# Creamos una variable minuto\n",
    "dataset_SCL['MIN']=dataset_SCL['Fecha-I'].dt.minute"
   ]
  },
  {
   "cell_type": "code",
   "execution_count": null,
   "metadata": {},
   "outputs": [],
   "source": [
    "dataset_SCL.head(5)"
   ]
  },
  {
   "cell_type": "code",
   "execution_count": null,
   "metadata": {},
   "outputs": [],
   "source": [
    "dataset_SCL.columns"
   ]
  },
  {
   "attachments": {},
   "cell_type": "markdown",
   "metadata": {},
   "source": [
    "No usaremos las siguiente columnas:\n",
    "- Fecha-I = creamos las columnas 'DIA', 'MES', 'AÑO',  'HORA', 'MIN' que le ayudaran al modelo a interpertar mejor el formato fecha.\n",
    "- Vlo-I, Vlo-O = creamos las columna 'Vlo_change' que le ayudaran al modelo a interpertar mejor estas dos columnas.\n",
    "- Emp-I, Emp-O = creamos las columna 'Emp_change' que le ayudaran al modelo a interpertar mejor estas dos columnas.\n",
    "- Des-O = vimos que no representa gran variabilidad por eso se elimina por que no ayudaria al modelo a determinar un atraso.\n",
    "- dif_min = por que esta correlacionada con con nuestr variable target 'atraso_15' ya se formo apartir de ella. \n",
    "- Fecha-O = hace parte de la creacion del targe. \n",
    "- SIGLADES = por que tenemos la columna 'Des-I' que resume mejor esta columna."
   ]
  },
  {
   "cell_type": "code",
   "execution_count": null,
   "metadata": {},
   "outputs": [],
   "source": [
    "data_train = dataset_SCL[['DIA', 'MES', 'AÑO',  'HORA', 'MIN', 'periodo_dia', 'DIANOM', 'MESNOM','Des-I', 'TIPOVUELO', 'OPERA', 'Vlo_change', 'Emp_change', 'temporada_alta', 'atraso_15']]\n",
    "data_train.head(5)"
   ]
  },
  {
   "cell_type": "code",
   "execution_count": null,
   "metadata": {},
   "outputs": [],
   "source": [
    "# Exportar las columnas adicionales a un archivo .csv\n",
    "data_train.to_csv(path.data_processed_dir('data_train.csv'), index=False)"
   ]
  },
  {
   "cell_type": "code",
   "execution_count": null,
   "metadata": {},
   "outputs": [],
   "source": []
  },
  {
   "cell_type": "code",
   "execution_count": null,
   "metadata": {},
   "outputs": [],
   "source": []
  },
  {
   "cell_type": "code",
   "execution_count": 25,
   "metadata": {},
   "outputs": [
    {
     "name": "stdout",
     "output_type": "stream",
     "text": [
      "Resampled dataset shape Counter({4: 500, 0: 500, 1: 150, 3: 100, 2: 100})\n"
     ]
    }
   ],
   "source": [
    "from sklearn.datasets import make_classification\n",
    "from collections import Counter\n",
    "from imblearn.over_sampling import SMOTE \n",
    "X, y = make_classification(n_classes=5, \n",
    "    class_sep=2, \n",
    "    weights=[0.15, 0.15, 0.1, 0.1, 0.5], \n",
    "    n_informative=4, \n",
    "    n_redundant=1, \n",
    "    flip_y=0,\n",
    "    n_features=20, \n",
    "    n_clusters_per_class=1,\n",
    "    n_samples=1000,\n",
    "    random_state=10)\n",
    "\n",
    "sample_strategy = {4: 500, 0: 500, 1: 150, 2: 100, 3: 100}\n",
    "\n",
    "sm = SMOTE(sampling_strategy=sample_strategy, random_state=0)\n",
    "X_res, y_res = sm.fit_resample(X, y)\n",
    "print('Resampled dataset shape %s' % Counter(y_res))\n"
   ]
  },
  {
   "cell_type": "code",
   "execution_count": 26,
   "metadata": {},
   "outputs": [
    {
     "data": {
      "text/plain": [
       "array([[ 0.01100555,  0.28275741, -1.15401276, ..., -0.76721122,\n",
       "        -1.74673014,  2.00470101],\n",
       "       [-1.23697692,  0.46976009, -1.59768652, ..., -1.01906176,\n",
       "         1.64350349,  3.20444068],\n",
       "       [ 0.49676335,  0.33648677, -2.45397131, ...,  1.19609421,\n",
       "        -0.09635606,  2.35973292],\n",
       "       ...,\n",
       "       [ 0.23067553, -0.14050011, -1.03281287, ..., -0.95439772,\n",
       "        -1.05010457,  0.2027728 ],\n",
       "       [ 0.12918128,  0.0648892 , -2.83526427, ..., -0.43800233,\n",
       "        -0.08908201, -3.84171755],\n",
       "       [ 0.4958648 ,  0.21389937, -2.70280863, ..., -1.38934506,\n",
       "        -0.13038127,  1.91191046]])"
      ]
     },
     "execution_count": 26,
     "metadata": {},
     "output_type": "execute_result"
    }
   ],
   "source": [
    "X"
   ]
  },
  {
   "cell_type": "code",
   "execution_count": null,
   "metadata": {},
   "outputs": [],
   "source": []
  }
 ],
 "metadata": {
  "kernelspec": {
   "display_name": "latam_airlines",
   "language": "python",
   "name": "python3"
  },
  "language_info": {
   "codemirror_mode": {
    "name": "ipython",
    "version": 3
   },
   "file_extension": ".py",
   "mimetype": "text/x-python",
   "name": "python",
   "nbconvert_exporter": "python",
   "pygments_lexer": "ipython3",
   "version": "3.10.9"
  },
  "orig_nbformat": 4,
  "vscode": {
   "interpreter": {
    "hash": "fce30770c70df1231e58a4ba7ac7c20698e43e2829a791ca48f11e1d9cd05121"
   }
  }
 },
 "nbformat": 4,
 "nbformat_minor": 2
}
